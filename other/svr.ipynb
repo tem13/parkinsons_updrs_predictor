{
 "cells": [
  {
   "cell_type": "markdown",
   "source": "# SVR",
   "metadata": {
    "formattedRanges": [],
    "is_collapsed": false,
    "cell_id": "acce731b60f448b0af102bc0d156a678",
    "tags": [],
    "deepnote_cell_type": "text-cell-h1"
   }
  },
  {
   "cell_type": "code",
   "source": "# Import file handling\nimport joblib\n\n# Import numerical and dataframe handling\nimport numpy as np\nimport pandas as pd\n\n# Import plotting functionality\nimport matplotlib.pyplot as plt\nimport seaborn as sns\n\n# scikit-learn data utilities\nfrom sklearn.model_selection import train_test_split\n\n# Model scoring\nfrom sklearn import metrics\nfrom sklearn.metrics import r2_score\nfrom sklearn.metrics import mean_absolute_error\nfrom sklearn.metrics import mean_squared_error\nfrom sklearn.metrics import accuracy_score\n\n# Import svm\nfrom sklearn import svm\nfrom sklearn.svm import SVR\n\n# \nfrom sklearn.pipeline import make_pipeline\nfrom sklearn.preprocessing import StandardScaler\nfrom sklearn.decomposition import PCA\nfrom sklearn.preprocessing import MinMaxScaler",
   "metadata": {
    "tags": [],
    "cell_id": "8da49b4e-508d-4cac-9c30-ac4d002b37fc",
    "deepnote_to_be_reexecuted": false,
    "source_hash": "2f2f43f5",
    "execution_start": 1659723907872,
    "execution_millis": 5089,
    "deepnote_cell_type": "code",
    "deepnote_cell_height": 598
   },
   "outputs": [],
   "execution_count": null
  },
  {
   "cell_type": "markdown",
   "source": "## Data",
   "metadata": {
    "formattedRanges": [],
    "is_collapsed": false,
    "cell_id": "9da9463b4fa84ce7b240930c89954d43",
    "tags": [],
    "deepnote_cell_type": "text-cell-h2"
   }
  },
  {
   "cell_type": "code",
   "source": "data = pd.read_csv('../data/parkinsons_updrs.data')",
   "metadata": {
    "cell_id": "aea4a53e249646ca99c40251861f7409",
    "tags": [],
    "deepnote_to_be_reexecuted": false,
    "source_hash": "107a3a79",
    "execution_start": 1659723912976,
    "execution_millis": 75,
    "deepnote_table_state": {
     "pageSize": 10,
     "pageIndex": 0,
     "filters": [],
     "sortBy": []
    },
    "deepnote_table_loading": false,
    "deepnote_table_invalid": false,
    "deepnote_cell_type": "code",
    "deepnote_cell_height": 76
   },
   "outputs": [],
   "execution_count": null
  },
  {
   "cell_type": "code",
   "metadata": {
    "cell_id": "3b188c83576e4b5aadadb60a7bbaa1b0",
    "tags": [],
    "deepnote_to_be_reexecuted": false,
    "source_hash": "2e29bfb7",
    "execution_start": 1659723913077,
    "execution_millis": 21,
    "deepnote_cell_type": "code",
    "deepnote_cell_height": 333
   },
   "source": "sc_X = StandardScaler()\nsc_y = StandardScaler()\n\nX_cols=['age','Jitter(%)', 'Jitter(Abs)', 'Jitter:RAP', 'Jitter:PPQ5', 'Jitter:DDP', 'Shimmer', 'Shimmer(dB)', 'Shimmer:APQ3', 'Shimmer:APQ5', 'Shimmer:APQ11', 'Shimmer:DDA', 'HNR']\nsX_cols = ['age', 'DFA', 'Jitter(Abs)', 'PPE', 'HNR', 'RPDE', 'Shimmer:APQ11', 'Shimmer:APQ3', 'Shimmer:DDA']\ny_cols=['motor_UPDRS', 'total_UPDRS']\n\nX = sc_X.fit_transform(data[X_cols])\ny = sc_y.fit_transform(data[y_cols])\n\nseed = 0\ntest_size = 0.20\n\nX_train, X_test, y_train, y_test = train_test_split(X, y, test_size=test_size, random_state=seed)\nX_train, X_test, y_train, y_test = train_test_split(X_train, y_train, test_size=test_size, random_state=seed)",
   "outputs": [],
   "execution_count": null
  },
  {
   "cell_type": "code",
   "metadata": {
    "cell_id": "2a02bc16975b46a9a45a02fa0a76a4e0",
    "tags": [],
    "deepnote_to_be_reexecuted": false,
    "source_hash": "4e3e0715",
    "execution_start": 1659723913156,
    "execution_millis": 19,
    "deepnote_cell_type": "code",
    "deepnote_cell_height": 144.390625
   },
   "source": "print(X_train.shape, y_train.shape)\nprint(X_test.shape, y_test.shape)",
   "outputs": [
    {
     "name": "stdout",
     "text": "(3760, 13) (3760, 2)\n(940, 13) (940, 2)\n",
     "output_type": "stream"
    }
   ],
   "execution_count": null
  },
  {
   "cell_type": "markdown",
   "source": "## Model",
   "metadata": {
    "formattedRanges": [],
    "is_collapsed": false,
    "cell_id": "b6d71aa7c39c431a8237e23ae19dd31b",
    "tags": [],
    "deepnote_cell_type": "text-cell-h2"
   }
  },
  {
   "cell_type": "code",
   "metadata": {
    "cell_id": "081bfce71d6e427589013672193e4329",
    "tags": [],
    "deepnote_to_be_reexecuted": false,
    "source_hash": "8ffd1a8c",
    "execution_start": 1659723913174,
    "execution_millis": 17,
    "deepnote_cell_type": "code",
    "deepnote_cell_height": 76
   },
   "source": "regressor = SVR(kernel='rbf', gamma=0.6)",
   "outputs": [],
   "execution_count": null
  },
  {
   "cell_type": "markdown",
   "source": "## Testing",
   "metadata": {
    "formattedRanges": [],
    "is_collapsed": false,
    "cell_id": "e48991882d59469abfd0531e679cdc5e",
    "tags": [],
    "deepnote_cell_type": "text-cell-h2"
   }
  },
  {
   "cell_type": "code",
   "metadata": {
    "cell_id": "a79dd9a63f734e49907aa1d53894d501",
    "tags": [],
    "deepnote_to_be_reexecuted": false,
    "source_hash": "5d077add",
    "execution_start": 1659723913191,
    "execution_millis": 154,
    "deepnote_cell_type": "code",
    "deepnote_cell_height": 328
   },
   "source": "def get_metrics(regressor, target, X_train, y_train, X_test, y_test):\n    regressor.fit(X_train, y_train[:, target]) # 0: motor, 1: total\n\n    if (target == 0):\n        print(\"Motor\")\n    else:\n        print(\"Total\")\n\n    predictions = regressor.predict(X_test)\n    print(\"R2_Score:\", r2_score(y_test[:, target], predictions))\n    print(\"MAE:\", mean_absolute_error(y_test[:, target], predictions))\n    print(\"MSE:\", mean_squared_error(y_test[:, target], predictions))\n    print(\"RMSE:\", mean_squared_error(y_test[:, target], predictions, squared=False))\n\n    print(\"\\n\")",
   "outputs": [],
   "execution_count": null
  },
  {
   "cell_type": "code",
   "metadata": {
    "cell_id": "a645b35dc8fc495195062efa39775015",
    "tags": [],
    "deepnote_to_be_reexecuted": false,
    "source_hash": "1f29798c",
    "execution_start": 1659723913346,
    "execution_millis": 6164,
    "deepnote_cell_type": "code",
    "deepnote_cell_height": 381
   },
   "source": "get_metrics(regressor, 0, X_train, y_train, X_test, y_test)\nget_metrics(regressor, 1, X_train, y_train, X_test, y_test)",
   "outputs": [
    {
     "name": "stdout",
     "text": "Motor\nR2_Score: 0.4575688037176613\nMAE: 0.5497170456020415\nMSE: 0.5385813681272482\nRMSE: 0.7338810313172348\n\n\nTotal\nR2_Score: 0.4626170246408088\nMAE: 0.5485985775716092\nMSE: 0.545801457274293\nRMSE: 0.7387837689569885\n\n\n",
     "output_type": "stream"
    }
   ],
   "execution_count": null
  },
  {
   "cell_type": "markdown",
   "source": "## PCA",
   "metadata": {
    "formattedRanges": [],
    "is_collapsed": false,
    "cell_id": "87200c3fe543437a919781c9edc4aedf",
    "tags": [],
    "deepnote_cell_type": "text-cell-h2"
   }
  },
  {
   "cell_type": "code",
   "metadata": {
    "cell_id": "84bd6138a0274e498afd3636e5187ae8",
    "tags": [],
    "deepnote_to_be_reexecuted": false,
    "source_hash": "2f1dc426",
    "execution_start": 1659723919553,
    "execution_millis": 9879,
    "deepnote_table_state": {
     "pageSize": 25,
     "pageIndex": 0,
     "filters": [],
     "sortBy": []
    },
    "deepnote_table_loading": false,
    "deepnote_cell_type": "code",
    "deepnote_cell_height": 773,
    "deepnote_output_heights": [
     21.1875,
     473
    ]
   },
   "source": "plt.figure(figsize=(20,10)) \nsns.heatmap(data.corr(), annot=True)",
   "outputs": [
    {
     "output_type": "execute_result",
     "execution_count": 8,
     "data": {
      "text/plain": "<AxesSubplot:>"
     },
     "metadata": {}
    },
    {
     "data": {
      "text/plain": "<Figure size 1440x720 with 2 Axes>",
      "image/png": "[encoded data removed]"
     },
     "metadata": {
      "needs_background": "light",
      "image/png": {
       "width": 1116,
       "height": 650
      }
     },
     "output_type": "display_data"
    }
   ],
   "execution_count": null
  },
  {
   "cell_type": "code",
   "metadata": {
    "cell_id": "55e1a7d1db8f417eaca1f085fa866444",
    "tags": [],
    "deepnote_to_be_reexecuted": false,
    "source_hash": "be526b22",
    "execution_start": 1659723928908,
    "execution_millis": 11806102,
    "deepnote_cell_type": "code",
    "deepnote_cell_height": 94
   },
   "source": "minMaxScaler = MinMaxScaler()\nstandardScaler = StandardScaler()",
   "outputs": [],
   "execution_count": null
  },
  {
   "cell_type": "code",
   "metadata": {
    "cell_id": "7047eb3d0f784bc985dc585b7c1ac95a",
    "tags": [],
    "deepnote_to_be_reexecuted": false,
    "source_hash": "e6c19b3e",
    "execution_start": 1659723928959,
    "execution_millis": 11755317,
    "deepnote_cell_type": "code",
    "deepnote_cell_height": 130
   },
   "source": "X_cols.append('total_UPDRS')\nX_cols.append('motor_UPDRS')\n\ndataset = data[X_cols].copy()",
   "outputs": [],
   "execution_count": null
  },
  {
   "cell_type": "code",
   "metadata": {
    "cell_id": "06bb4a7633534883bf3651f8d8e0b740",
    "tags": [],
    "deepnote_to_be_reexecuted": false,
    "source_hash": "1bdd0dc9",
    "execution_start": 1659723928963,
    "execution_millis": 11806117,
    "deepnote_cell_type": "code",
    "deepnote_cell_height": 171,
    "deepnote_output_heights": [
     78.78125
    ]
   },
   "source": "dataset.columns",
   "outputs": [
    {
     "output_type": "execute_result",
     "execution_count": 11,
     "data": {
      "text/plain": "Index(['age', 'Jitter(%)', 'Jitter(Abs)', 'Jitter:RAP', 'Jitter:PPQ5',\n       'Jitter:DDP', 'Shimmer', 'Shimmer(dB)', 'Shimmer:APQ3', 'Shimmer:APQ5',\n       'Shimmer:APQ11', 'Shimmer:DDA', 'HNR', 'total_UPDRS', 'motor_UPDRS'],\n      dtype='object')"
     },
     "metadata": {}
    }
   ],
   "execution_count": null
  },
  {
   "cell_type": "code",
   "metadata": {
    "cell_id": "0bfe32d0da4643dc842607e170b23482",
    "tags": [],
    "deepnote_to_be_reexecuted": false,
    "source_hash": "28262860",
    "execution_start": 1659723928989,
    "execution_millis": 446,
    "deepnote_cell_type": "code",
    "deepnote_cell_height": 117
   },
   "source": "# data_scaled = pd.DataFrame(standardScaler.fit_transform(dataset), columns=dataset.columns)\nfeatures = ['age','Jitter(%)', 'Jitter(Abs)', 'Jitter:RAP', 'Jitter:PPQ5', 'Jitter:DDP', 'Shimmer', 'Shimmer(dB)', 'Shimmer:APQ3', 'Shimmer:APQ5', 'Shimmer:APQ11', 'Shimmer:DDA', 'HNR']\ndataset2 = data[features].copy()",
   "outputs": [],
   "execution_count": null
  },
  {
   "cell_type": "code",
   "metadata": {
    "cell_id": "dc360560bf28449b953b66c30d115de8",
    "tags": [],
    "deepnote_to_be_reexecuted": false,
    "source_hash": "b39e6d78",
    "execution_start": 1659723929171,
    "execution_millis": 17,
    "deepnote_cell_type": "code",
    "deepnote_cell_height": 76
   },
   "source": "data_scaled = pd.DataFrame(standardScaler.fit_transform(dataset2), columns=dataset2.columns)",
   "outputs": [],
   "execution_count": null
  },
  {
   "cell_type": "code",
   "source": "import joblib\n\n# Save scaler\n# joblib.dump(standardScaler, '/work/saved_scalers/svr_scaler_1') ",
   "metadata": {
    "cell_id": "cc4665f97ad545b4bcd57ff86ce23a9f",
    "tags": [],
    "deepnote_to_be_reexecuted": false,
    "source_hash": "87b291f1",
    "execution_start": 1659723929194,
    "execution_millis": 60,
    "deepnote_cell_type": "code",
    "deepnote_cell_height": 130,
    "deepnote_output_heights": [
     21.1875
    ]
   },
   "outputs": [],
   "execution_count": null
  },
  {
   "cell_type": "code",
   "metadata": {
    "cell_id": "f0b7871d3da64abba037697a6e261cec",
    "tags": [],
    "deepnote_to_be_reexecuted": false,
    "source_hash": "20c276ad",
    "execution_start": 1659723929258,
    "execution_millis": 38,
    "deepnote_cell_type": "code",
    "deepnote_cell_height": 112
   },
   "source": "pca = PCA()\n\ndata_pca = pd.DataFrame(pca.fit_transform(data_scaled))",
   "outputs": [],
   "execution_count": null
  },
  {
   "cell_type": "code",
   "source": "# Save pca\n# joblib.dump(pca, '/work/saved_scalers/svr_pca_1') ",
   "metadata": {
    "cell_id": "3c9fd9c38785458a8bf23f0ef57ef830",
    "tags": [],
    "deepnote_to_be_reexecuted": false,
    "source_hash": "20928af",
    "execution_start": 1659723929330,
    "execution_millis": 1,
    "deepnote_cell_type": "code",
    "deepnote_cell_height": 94,
    "deepnote_output_heights": [
     21.1875
    ]
   },
   "outputs": [],
   "execution_count": null
  },
  {
   "cell_type": "code",
   "metadata": {
    "cell_id": "20069421466044f6847b18be4dc1f38b",
    "tags": [],
    "deepnote_to_be_reexecuted": false,
    "source_hash": "2405501",
    "execution_start": 1659723929373,
    "execution_millis": 731,
    "deepnote_cell_type": "code",
    "deepnote_cell_height": 413,
    "deepnote_output_heights": [
     267
    ]
   },
   "source": "pd.DataFrame(pca.explained_variance_ratio_).plot.bar()\nplt.legend('')\nplt.xlabel('Principal Components')\nplt.ylabel('Explained Variance');",
   "outputs": [
    {
     "data": {
      "text/plain": "<Figure size 432x288 with 1 Axes>",
      "image/png": "[encoded data removed]"
     },
     "metadata": {
      "needs_background": "light",
      "image/png": {
       "width": 386,
       "height": 265
      }
     },
     "output_type": "display_data"
    }
   ],
   "execution_count": null
  },
  {
   "cell_type": "code",
   "metadata": {
    "cell_id": "2006bdfb6168456680a34a3e7f201f03",
    "tags": [],
    "deepnote_to_be_reexecuted": false,
    "source_hash": "17e025f6",
    "execution_start": 1659723930109,
    "execution_millis": 46,
    "deepnote_cell_type": "code",
    "deepnote_cell_height": 148
   },
   "source": "# X2 = data.loc[:,X_cols].values\nX2 = dataset2.loc[:,features].values\ny2 = dataset.loc[:,y_cols].values\n\nX2 = standardScaler.fit_transform(X2)",
   "outputs": [],
   "execution_count": null
  },
  {
   "cell_type": "code",
   "metadata": {
    "cell_id": "634c0aef479f4c4498719887f0ea7c67",
    "tags": [],
    "deepnote_to_be_reexecuted": false,
    "source_hash": "fd1c1d72",
    "execution_start": 1659723930162,
    "execution_millis": 6,
    "deepnote_cell_type": "code",
    "deepnote_cell_height": 94,
    "deepnote_output_heights": [
     21.1875
    ]
   },
   "source": "# Save scaler\n# joblib.dump(standardScaler, '/work/saved_scalers/svr_scaler_2') ",
   "outputs": [],
   "execution_count": null
  },
  {
   "cell_type": "code",
   "metadata": {
    "cell_id": "d7b867724f504e5b8d1e69301e158b1d",
    "tags": [],
    "deepnote_to_be_reexecuted": false,
    "source_hash": "799b89da",
    "execution_start": 1659723930175,
    "execution_millis": 393,
    "deepnote_cell_type": "code",
    "deepnote_cell_height": 135
   },
   "source": "pca = PCA(n_components=7)\nprincipalComponents = pca.fit_transform(X2)\nprincipalDf = pd.DataFrame(data = principalComponents\n             , columns = ['principal_component_1', 'principal_component_2','principal_component_3', 'principal_component_4','principal_component_5','principal_component_6', 'principal_component_7'])",
   "outputs": [],
   "execution_count": null
  },
  {
   "cell_type": "code",
   "metadata": {
    "cell_id": "4a600e865b1a4fd495bcfb3972eeb91f",
    "tags": [],
    "deepnote_to_be_reexecuted": false,
    "source_hash": "7baf51ab",
    "execution_start": 1659723930571,
    "execution_millis": 7,
    "deepnote_cell_type": "code",
    "deepnote_cell_height": 94,
    "deepnote_output_heights": [
     21.1875
    ]
   },
   "source": "# Save pca\n# joblib.dump(pca, '/work/saved_scalers/svr_pca_2') ",
   "outputs": [],
   "execution_count": null
  },
  {
   "cell_type": "code",
   "metadata": {
    "cell_id": "43a6f57382964ee28cd3921716e44d23",
    "tags": [],
    "deepnote_to_be_reexecuted": false,
    "source_hash": "8407dc0b",
    "execution_start": 1659723930581,
    "execution_millis": 226,
    "deepnote_cell_type": "code",
    "deepnote_cell_height": 1228
   },
   "source": "finalDf = pd.concat([principalDf, dataset[y_cols]], axis = 1)\ndisplay(finalDf)",
   "outputs": [
    {
     "data": {
      "application/vnd.deepnote.dataframe.v3+json": {
       "column_count": 9,
       "row_count": 5875,
       "columns": [
        {
         "name": "principal_component_1",
         "dtype": "float64",
         "stats": {
          "unique_count": 5875,
          "nan_count": 0,
          "min": "-4.262531533667559",
          "max": "31.272902733445807",
          "histogram": [
           {
            "bin_start": -4.262531533667559,
            "bin_end": -0.7089881069562223,
            "count": 2860
           },
           {
            "bin_start": -0.7089881069562223,
            "bin_end": 2.8445553197551146,
            "count": 2496
           },
           {
            "bin_start": 2.8445553197551146,
            "bin_end": 6.398098746466452,
            "count": 318
           },
           {
            "bin_start": 6.398098746466452,
            "bin_end": 9.951642173177788,
            "count": 95
           },
           {
            "bin_start": 9.951642173177788,
            "bin_end": 13.505185599889124,
            "count": 36
           },
           {
            "bin_start": 13.505185599889124,
            "bin_end": 17.058729026600464,
            "count": 29
           },
           {
            "bin_start": 17.058729026600464,
            "bin_end": 20.6122724533118,
            "count": 22
           },
           {
            "bin_start": 20.6122724533118,
            "bin_end": 24.165815880023136,
            "count": 10
           },
           {
            "bin_start": 24.165815880023136,
            "bin_end": 27.71935930673447,
            "count": 4
           },
           {
            "bin_start": 27.71935930673447,
            "bin_end": 31.272902733445807,
            "count": 5
           }
          ]
         }
        },
        {
         "name": "principal_component_2",
         "dtype": "float64",
         "stats": {
          "unique_count": 5875,
          "nan_count": 0,
          "min": "-13.321867751238461",
          "max": "16.849732747832274",
          "histogram": [
           {
            "bin_start": -13.321867751238461,
            "bin_end": -10.304707701331388,
            "count": 1
           },
           {
            "bin_start": -10.304707701331388,
            "bin_end": -7.287547651424314,
            "count": 2
           },
           {
            "bin_start": -7.287547651424314,
            "bin_end": -4.270387601517239,
            "count": 39
           },
           {
            "bin_start": -4.270387601517239,
            "bin_end": -1.2532275516101663,
            "count": 542
           },
           {
            "bin_start": -1.2532275516101663,
            "bin_end": 1.7639324982969065,
            "count": 5084
           },
           {
            "bin_start": 1.7639324982969065,
            "bin_end": 4.781092548203983,
            "count": 180
           },
           {
            "bin_start": 4.781092548203983,
            "bin_end": 7.7982525981110555,
            "count": 17
           },
           {
            "bin_start": 7.7982525981110555,
            "bin_end": 10.815412648018128,
            "count": 3
           },
           {
            "bin_start": 10.815412648018128,
            "bin_end": 13.832572697925201,
            "count": 3
           },
           {
            "bin_start": 13.832572697925201,
            "bin_end": 16.849732747832274,
            "count": 4
           }
          ]
         }
        },
        {
         "name": "principal_component_3",
         "dtype": "float64",
         "stats": {
          "unique_count": 5875,
          "nan_count": 0,
          "min": "-2.9143084075733805",
          "max": "3.390074080145805",
          "histogram": [
           {
            "bin_start": -2.9143084075733805,
            "bin_end": -2.283870158801462,
            "count": 44
           },
           {
            "bin_start": -2.283870158801462,
            "bin_end": -1.6534319100295434,
            "count": 110
           },
           {
            "bin_start": -1.6534319100295434,
            "bin_end": -1.0229936612576247,
            "count": 676
           },
           {
            "bin_start": -1.0229936612576247,
            "bin_end": -0.39255541248570625,
            "count": 1326
           },
           {
            "bin_start": -0.39255541248570625,
            "bin_end": 0.2378828362862122,
            "count": 1234
           },
           {
            "bin_start": 0.2378828362862122,
            "bin_end": 0.8683210850581311,
            "count": 1576
           },
           {
            "bin_start": 0.8683210850581311,
            "bin_end": 1.4987593338300496,
            "count": 564
           },
           {
            "bin_start": 1.4987593338300496,
            "bin_end": 2.129197582601968,
            "count": 214
           },
           {
            "bin_start": 2.129197582601968,
            "bin_end": 2.7596358313738865,
            "count": 27
           },
           {
            "bin_start": 2.7596358313738865,
            "bin_end": 3.390074080145805,
            "count": 104
           }
          ]
         }
        },
        {
         "name": "principal_component_4",
         "dtype": "float64",
         "stats": {
          "unique_count": 5875,
          "nan_count": 0,
          "min": "-2.9494255171785553",
          "max": "8.784138928050696",
          "histogram": [
           {
            "bin_start": -2.9494255171785553,
            "bin_end": -1.77606907265563,
            "count": 12
           },
           {
            "bin_start": -1.77606907265563,
            "bin_end": -0.6027126281327049,
            "count": 792
           },
           {
            "bin_start": -0.6027126281327049,
            "bin_end": 0.5706438163902203,
            "count": 4282
           },
           {
            "bin_start": 0.5706438163902203,
            "bin_end": 1.7440002609131455,
            "count": 754
           },
           {
            "bin_start": 1.7440002609131455,
            "bin_end": 2.9173567054360707,
            "count": 27
           },
           {
            "bin_start": 2.9173567054360707,
            "bin_end": 4.0907131499589955,
            "count": 4
           },
           {
            "bin_start": 4.0907131499589955,
            "bin_end": 5.264069594481921,
            "count": 0
           },
           {
            "bin_start": 5.264069594481921,
            "bin_end": 6.437426039004846,
            "count": 0
           },
           {
            "bin_start": 6.437426039004846,
            "bin_end": 7.610782483527771,
            "count": 3
           },
           {
            "bin_start": 7.610782483527771,
            "bin_end": 8.784138928050696,
            "count": 1
           }
          ]
         }
        },
        {
         "name": "principal_component_5",
         "dtype": "float64",
         "stats": {
          "unique_count": 5875,
          "nan_count": 0,
          "min": "-5.027549138097032",
          "max": "9.316303522882604",
          "histogram": [
           {
            "bin_start": -5.027549138097032,
            "bin_end": -3.5931638719990686,
            "count": 7
           },
           {
            "bin_start": -3.5931638719990686,
            "bin_end": -2.158778605901105,
            "count": 7
           },
           {
            "bin_start": -2.158778605901105,
            "bin_end": -0.7243933398031421,
            "count": 178
           },
           {
            "bin_start": -0.7243933398031421,
            "bin_end": 0.7099919262948218,
            "count": 5560
           },
           {
            "bin_start": 0.7099919262948218,
            "bin_end": 2.1443771923927857,
            "count": 119
           },
           {
            "bin_start": 2.1443771923927857,
            "bin_end": 3.578762458490748,
            "count": 0
           },
           {
            "bin_start": 3.578762458490748,
            "bin_end": 5.013147724588712,
            "count": 1
           },
           {
            "bin_start": 5.013147724588712,
            "bin_end": 6.447532990686676,
            "count": 1
           },
           {
            "bin_start": 6.447532990686676,
            "bin_end": 7.8819182567846395,
            "count": 1
           },
           {
            "bin_start": 7.8819182567846395,
            "bin_end": 9.316303522882604,
            "count": 1
           }
          ]
         }
        },
        {
         "name": "principal_component_6",
         "dtype": "float64",
         "stats": {
          "unique_count": 5875,
          "nan_count": 0,
          "min": "-2.851268291875496",
          "max": "4.480426835935867",
          "histogram": [
           {
            "bin_start": -2.851268291875496,
            "bin_end": -2.1180987790943595,
            "count": 4
           },
           {
            "bin_start": -2.1180987790943595,
            "bin_end": -1.3849292663132233,
            "count": 9
           },
           {
            "bin_start": -1.3849292663132233,
            "bin_end": -0.6517597535320871,
            "count": 134
           },
           {
            "bin_start": -0.6517597535320871,
            "bin_end": 0.08140975924904925,
            "count": 3610
           },
           {
            "bin_start": 0.08140975924904925,
            "bin_end": 0.8145792720301857,
            "count": 2001
           },
           {
            "bin_start": 0.8145792720301857,
            "bin_end": 1.5477487848113216,
            "count": 84
           },
           {
            "bin_start": 1.5477487848113216,
            "bin_end": 2.2809182975924585,
            "count": 18
           },
           {
            "bin_start": 2.2809182975924585,
            "bin_end": 3.0140878103735944,
            "count": 9
           },
           {
            "bin_start": 3.0140878103735944,
            "bin_end": 3.7472573231547304,
            "count": 3
           },
           {
            "bin_start": 3.7472573231547304,
            "bin_end": 4.480426835935867,
            "count": 3
           }
          ]
         }
        },
        {
         "name": "principal_component_7",
         "dtype": "float64",
         "stats": {
          "unique_count": 5875,
          "nan_count": 0,
          "min": "-3.083416497152739",
          "max": "4.230266398051624",
          "histogram": [
           {
            "bin_start": -3.083416497152739,
            "bin_end": -2.352048207632303,
            "count": 4
           },
           {
            "bin_start": -2.352048207632303,
            "bin_end": -1.6206799181118665,
            "count": 13
           },
           {
            "bin_start": -1.6206799181118665,
            "bin_end": -0.8893116285914302,
            "count": 29
           },
           {
            "bin_start": -0.8893116285914302,
            "bin_end": -0.1579433390709939,
            "count": 528
           },
           {
            "bin_start": -0.1579433390709939,
            "bin_end": 0.5734249504494424,
            "count": 5228
           },
           {
            "bin_start": 0.5734249504494424,
            "bin_end": 1.3047932399698787,
            "count": 56
           },
           {
            "bin_start": 1.3047932399698787,
            "bin_end": 2.0361615294903155,
            "count": 12
           },
           {
            "bin_start": 2.0361615294903155,
            "bin_end": 2.7675298190107513,
            "count": 3
           },
           {
            "bin_start": 2.7675298190107513,
            "bin_end": 3.498898108531187,
            "count": 1
           },
           {
            "bin_start": 3.498898108531187,
            "bin_end": 4.230266398051624,
            "count": 1
           }
          ]
         }
        },
        {
         "name": "motor_UPDRS",
         "dtype": "float64",
         "stats": {
          "unique_count": 1080,
          "nan_count": 0,
          "min": "5.0377",
          "max": "39.511",
          "histogram": [
           {
            "bin_start": 5.0377,
            "bin_end": 8.48503,
            "count": 299
           },
           {
            "bin_start": 8.48503,
            "bin_end": 11.93236,
            "count": 456
           },
           {
            "bin_start": 11.93236,
            "bin_end": 15.37969,
            "count": 894
           },
           {
            "bin_start": 15.37969,
            "bin_end": 18.82702,
            "count": 905
           },
           {
            "bin_start": 18.82702,
            "bin_end": 22.274350000000002,
            "count": 600
           },
           {
            "bin_start": 22.274350000000002,
            "bin_end": 25.72168,
            "count": 788
           },
           {
            "bin_start": 25.72168,
            "bin_end": 29.16901,
            "count": 808
           },
           {
            "bin_start": 29.16901,
            "bin_end": 32.61634,
            "count": 588
           },
           {
            "bin_start": 32.61634,
            "bin_end": 36.06367,
            "count": 332
           },
           {
            "bin_start": 36.06367,
            "bin_end": 39.511,
            "count": 205
           }
          ]
         }
        },
        {
         "name": "total_UPDRS",
         "dtype": "float64",
         "stats": {
          "unique_count": 1129,
          "nan_count": 0,
          "min": "7.0",
          "max": "54.992",
          "histogram": [
           {
            "bin_start": 7,
            "bin_end": 11.799199999999999,
            "count": 249
           },
           {
            "bin_start": 11.799199999999999,
            "bin_end": 16.598399999999998,
            "count": 471
           },
           {
            "bin_start": 16.598399999999998,
            "bin_end": 21.3976,
            "count": 754
           },
           {
            "bin_start": 21.3976,
            "bin_end": 26.1968,
            "count": 984
           },
           {
            "bin_start": 26.1968,
            "bin_end": 30.996,
            "count": 1044
           },
           {
            "bin_start": 30.996,
            "bin_end": 35.7952,
            "count": 836
           },
           {
            "bin_start": 35.7952,
            "bin_end": 40.5944,
            "count": 591
           },
           {
            "bin_start": 40.5944,
            "bin_end": 45.3936,
            "count": 550
           },
           {
            "bin_start": 45.3936,
            "bin_end": 50.1928,
            "count": 183
           },
           {
            "bin_start": 50.1928,
            "bin_end": 54.992,
            "count": 213
           }
          ]
         }
        },
        {
         "name": "_deepnote_index_column",
         "dtype": "int64"
        }
       ],
       "rows": [
        {
         "principal_component_1": -0.46532809246897977,
         "principal_component_2": 0.5021848442822429,
         "principal_component_3": -0.9558874688301426,
         "principal_component_4": 0.10545745174850733,
         "principal_component_5": 0.13699808569714483,
         "principal_component_6": -0.5450311137639369,
         "principal_component_7": 0.2202048782829925,
         "motor_UPDRS": 28.199,
         "total_UPDRS": 34.398,
         "_deepnote_index_column": 0
        },
        {
         "principal_component_1": -2.1047759981622503,
         "principal_component_2": -0.21449317702497595,
         "principal_component_3": -0.8060510741229028,
         "principal_component_4": 0.7859080456524689,
         "principal_component_5": -0.19803404217177262,
         "principal_component_6": 0.1373807525485867,
         "principal_component_7": -0.029541203384155914,
         "motor_UPDRS": 28.447,
         "total_UPDRS": 34.894,
         "_deepnote_index_column": 1
        },
        {
         "principal_component_1": -1.7476727077253633,
         "principal_component_2": 0.2828042624244705,
         "principal_component_3": -0.9588952087314971,
         "principal_component_4": 0.005098463234141848,
         "principal_component_5": 0.2821269523829106,
         "principal_component_6": -0.134851101763866,
         "principal_component_7": 0.0045714373481218085,
         "motor_UPDRS": 28.695,
         "total_UPDRS": 35.389,
         "_deepnote_index_column": 2
        },
        {
         "principal_component_1": -1.1960947569933142,
         "principal_component_2": -0.09739884815783086,
         "principal_component_3": -0.8329384146357117,
         "principal_component_4": 0.4315571005951439,
         "principal_component_5": 0.04577680055489215,
         "principal_component_6": 0.08434027159756828,
         "principal_component_7": -0.1289172809962633,
         "motor_UPDRS": 28.905,
         "total_UPDRS": 35.81,
         "_deepnote_index_column": 3
        },
        {
         "principal_component_1": -2.2714458404809967,
         "principal_component_2": -0.14217086282207722,
         "principal_component_3": -0.8564325248631788,
         "principal_component_4": 0.43847017173650615,
         "principal_component_5": 0.0036228207692234884,
         "principal_component_6": 0.3132458228324255,
         "principal_component_7": -0.06389869594418641,
         "motor_UPDRS": 29.187,
         "total_UPDRS": 36.375,
         "_deepnote_index_column": 4
        },
        {
         "principal_component_1": -1.5743243685144552,
         "principal_component_2": -0.4225898858175023,
         "principal_component_3": -0.793923967449314,
         "principal_component_4": -0.0004336977961457654,
         "principal_component_5": 0.252730567188874,
         "principal_component_6": 0.09883221824815211,
         "principal_component_7": -0.03292897462097497,
         "motor_UPDRS": 29.435,
         "total_UPDRS": 36.87,
         "_deepnote_index_column": 5
        },
        {
         "principal_component_1": 0.29294080984789594,
         "principal_component_2": -1.3963115342244872,
         "principal_component_3": -0.47519195126555275,
         "principal_component_4": 0.5307630357007193,
         "principal_component_5": -0.09446154998145659,
         "principal_component_6": -0.09294768117412722,
         "principal_component_7": 0.09898983596588658,
         "motor_UPDRS": 29.682,
         "total_UPDRS": 37.363,
         "_deepnote_index_column": 6
        },
        {
         "principal_component_1": -1.27667044842114,
         "principal_component_2": 0.04940307602620469,
         "principal_component_3": -0.8800737517275953,
         "principal_component_4": 0.15549380677548347,
         "principal_component_5": 0.30952830394255826,
         "principal_component_6": -0.07714927236767764,
         "principal_component_7": -0.05833838201736317,
         "motor_UPDRS": 29.928,
         "total_UPDRS": 37.857,
         "_deepnote_index_column": 7
        },
        {
         "principal_component_1": -0.22190256955922924,
         "principal_component_2": -1.1246270666064389,
         "principal_component_3": -0.5841309970081342,
         "principal_component_4": 0.17562731613473667,
         "principal_component_5": 0.11170142317841117,
         "principal_component_6": 0.20117056975924708,
         "principal_component_7": 0.01792874561941044,
         "motor_UPDRS": 30.177,
         "total_UPDRS": 38.353,
         "_deepnote_index_column": 8
        },
        {
         "principal_component_1": -0.2201113342318912,
         "principal_component_2": -0.6435343377056716,
         "principal_component_3": -0.6660490066162684,
         "principal_component_4": 0.388990827749504,
         "principal_component_5": -0.08511695541074334,
         "principal_component_6": -0.31875689759008524,
         "principal_component_7": 0.08772749977784407,
         "motor_UPDRS": 30.424,
         "total_UPDRS": 38.849,
         "_deepnote_index_column": 9
        },
        {
         "principal_component_1": -1.4807669806210424,
         "principal_component_2": 0.1798703038492758,
         "principal_component_3": -0.8891302764442198,
         "principal_component_4": 0.6241808146729813,
         "principal_component_5": -0.05356024369277524,
         "principal_component_6": 0.052103713051070484,
         "principal_component_7": 0.0020947423435544042,
         "motor_UPDRS": 30.67,
         "total_UPDRS": 39.34,
         "_deepnote_index_column": 10
        },
        {
         "principal_component_1": -1.0609868588840667,
         "principal_component_2": 0.07293871446065893,
         "principal_component_3": -0.8794035936007876,
         "principal_component_4": 0.34765847020076157,
         "principal_component_5": 0.118939548343838,
         "principal_component_6": 0.272377070237183,
         "principal_component_7": -0.007819510040348199,
         "motor_UPDRS": 30.917,
         "total_UPDRS": 39.834,
         "_deepnote_index_column": 11
        },
        {
         "principal_component_1": -0.9720857798318411,
         "principal_component_2": 0.008798979385843092,
         "principal_component_3": -0.8718704686956515,
         "principal_component_4": -0.028680837309160826,
         "principal_component_5": 0.16464501374697105,
         "principal_component_6": -0.10218365326314033,
         "principal_component_7": -0.02298837399665542,
         "motor_UPDRS": 31.309,
         "total_UPDRS": 40.412,
         "_deepnote_index_column": 12
        },
        {
         "principal_component_1": -1.8837806547139813,
         "principal_component_2": -0.12575262377589239,
         "principal_component_3": -0.8577018013031021,
         "principal_component_4": 0.22772483097634968,
         "principal_component_5": 0.06633011238417534,
         "principal_component_6": 0.1474024606553087,
         "principal_component_7": 0.009589146913512942,
         "motor_UPDRS": 31.776,
         "total_UPDRS": 41.034,
         "_deepnote_index_column": 13
        },
        {
         "principal_component_1": -0.9191812848313202,
         "principal_component_2": -0.08142965454536326,
         "principal_component_3": -0.8351108493315623,
         "principal_component_4": 0.25847632341105775,
         "principal_component_5": -0.04873537854207926,
         "principal_component_6": -0.053409362496078375,
         "principal_component_7": 0.05683599288356379,
         "motor_UPDRS": 32.243,
         "total_UPDRS": 41.657,
         "_deepnote_index_column": 14
        },
        {
         "principal_component_1": -0.9974554021816345,
         "principal_component_2": -0.49709940298112765,
         "principal_component_3": -0.7562205099743181,
         "principal_component_4": -0.03622047571110121,
         "principal_component_5": 0.10378731155987996,
         "principal_component_6": -0.05172484845056081,
         "principal_component_7": -0.059229646464042794,
         "motor_UPDRS": 32.71,
         "total_UPDRS": 42.28,
         "_deepnote_index_column": 15
        },
        {
         "principal_component_1": -0.35005220320881425,
         "principal_component_2": 0.21844988985842156,
         "principal_component_3": -0.9050997044861587,
         "principal_component_4": -0.14589033945648266,
         "principal_component_5": 0.11549730603289245,
         "principal_component_6": -0.3672445145238933,
         "principal_component_7": 0.1028602234508744,
         "motor_UPDRS": 33.178,
         "total_UPDRS": 42.904,
         "_deepnote_index_column": 16
        },
        {
         "principal_component_1": -0.2254327450913549,
         "principal_component_2": -0.008556032618594877,
         "principal_component_3": -0.8317563372840774,
         "principal_component_4": 0.18004142529536893,
         "principal_component_5": 0.004484610504060463,
         "principal_component_6": -0.17808869481912337,
         "principal_component_7": 0.03328634925118245,
         "motor_UPDRS": 33.643,
         "total_UPDRS": 43.524,
         "_deepnote_index_column": 17
        },
        {
         "principal_component_1": -0.7847006880111501,
         "principal_component_2": 0.2289267572016805,
         "principal_component_3": -0.9052714399395166,
         "principal_component_4": 0.18325749070626307,
         "principal_component_5": 0.03240192125485105,
         "principal_component_6": -0.035060089213615114,
         "principal_component_7": 0.047230431182893565,
         "motor_UPDRS": 34.109,
         "total_UPDRS": 44.146,
         "_deepnote_index_column": 18
        },
        {
         "principal_component_1": -0.8472688226216676,
         "principal_component_2": -0.7168996143813882,
         "principal_component_3": -0.6906242100916067,
         "principal_component_4": 0.2646537362868377,
         "principal_component_5": 0.18878094086757038,
         "principal_component_6": 0.08470002313366738,
         "principal_component_7": 0.10991013434984076,
         "motor_UPDRS": 34.646,
         "total_UPDRS": 44.861,
         "_deepnote_index_column": 19
        },
        {
         "principal_component_1": -2.552262921539845,
         "principal_component_2": -0.0701764464812798,
         "principal_component_3": -0.8873204403417707,
         "principal_component_4": 0.22125581278440296,
         "principal_component_5": 0.1099155539291269,
         "principal_component_6": 0.05504801795457768,
         "principal_component_7": -0.09463835336781708,
         "motor_UPDRS": 35.043,
         "total_UPDRS": 45.39,
         "_deepnote_index_column": 20
        },
        {
         "principal_component_1": 0.24624487625765548,
         "principal_component_2": -0.577418284922571,
         "principal_component_3": -0.7017054382675053,
         "principal_component_4": 0.031205632496867586,
         "principal_component_5": 0.19086842843432858,
         "principal_component_6": -0.051083700606971996,
         "principal_component_7": 0.12439559408326425,
         "motor_UPDRS": 35.509,
         "total_UPDRS": 46.013,
         "_deepnote_index_column": 21
        },
        {
         "principal_component_1": -1.4901590057477412,
         "principal_component_2": -0.3413309574512125,
         "principal_component_3": -0.7883286996395135,
         "principal_component_4": 0.32708492398712996,
         "principal_component_5": 0.04939575468245605,
         "principal_component_6": 0.0456879597277354,
         "principal_component_7": -0.005603510306219876,
         "motor_UPDRS": 35.976,
         "total_UPDRS": 46.635,
         "_deepnote_index_column": 22
        },
        {
         "principal_component_1": -1.0995119197314311,
         "principal_component_2": -0.5314593631721435,
         "principal_component_3": -0.7332134528065803,
         "principal_component_4": 0.4165309891969956,
         "principal_component_5": 0.07627613384243886,
         "principal_component_6": 0.14867632468241926,
         "principal_component_7": 0.07815500802043002,
         "motor_UPDRS": 36.977,
         "total_UPDRS": 47.97,
         "_deepnote_index_column": 23
        },
        {
         "principal_component_1": -2.8286708480543776,
         "principal_component_2": 0.33791898889640865,
         "principal_component_3": -0.9613581222206312,
         "principal_component_4": 0.7275661457890781,
         "principal_component_5": -0.11441609957820852,
         "principal_component_6": 0.15865877517338883,
         "principal_component_7": -0.06639288240382225,
         "motor_UPDRS": 28.199,
         "total_UPDRS": 34.398,
         "_deepnote_index_column": 24
        }
       ]
      },
      "text/plain": "      principal_component_1  principal_component_2  principal_component_3  \\\n0                 -0.465328               0.502185              -0.955887   \n1                 -2.104776              -0.214493              -0.806051   \n2                 -1.747673               0.282804              -0.958895   \n3                 -1.196095              -0.097399              -0.832938   \n4                 -2.271446              -0.142171              -0.856433   \n...                     ...                    ...                    ...   \n5870              -1.658475               0.285929               0.315334   \n5871              -1.659935              -0.141963               0.420412   \n5872              -1.450322              -0.138934               0.461694   \n5873              -2.309406               0.303321               0.310295   \n5874              -1.913141               0.076413               0.372123   \n\n      principal_component_4  principal_component_5  principal_component_6  \\\n0                  0.105457               0.136998              -0.545031   \n1                  0.785908              -0.198034               0.137381   \n2                  0.005098               0.282127              -0.134851   \n3                  0.431557               0.045777               0.084340   \n4                  0.438470               0.003623               0.313246   \n...                     ...                    ...                    ...   \n5870              -0.291163               0.127847              -0.122704   \n5871              -0.120788               0.147172              -0.003940   \n5872               0.410359              -0.186388               0.002900   \n5873               0.064903               0.142188              -0.022292   \n5874              -0.043217               0.176638              -0.148256   \n\n      principal_component_7  motor_UPDRS  total_UPDRS  \n0                  0.220205       28.199       34.398  \n1                 -0.029541       28.447       34.894  \n2                  0.004571       28.695       35.389  \n3                 -0.128917       28.905       35.810  \n4                 -0.063899       29.187       36.375  \n...                     ...          ...          ...  \n5870              -0.038768       22.485       33.485  \n5871              -0.053580       21.988       32.988  \n5872              -0.076597       21.495       32.495  \n5873              -0.061231       21.007       32.007  \n5874              -0.087055       20.513       31.513  \n\n[5875 rows x 9 columns]",
      "text/html": "<div>\n<style scoped>\n    .dataframe tbody tr th:only-of-type {\n        vertical-align: middle;\n    }\n\n    .dataframe tbody tr th {\n        vertical-align: top;\n    }\n\n    .dataframe thead th {\n        text-align: right;\n    }\n</style>\n<table border=\"1\" class=\"dataframe\">\n  <thead>\n    <tr style=\"text-align: right;\">\n      <th></th>\n      <th>principal_component_1</th>\n      <th>principal_component_2</th>\n      <th>principal_component_3</th>\n      <th>principal_component_4</th>\n      <th>principal_component_5</th>\n      <th>principal_component_6</th>\n      <th>principal_component_7</th>\n      <th>motor_UPDRS</th>\n      <th>total_UPDRS</th>\n    </tr>\n  </thead>\n  <tbody>\n    <tr>\n      <th>0</th>\n      <td>-0.465328</td>\n      <td>0.502185</td>\n      <td>-0.955887</td>\n      <td>0.105457</td>\n      <td>0.136998</td>\n      <td>-0.545031</td>\n      <td>0.220205</td>\n      <td>28.199</td>\n      <td>34.398</td>\n    </tr>\n    <tr>\n      <th>1</th>\n      <td>-2.104776</td>\n      <td>-0.214493</td>\n      <td>-0.806051</td>\n      <td>0.785908</td>\n      <td>-0.198034</td>\n      <td>0.137381</td>\n      <td>-0.029541</td>\n      <td>28.447</td>\n      <td>34.894</td>\n    </tr>\n    <tr>\n      <th>2</th>\n      <td>-1.747673</td>\n      <td>0.282804</td>\n      <td>-0.958895</td>\n      <td>0.005098</td>\n      <td>0.282127</td>\n      <td>-0.134851</td>\n      <td>0.004571</td>\n      <td>28.695</td>\n      <td>35.389</td>\n    </tr>\n    <tr>\n      <th>3</th>\n      <td>-1.196095</td>\n      <td>-0.097399</td>\n      <td>-0.832938</td>\n      <td>0.431557</td>\n      <td>0.045777</td>\n      <td>0.084340</td>\n      <td>-0.128917</td>\n      <td>28.905</td>\n      <td>35.810</td>\n    </tr>\n    <tr>\n      <th>4</th>\n      <td>-2.271446</td>\n      <td>-0.142171</td>\n      <td>-0.856433</td>\n      <td>0.438470</td>\n      <td>0.003623</td>\n      <td>0.313246</td>\n      <td>-0.063899</td>\n      <td>29.187</td>\n      <td>36.375</td>\n    </tr>\n    <tr>\n      <th>...</th>\n      <td>...</td>\n      <td>...</td>\n      <td>...</td>\n      <td>...</td>\n      <td>...</td>\n      <td>...</td>\n      <td>...</td>\n      <td>...</td>\n      <td>...</td>\n    </tr>\n    <tr>\n      <th>5870</th>\n      <td>-1.658475</td>\n      <td>0.285929</td>\n      <td>0.315334</td>\n      <td>-0.291163</td>\n      <td>0.127847</td>\n      <td>-0.122704</td>\n      <td>-0.038768</td>\n      <td>22.485</td>\n      <td>33.485</td>\n    </tr>\n    <tr>\n      <th>5871</th>\n      <td>-1.659935</td>\n      <td>-0.141963</td>\n      <td>0.420412</td>\n      <td>-0.120788</td>\n      <td>0.147172</td>\n      <td>-0.003940</td>\n      <td>-0.053580</td>\n      <td>21.988</td>\n      <td>32.988</td>\n    </tr>\n    <tr>\n      <th>5872</th>\n      <td>-1.450322</td>\n      <td>-0.138934</td>\n      <td>0.461694</td>\n      <td>0.410359</td>\n      <td>-0.186388</td>\n      <td>0.002900</td>\n      <td>-0.076597</td>\n      <td>21.495</td>\n      <td>32.495</td>\n    </tr>\n    <tr>\n      <th>5873</th>\n      <td>-2.309406</td>\n      <td>0.303321</td>\n      <td>0.310295</td>\n      <td>0.064903</td>\n      <td>0.142188</td>\n      <td>-0.022292</td>\n      <td>-0.061231</td>\n      <td>21.007</td>\n      <td>32.007</td>\n    </tr>\n    <tr>\n      <th>5874</th>\n      <td>-1.913141</td>\n      <td>0.076413</td>\n      <td>0.372123</td>\n      <td>-0.043217</td>\n      <td>0.176638</td>\n      <td>-0.148256</td>\n      <td>-0.087055</td>\n      <td>20.513</td>\n      <td>31.513</td>\n    </tr>\n  </tbody>\n</table>\n<p>5875 rows × 9 columns</p>\n</div>"
     },
     "metadata": {},
     "output_type": "display_data"
    }
   ],
   "execution_count": null
  },
  {
   "cell_type": "code",
   "metadata": {
    "cell_id": "8807ae1cc7b847e8b1f8819d1295dc1c",
    "tags": [],
    "deepnote_to_be_reexecuted": false,
    "source_hash": "5b86ac21",
    "execution_start": 1659723930858,
    "execution_millis": 0,
    "deepnote_cell_type": "code",
    "deepnote_cell_height": 94
   },
   "source": "X3 = finalDf.loc[:,'principal_component_1':'principal_component_7']\ny3 = finalDf.loc[:,'motor_UPDRS':'total_UPDRS']",
   "outputs": [],
   "execution_count": null
  },
  {
   "cell_type": "code",
   "metadata": {
    "cell_id": "b04e792ee1044bb08a96c3f29b51b80e",
    "tags": [],
    "deepnote_to_be_reexecuted": false,
    "source_hash": "3ef47316",
    "execution_start": 1659723930869,
    "execution_millis": 20,
    "deepnote_cell_type": "code",
    "deepnote_cell_height": 135
   },
   "source": "seed = 0\ntest_size = 0.2\n\nX_train2, X_test2, y_train2, y_test2 = train_test_split(X3, y3, test_size=test_size, random_state=seed)",
   "outputs": [],
   "execution_count": null
  },
  {
   "cell_type": "code",
   "metadata": {
    "cell_id": "0b47eb4cfc32493390679c21c73fde46",
    "tags": [],
    "deepnote_to_be_reexecuted": false,
    "source_hash": "b10e5cab",
    "execution_start": 1659723930890,
    "execution_millis": 11734711,
    "deepnote_cell_type": "code",
    "deepnote_cell_height": 144.390625
   },
   "source": "print(X_train.shape, y_train.shape)\nprint(X_train2.shape, y_train2.shape)",
   "outputs": [
    {
     "name": "stdout",
     "text": "(3760, 13) (3760, 2)\n(4700, 7) (4700, 2)\n",
     "output_type": "stream"
    }
   ],
   "execution_count": null
  },
  {
   "cell_type": "markdown",
   "source": "## Testing",
   "metadata": {
    "formattedRanges": [],
    "is_collapsed": false,
    "cell_id": "dfe638ad9b0e4d8cb9139f21daac0120",
    "tags": [],
    "deepnote_cell_type": "text-cell-h2"
   }
  },
  {
   "cell_type": "code",
   "metadata": {
    "cell_id": "e31617f4bb6c4a86890e28a5750d3aa9",
    "tags": [],
    "deepnote_to_be_reexecuted": false,
    "source_hash": "ab1b4bb7",
    "execution_start": 1659723930897,
    "execution_millis": 3,
    "deepnote_cell_type": "code",
    "deepnote_cell_height": 364
   },
   "source": "def get_metrics2(regressor, target, X_train, y_train, X_test, y_test):\n    regressor.fit(X_train, y_train.iloc[:, target]) # 0: motor, 1: total\n\n    if (target == 0):\n        print(\"Motor\")\n    else:\n        print(\"Total\")\n\n    predictions = regressor.predict(X_test)\n    print(\"R2_Score:\", r2_score(y_test.iloc[:, target], predictions))\n    print(\"MAE:\", mean_absolute_error(y_test.iloc[:, target], predictions))\n    print(\"MSE:\", mean_squared_error(y_test.iloc[:, target], predictions))\n    print(\"RMSE:\", mean_squared_error(y_test.iloc[:, target], predictions, squared=False))\n\n    return regressor\n\n    print(\"\\n\")",
   "outputs": [],
   "execution_count": null
  },
  {
   "cell_type": "markdown",
   "source": "## Split data by sex",
   "metadata": {
    "formattedRanges": [],
    "is_collapsed": false,
    "cell_id": "88b5cf7b02f3458c80ab32e973aab146",
    "tags": [],
    "deepnote_cell_type": "text-cell-h2"
   }
  },
  {
   "cell_type": "code",
   "metadata": {
    "cell_id": "9b09710338de4125beff54025afda99e",
    "tags": [],
    "deepnote_to_be_reexecuted": false,
    "source_hash": "eb0c251",
    "execution_start": 1659723930989,
    "execution_millis": 1,
    "deepnote_cell_type": "code",
    "deepnote_cell_height": 94
   },
   "source": "male = data[data['sex'] == 0]\nfemale = data[data['sex'] == 1]",
   "outputs": [],
   "execution_count": null
  },
  {
   "cell_type": "code",
   "metadata": {
    "cell_id": "62783f9b640e41c3a9daf16f29186e2d",
    "tags": [],
    "deepnote_to_be_reexecuted": false,
    "source_hash": "a0eb7e08",
    "execution_start": 1659723930990,
    "execution_millis": 171,
    "deepnote_cell_type": "code",
    "deepnote_cell_height": 516
   },
   "source": "scaler = StandardScaler()\n\ndf = data[X_cols].copy()\nscaler=scaler.fit_transform(df)\ndf_scaled = pd.DataFrame(scaler, columns=df.columns)\nsex = data['sex']\ndf_scaled.join(sex)\ndf_scaled.head(5)",
   "outputs": [
    {
     "output_type": "execute_result",
     "execution_count": 28,
     "data": {
      "application/vnd.deepnote.dataframe.v3+json": {
       "column_count": 15,
       "row_count": 5,
       "columns": [
        {
         "name": "age",
         "dtype": "float64",
         "stats": {
          "unique_count": 1,
          "nan_count": 0,
          "min": "0.8156953909886064",
          "max": "0.8156953909886064",
          "histogram": [
           {
            "bin_start": 0.31569539098860644,
            "bin_end": 0.4156953909886064,
            "count": 0
           },
           {
            "bin_start": 0.4156953909886064,
            "bin_end": 0.5156953909886064,
            "count": 0
           },
           {
            "bin_start": 0.5156953909886064,
            "bin_end": 0.6156953909886065,
            "count": 0
           },
           {
            "bin_start": 0.6156953909886065,
            "bin_end": 0.7156953909886065,
            "count": 0
           },
           {
            "bin_start": 0.7156953909886065,
            "bin_end": 0.8156953909886064,
            "count": 0
           },
           {
            "bin_start": 0.8156953909886064,
            "bin_end": 0.9156953909886065,
            "count": 5
           },
           {
            "bin_start": 0.9156953909886065,
            "bin_end": 1.0156953909886064,
            "count": 0
           },
           {
            "bin_start": 1.0156953909886064,
            "bin_end": 1.1156953909886065,
            "count": 0
           },
           {
            "bin_start": 1.1156953909886065,
            "bin_end": 1.2156953909886066,
            "count": 0
           },
           {
            "bin_start": 1.2156953909886066,
            "bin_end": 1.3156953909886064,
            "count": 0
           }
          ]
         }
        },
        {
         "name": "Jitter(%)",
         "dtype": "float64",
         "stats": {
          "unique_count": 5,
          "nan_count": 0,
          "min": "-0.5607934079361291",
          "max": "0.0829052378300416",
          "histogram": [
           {
            "bin_start": -0.5607934079361291,
            "bin_end": -0.496423543359512,
            "count": 2
           },
           {
            "bin_start": -0.496423543359512,
            "bin_end": -0.43205367878289497,
            "count": 0
           },
           {
            "bin_start": -0.43205367878289497,
            "bin_end": -0.36768381420627794,
            "count": 0
           },
           {
            "bin_start": -0.36768381420627794,
            "bin_end": -0.30331394962966085,
            "count": 0
           },
           {
            "bin_start": -0.30331394962966085,
            "bin_end": -0.23894408505304376,
            "count": 0
           },
           {
            "bin_start": -0.23894408505304376,
            "bin_end": -0.17457422047642673,
            "count": 1
           },
           {
            "bin_start": -0.17457422047642673,
            "bin_end": -0.1102043558998097,
            "count": 1
           },
           {
            "bin_start": -0.1102043558998097,
            "bin_end": -0.04583449132319262,
            "count": 0
           },
           {
            "bin_start": -0.04583449132319262,
            "bin_end": 0.01853537325342447,
            "count": 0
           },
           {
            "bin_start": 0.01853537325342447,
            "bin_end": 0.0829052378300416,
            "count": 1
           }
          ]
         }
        },
        {
         "name": "Jitter(Abs)",
         "dtype": "float64",
         "stats": {
          "unique_count": 5,
          "nan_count": 0,
          "min": "-0.7567230196718235",
          "max": "-0.2842421939861217",
          "histogram": [
           {
            "bin_start": -0.7567230196718235,
            "bin_end": -0.7094749371032534,
            "count": 1
           },
           {
            "bin_start": -0.7094749371032534,
            "bin_end": -0.6622268545346832,
            "count": 1
           },
           {
            "bin_start": -0.6622268545346832,
            "bin_end": -0.6149787719661131,
            "count": 0
           },
           {
            "bin_start": -0.6149787719661131,
            "bin_end": -0.5677306893975428,
            "count": 0
           },
           {
            "bin_start": -0.5677306893975428,
            "bin_end": -0.5204826068289726,
            "count": 1
           },
           {
            "bin_start": -0.5204826068289726,
            "bin_end": -0.47323452426040247,
            "count": 1
           },
           {
            "bin_start": -0.47323452426040247,
            "bin_end": -0.42598644169183225,
            "count": 0
           },
           {
            "bin_start": -0.42598644169183225,
            "bin_end": -0.3787383591232621,
            "count": 0
           },
           {
            "bin_start": -0.3787383591232621,
            "bin_end": -0.33149027655469193,
            "count": 0
           },
           {
            "bin_start": -0.33149027655469193,
            "bin_end": -0.2842421939861217,
            "count": 1
           }
          ]
         }
        },
        {
         "name": "Jitter:RAP",
         "dtype": "float64",
         "stats": {
          "unique_count": 5,
          "nan_count": 0,
          "min": "-0.6586040343998016",
          "max": "0.3274525140634077",
          "histogram": [
           {
            "bin_start": -0.6586040343998016,
            "bin_end": -0.5599983795534808,
            "count": 1
           },
           {
            "bin_start": -0.5599983795534808,
            "bin_end": -0.46139272470715975,
            "count": 1
           },
           {
            "bin_start": -0.46139272470715975,
            "bin_end": -0.36278706986083886,
            "count": 0
           },
           {
            "bin_start": -0.36278706986083886,
            "bin_end": -0.2641814150145179,
            "count": 2
           },
           {
            "bin_start": -0.2641814150145179,
            "bin_end": -0.16557576016819697,
            "count": 0
           },
           {
            "bin_start": -0.16557576016819697,
            "bin_end": -0.06697010532187608,
            "count": 0
           },
           {
            "bin_start": -0.06697010532187608,
            "bin_end": 0.03163554952444492,
            "count": 0
           },
           {
            "bin_start": 0.03163554952444492,
            "bin_end": 0.1302412043707658,
            "count": 0
           },
           {
            "bin_start": 0.1302412043707658,
            "bin_end": 0.2288468592170867,
            "count": 0
           },
           {
            "bin_start": 0.2288468592170867,
            "bin_end": 0.3274525140634077,
            "count": 1
           }
          ]
         }
        },
        {
         "name": "Jitter:PPQ5",
         "dtype": "float64",
         "stats": {
          "unique_count": 5,
          "nan_count": 0,
          "min": "-0.529813756782432",
          "max": "-0.02863704028071048",
          "histogram": [
           {
            "bin_start": -0.529813756782432,
            "bin_end": -0.47969608513225986,
            "count": 1
           },
           {
            "bin_start": -0.47969608513225986,
            "bin_end": -0.4295784134820877,
            "count": 1
           },
           {
            "bin_start": -0.4295784134820877,
            "bin_end": -0.3794607418319156,
            "count": 0
           },
           {
            "bin_start": -0.3794607418319156,
            "bin_end": -0.3293430701817434,
            "count": 0
           },
           {
            "bin_start": -0.3293430701817434,
            "bin_end": -0.27922539853157125,
            "count": 1
           },
           {
            "bin_start": -0.27922539853157125,
            "bin_end": -0.22910772688139913,
            "count": 0
           },
           {
            "bin_start": -0.22910772688139913,
            "bin_end": -0.17899005523122696,
            "count": 0
           },
           {
            "bin_start": -0.17899005523122696,
            "bin_end": -0.1288723835810548,
            "count": 1
           },
           {
            "bin_start": -0.1288723835810548,
            "bin_end": -0.07875471193088263,
            "count": 0
           },
           {
            "bin_start": -0.07875471193088263,
            "bin_end": -0.02863704028071048,
            "count": 1
           }
          ]
         }
        },
        {
         "name": "Jitter:DDP",
         "dtype": "float64",
         "stats": {
          "unique_count": 5,
          "nan_count": 0,
          "min": "-0.6596819170346114",
          "max": "0.32850542294133556",
          "histogram": [
           {
            "bin_start": -0.6596819170346114,
            "bin_end": -0.5608631830370168,
            "count": 1
           },
           {
            "bin_start": -0.5608631830370168,
            "bin_end": -0.46204444903942204,
            "count": 1
           },
           {
            "bin_start": -0.46204444903942204,
            "bin_end": -0.3632257150418273,
            "count": 0
           },
           {
            "bin_start": -0.3632257150418273,
            "bin_end": -0.26440698104423266,
            "count": 2
           },
           {
            "bin_start": -0.26440698104423266,
            "bin_end": -0.165588247046638,
            "count": 0
           },
           {
            "bin_start": -0.165588247046638,
            "bin_end": -0.06676951304904322,
            "count": 0
           },
           {
            "bin_start": -0.06676951304904322,
            "bin_end": 0.03204922094855145,
            "count": 0
           },
           {
            "bin_start": 0.03204922094855145,
            "bin_end": 0.13086795494614611,
            "count": 0
           },
           {
            "bin_start": 0.13086795494614611,
            "bin_end": 0.22968668894374078,
            "count": 0
           },
           {
            "bin_start": 0.22968668894374078,
            "bin_end": 0.32850542294133556,
            "count": 1
           }
          ]
         }
        },
        {
         "name": "Shimmer",
         "dtype": "float64",
         "stats": {
          "unique_count": 5,
          "nan_count": 0,
          "min": "-0.6691148700622647",
          "max": "-0.32459374914003847",
          "histogram": [
           {
            "bin_start": -0.6691148700622647,
            "bin_end": -0.634662757970042,
            "count": 2
           },
           {
            "bin_start": -0.634662757970042,
            "bin_end": -0.6002106458778195,
            "count": 0
           },
           {
            "bin_start": -0.6002106458778195,
            "bin_end": -0.5657585337855968,
            "count": 0
           },
           {
            "bin_start": -0.5657585337855968,
            "bin_end": -0.5313064216933742,
            "count": 1
           },
           {
            "bin_start": -0.5313064216933742,
            "bin_end": -0.49685430960115157,
            "count": 0
           },
           {
            "bin_start": -0.49685430960115157,
            "bin_end": -0.46240219750892897,
            "count": 0
           },
           {
            "bin_start": -0.46240219750892897,
            "bin_end": -0.4279500854167063,
            "count": 0
           },
           {
            "bin_start": -0.4279500854167063,
            "bin_end": -0.3934979733244837,
            "count": 1
           },
           {
            "bin_start": -0.3934979733244837,
            "bin_end": -0.3590458612322611,
            "count": 0
           },
           {
            "bin_start": -0.3590458612322611,
            "bin_end": -0.32459374914003847,
            "count": 1
           }
          ]
         }
        },
        {
         "name": "Shimmer(dB)",
         "dtype": "float64",
         "stats": {
          "unique_count": 5,
          "nan_count": 0,
          "min": "-0.5861860595449787",
          "max": "0.06966823055054455",
          "histogram": [
           {
            "bin_start": -0.5861860595449787,
            "bin_end": -0.5206006305354264,
            "count": 3
           },
           {
            "bin_start": -0.5206006305354264,
            "bin_end": -0.45501520152587405,
            "count": 0
           },
           {
            "bin_start": -0.45501520152587405,
            "bin_end": -0.3894297725163217,
            "count": 0
           },
           {
            "bin_start": -0.3894297725163217,
            "bin_end": -0.3238443435067694,
            "count": 1
           },
           {
            "bin_start": -0.3238443435067694,
            "bin_end": -0.25825891449721705,
            "count": 0
           },
           {
            "bin_start": -0.25825891449721705,
            "bin_end": -0.19267348548766472,
            "count": 0
           },
           {
            "bin_start": -0.19267348548766472,
            "bin_end": -0.1270880564781124,
            "count": 0
           },
           {
            "bin_start": -0.1270880564781124,
            "bin_end": -0.061502627468560056,
            "count": 0
           },
           {
            "bin_start": -0.061502627468560056,
            "bin_end": 0.004082801540992276,
            "count": 0
           },
           {
            "bin_start": 0.004082801540992276,
            "bin_end": 0.06966823055054455,
            "count": 1
           }
          ]
         }
        },
        {
         "name": "Shimmer:APQ3",
         "dtype": "float64",
         "stats": {
          "unique_count": 5,
          "nan_count": 0,
          "min": "-0.783145273608354",
          "max": "-0.2097088023089984",
          "histogram": [
           {
            "bin_start": -0.783145273608354,
            "bin_end": -0.7258016264784184,
            "count": 2
           },
           {
            "bin_start": -0.7258016264784184,
            "bin_end": -0.6684579793484828,
            "count": 0
           },
           {
            "bin_start": -0.6684579793484828,
            "bin_end": -0.6111143322185473,
            "count": 0
           },
           {
            "bin_start": -0.6111143322185473,
            "bin_end": -0.5537706850886117,
            "count": 0
           },
           {
            "bin_start": -0.5537706850886117,
            "bin_end": -0.49642703795867615,
            "count": 1
           },
           {
            "bin_start": -0.49642703795867615,
            "bin_end": -0.4390833908287406,
            "count": 1
           },
           {
            "bin_start": -0.4390833908287406,
            "bin_end": -0.38173974369880503,
            "count": 0
           },
           {
            "bin_start": -0.38173974369880503,
            "bin_end": -0.3243960965688695,
            "count": 0
           },
           {
            "bin_start": -0.3243960965688695,
            "bin_end": -0.2670524494389339,
            "count": 0
           },
           {
            "bin_start": -0.2670524494389339,
            "bin_end": -0.2097088023089984,
            "count": 1
           }
          ]
         }
        },
        {
         "name": "Shimmer:APQ5",
         "dtype": "float64",
         "stats": {
          "unique_count": 5,
          "nan_count": 0,
          "min": "-0.7024260208188006",
          "max": "-0.42335649796196423",
          "histogram": [
           {
            "bin_start": -0.7024260208188006,
            "bin_end": -0.6745190685331169,
            "count": 1
           },
           {
            "bin_start": -0.6745190685331169,
            "bin_end": -0.6466121162474333,
            "count": 1
           },
           {
            "bin_start": -0.6466121162474333,
            "bin_end": -0.6187051639617497,
            "count": 0
           },
           {
            "bin_start": -0.6187051639617497,
            "bin_end": -0.590798211676066,
            "count": 0
           },
           {
            "bin_start": -0.590798211676066,
            "bin_end": -0.5628912593903824,
            "count": 1
           },
           {
            "bin_start": -0.5628912593903824,
            "bin_end": -0.5349843071046987,
            "count": 0
           },
           {
            "bin_start": -0.5349843071046987,
            "bin_end": -0.5070773548190151,
            "count": 0
           },
           {
            "bin_start": -0.5070773548190151,
            "bin_end": -0.4791704025333315,
            "count": 0
           },
           {
            "bin_start": -0.4791704025333315,
            "bin_end": -0.45126345024764786,
            "count": 0
           },
           {
            "bin_start": -0.45126345024764786,
            "bin_end": -0.42335649796196423,
            "count": 2
           }
          ]
         }
        },
        {
         "name": "Shimmer:APQ11",
         "dtype": "float64",
         "stats": {
          "unique_count": 5,
          "nan_count": 0,
          "min": "-0.6455451561022792",
          "max": "-0.3928486137225324",
          "histogram": [
           {
            "bin_start": -0.6455451561022792,
            "bin_end": -0.6202755018643046,
            "count": 1
           },
           {
            "bin_start": -0.6202755018643046,
            "bin_end": -0.5950058476263299,
            "count": 0
           },
           {
            "bin_start": -0.5950058476263299,
            "bin_end": -0.5697361933883551,
            "count": 0
           },
           {
            "bin_start": -0.5697361933883551,
            "bin_end": -0.5444665391503805,
            "count": 0
           },
           {
            "bin_start": -0.5444665391503805,
            "bin_end": -0.5191968849124058,
            "count": 2
           },
           {
            "bin_start": -0.5191968849124058,
            "bin_end": -0.4939272306744311,
            "count": 0
           },
           {
            "bin_start": -0.4939272306744311,
            "bin_end": -0.46865757643645645,
            "count": 0
           },
           {
            "bin_start": -0.46865757643645645,
            "bin_end": -0.4433879221984818,
            "count": 1
           },
           {
            "bin_start": -0.4433879221984818,
            "bin_end": -0.41811826796050705,
            "count": 0
           },
           {
            "bin_start": -0.41811826796050705,
            "bin_end": -0.3928486137225324,
            "count": 1
           }
          ]
         }
        },
        {
         "name": "Shimmer:DDA",
         "dtype": "float64",
         "stats": {
          "unique_count": 5,
          "nan_count": 0,
          "min": "-0.7833920426940355",
          "max": "-0.20970430612454954",
          "histogram": [
           {
            "bin_start": -0.7833920426940355,
            "bin_end": -0.7260232690370869,
            "count": 2
           },
           {
            "bin_start": -0.7260232690370869,
            "bin_end": -0.6686544953801383,
            "count": 0
           },
           {
            "bin_start": -0.6686544953801383,
            "bin_end": -0.6112857217231897,
            "count": 0
           },
           {
            "bin_start": -0.6112857217231897,
            "bin_end": -0.5539169480662411,
            "count": 0
           },
           {
            "bin_start": -0.5539169480662411,
            "bin_end": -0.49654817440929255,
            "count": 1
           },
           {
            "bin_start": -0.49654817440929255,
            "bin_end": -0.43917940075234396,
            "count": 1
           },
           {
            "bin_start": -0.43917940075234396,
            "bin_end": -0.38181062709539537,
            "count": 0
           },
           {
            "bin_start": -0.38181062709539537,
            "bin_end": -0.3244418534384468,
            "count": 0
           },
           {
            "bin_start": -0.3244418534384468,
            "bin_end": -0.2670730797814982,
            "count": 0
           },
           {
            "bin_start": -0.2670730797814982,
            "bin_end": -0.20970430612454954,
            "count": 1
           }
          ]
         }
        },
        {
         "name": "HNR",
         "dtype": "float64",
         "stats": {
          "unique_count": 5,
          "nan_count": 0,
          "min": "-0.009204759857789555",
          "max": "1.2826496897654678",
          "histogram": [
           {
            "bin_start": -0.009204759857789555,
            "bin_end": 0.11998068510453617,
            "count": 1
           },
           {
            "bin_start": 0.11998068510453617,
            "bin_end": 0.2491661300668619,
            "count": 0
           },
           {
            "bin_start": 0.2491661300668619,
            "bin_end": 0.3783515750291876,
            "count": 1
           },
           {
            "bin_start": 0.3783515750291876,
            "bin_end": 0.5075370199915133,
            "count": 0
           },
           {
            "bin_start": 0.5075370199915133,
            "bin_end": 0.6367224649538391,
            "count": 0
           },
           {
            "bin_start": 0.6367224649538391,
            "bin_end": 0.7659079099161648,
            "count": 1
           },
           {
            "bin_start": 0.7659079099161648,
            "bin_end": 0.8950933548784905,
            "count": 0
           },
           {
            "bin_start": 0.8950933548784905,
            "bin_end": 1.0242787998408163,
            "count": 0
           },
           {
            "bin_start": 1.0242787998408163,
            "bin_end": 1.153464244803142,
            "count": 1
           },
           {
            "bin_start": 1.153464244803142,
            "bin_end": 1.2826496897654678,
            "count": 1
           }
          ]
         }
        },
        {
         "name": "total_UPDRS",
         "dtype": "float64",
         "stats": {
          "unique_count": 5,
          "nan_count": 0,
          "min": "0.5027451557032074",
          "max": "0.6875223461927148",
          "histogram": [
           {
            "bin_start": 0.5027451557032074,
            "bin_end": 0.5212228747521581,
            "count": 1
           },
           {
            "bin_start": 0.5212228747521581,
            "bin_end": 0.5397005938011089,
            "count": 0
           },
           {
            "bin_start": 0.5397005938011089,
            "bin_end": 0.5581783128500597,
            "count": 1
           },
           {
            "bin_start": 0.5581783128500597,
            "bin_end": 0.5766560318990104,
            "count": 0
           },
           {
            "bin_start": 0.5766560318990104,
            "bin_end": 0.5951337509479611,
            "count": 0
           },
           {
            "bin_start": 0.5951337509479611,
            "bin_end": 0.6136114699969119,
            "count": 1
           },
           {
            "bin_start": 0.6136114699969119,
            "bin_end": 0.6320891890458626,
            "count": 0
           },
           {
            "bin_start": 0.6320891890458626,
            "bin_end": 0.6505669080948133,
            "count": 1
           },
           {
            "bin_start": 0.6505669080948133,
            "bin_end": 0.669044627143764,
            "count": 0
           },
           {
            "bin_start": 0.669044627143764,
            "bin_end": 0.6875223461927148,
            "count": 1
           }
          ]
         }
        },
        {
         "name": "motor_UPDRS",
         "dtype": "float64",
         "stats": {
          "unique_count": 5,
          "nan_count": 0,
          "min": "0.849196694665979",
          "max": "0.9707429952730292",
          "histogram": [
           {
            "bin_start": 0.849196694665979,
            "bin_end": 0.8613513247266841,
            "count": 1
           },
           {
            "bin_start": 0.8613513247266841,
            "bin_end": 0.873505954787389,
            "count": 0
           },
           {
            "bin_start": 0.873505954787389,
            "bin_end": 0.8856605848480941,
            "count": 1
           },
           {
            "bin_start": 0.8856605848480941,
            "bin_end": 0.8978152149087991,
            "count": 0
           },
           {
            "bin_start": 0.8978152149087991,
            "bin_end": 0.9099698449695042,
            "count": 0
           },
           {
            "bin_start": 0.9099698449695042,
            "bin_end": 0.9221244750302091,
            "count": 1
           },
           {
            "bin_start": 0.9221244750302091,
            "bin_end": 0.9342791050909142,
            "count": 0
           },
           {
            "bin_start": 0.9342791050909142,
            "bin_end": 0.9464337351516192,
            "count": 1
           },
           {
            "bin_start": 0.9464337351516192,
            "bin_end": 0.9585883652123242,
            "count": 0
           },
           {
            "bin_start": 0.9585883652123242,
            "bin_end": 0.9707429952730292,
            "count": 1
           }
          ]
         }
        },
        {
         "name": "_deepnote_index_column",
         "dtype": "int64"
        }
       ],
       "rows": [
        {
         "age": 0.8156953909886064,
         "Jitter(%)": 0.0829052378300416,
         "Jitter(Abs)": -0.2842421939861217,
         "Jitter:RAP": 0.3274525140634077,
         "Jitter:PPQ5": -0.02863704028071048,
         "Jitter:DDP": 0.32850542294133556,
         "Shimmer": -0.32459374914003847,
         "Shimmer(dB)": -0.3516421412326723,
         "Shimmer:APQ3": -0.2097088023089984,
         "Shimmer:APQ5": -0.42335649796196423,
         "Shimmer:APQ11": -0.5434657607647182,
         "Shimmer:DDA": -0.20970430612454954,
         "HNR": -0.009204759857789555,
         "total_UPDRS": 0.5027451557032074,
         "motor_UPDRS": 0.849196694665979,
         "_deepnote_index_column": 0
        },
        {
         "age": 0.8156953909886064,
         "Jitter(%)": -0.5607934079361291,
         "Jitter(Abs)": -0.7567230196718235,
         "Jitter:RAP": -0.5337462246917978,
         "Jitter:PPQ5": -0.47621196892128526,
         "Jitter:DDP": -0.5348245533443459,
         "Shimmer": -0.5340161383747849,
         "Shimmer(dB)": -0.5731558418609617,
         "Shimmer:APQ3": -0.5451578052825347,
         "Shimmer:APQ5": -0.5655919321922227,
         "Shimmer:APQ11": -0.5299552525582764,
         "Shimmer:DDA": -0.5451529738640383,
         "HNR": 1.2826496897654678,
         "total_UPDRS": 0.5491030143186828,
         "motor_UPDRS": 0.879706292389206,
         "_deepnote_index_column": 1
        },
        {
         "age": 0.8156953909886064,
         "Jitter(%)": -0.23894408505304376,
         "Jitter(Abs)": -0.5393818398564006,
         "Jitter:RAP": -0.3000380167768163,
         "Jitter:PPQ5": -0.32076678412396,
         "Jitter:DDP": -0.29898286637384464,
         "Shimmer": -0.6691148700622647,
         "Shimmer(dB)": -0.564469030071617,
         "Shimmer:APQ3": -0.7415919061228936,
         "Shimmer:APQ5": -0.7024260208188006,
         "Shimmer:APQ11": -0.6455451561022792,
         "Shimmer:DDA": -0.7415868783961712,
         "HNR": 0.3187113885491964,
         "total_UPDRS": 0.5953674095095312,
         "motor_UPDRS": 0.9102158901124332,
         "_deepnote_index_column": 2
        },
        {
         "age": 0.8156953909886064,
         "Jitter(%)": -0.15536995148671773,
         "Jitter(Abs)": -0.48518550985127606,
         "Jitter:RAP": -0.34485876897968953,
         "Jitter:PPQ5": -0.1706817781127492,
         "Jitter:DDP": -0.34487061542240366,
         "Shimmer": -0.42369195920306085,
         "Shimmer(dB)": 0.06966823055054455,
         "Shimmer:APQ3": -0.4605400387666876,
         "Shimmer:APQ5": -0.4497630764688476,
         "Shimmer:APQ11": -0.3928486137225324,
         "Shimmer:DDA": -0.4607871302508786,
         "HNR": 0.6445299922968626,
         "total_UPDRS": 0.6347155112779088,
         "motor_UPDRS": 0.9360506301200048,
         "_deepnote_index_column": 3
        },
        {
         "age": 0.8156953909886064,
         "Jitter(%)": -0.49855735102503523,
         "Jitter(Abs)": -0.6638944339194562,
         "Jitter:RAP": -0.6586040343998016,
         "Jitter:PPQ5": -0.529813756782432,
         "Jitter:DDP": -0.6596819170346114,
         "Shimmer": -0.6582760033366216,
         "Shimmer(dB)": -0.5861860595449787,
         "Shimmer:APQ3": -0.783145273608354,
         "Shimmer:APQ5": -0.6514133123395939,
         "Shimmer:APQ11": -0.4649046574902226,
         "Shimmer:DDA": -0.7833920426940355,
         "HNR": 1.0363047225542497,
         "total_UPDRS": 0.6875223461927148,
         "motor_UPDRS": 0.9707429952730292,
         "_deepnote_index_column": 4
        }
       ]
      },
      "text/plain": "        age  Jitter(%)  Jitter(Abs)  Jitter:RAP  Jitter:PPQ5  Jitter:DDP  \\\n0  0.815695   0.082905    -0.284242    0.327453    -0.028637    0.328505   \n1  0.815695  -0.560793    -0.756723   -0.533746    -0.476212   -0.534825   \n2  0.815695  -0.238944    -0.539382   -0.300038    -0.320767   -0.298983   \n3  0.815695  -0.155370    -0.485186   -0.344859    -0.170682   -0.344871   \n4  0.815695  -0.498557    -0.663894   -0.658604    -0.529814   -0.659682   \n\n    Shimmer  Shimmer(dB)  Shimmer:APQ3  Shimmer:APQ5  Shimmer:APQ11  \\\n0 -0.324594    -0.351642     -0.209709     -0.423356      -0.543466   \n1 -0.534016    -0.573156     -0.545158     -0.565592      -0.529955   \n2 -0.669115    -0.564469     -0.741592     -0.702426      -0.645545   \n3 -0.423692     0.069668     -0.460540     -0.449763      -0.392849   \n4 -0.658276    -0.586186     -0.783145     -0.651413      -0.464905   \n\n   Shimmer:DDA       HNR  total_UPDRS  motor_UPDRS  \n0    -0.209704 -0.009205     0.502745     0.849197  \n1    -0.545153  1.282650     0.549103     0.879706  \n2    -0.741587  0.318711     0.595367     0.910216  \n3    -0.460787  0.644530     0.634716     0.936051  \n4    -0.783392  1.036305     0.687522     0.970743  ",
      "text/html": "<div>\n<style scoped>\n    .dataframe tbody tr th:only-of-type {\n        vertical-align: middle;\n    }\n\n    .dataframe tbody tr th {\n        vertical-align: top;\n    }\n\n    .dataframe thead th {\n        text-align: right;\n    }\n</style>\n<table border=\"1\" class=\"dataframe\">\n  <thead>\n    <tr style=\"text-align: right;\">\n      <th></th>\n      <th>age</th>\n      <th>Jitter(%)</th>\n      <th>Jitter(Abs)</th>\n      <th>Jitter:RAP</th>\n      <th>Jitter:PPQ5</th>\n      <th>Jitter:DDP</th>\n      <th>Shimmer</th>\n      <th>Shimmer(dB)</th>\n      <th>Shimmer:APQ3</th>\n      <th>Shimmer:APQ5</th>\n      <th>Shimmer:APQ11</th>\n      <th>Shimmer:DDA</th>\n      <th>HNR</th>\n      <th>total_UPDRS</th>\n      <th>motor_UPDRS</th>\n    </tr>\n  </thead>\n  <tbody>\n    <tr>\n      <th>0</th>\n      <td>0.815695</td>\n      <td>0.082905</td>\n      <td>-0.284242</td>\n      <td>0.327453</td>\n      <td>-0.028637</td>\n      <td>0.328505</td>\n      <td>-0.324594</td>\n      <td>-0.351642</td>\n      <td>-0.209709</td>\n      <td>-0.423356</td>\n      <td>-0.543466</td>\n      <td>-0.209704</td>\n      <td>-0.009205</td>\n      <td>0.502745</td>\n      <td>0.849197</td>\n    </tr>\n    <tr>\n      <th>1</th>\n      <td>0.815695</td>\n      <td>-0.560793</td>\n      <td>-0.756723</td>\n      <td>-0.533746</td>\n      <td>-0.476212</td>\n      <td>-0.534825</td>\n      <td>-0.534016</td>\n      <td>-0.573156</td>\n      <td>-0.545158</td>\n      <td>-0.565592</td>\n      <td>-0.529955</td>\n      <td>-0.545153</td>\n      <td>1.282650</td>\n      <td>0.549103</td>\n      <td>0.879706</td>\n    </tr>\n    <tr>\n      <th>2</th>\n      <td>0.815695</td>\n      <td>-0.238944</td>\n      <td>-0.539382</td>\n      <td>-0.300038</td>\n      <td>-0.320767</td>\n      <td>-0.298983</td>\n      <td>-0.669115</td>\n      <td>-0.564469</td>\n      <td>-0.741592</td>\n      <td>-0.702426</td>\n      <td>-0.645545</td>\n      <td>-0.741587</td>\n      <td>0.318711</td>\n      <td>0.595367</td>\n      <td>0.910216</td>\n    </tr>\n    <tr>\n      <th>3</th>\n      <td>0.815695</td>\n      <td>-0.155370</td>\n      <td>-0.485186</td>\n      <td>-0.344859</td>\n      <td>-0.170682</td>\n      <td>-0.344871</td>\n      <td>-0.423692</td>\n      <td>0.069668</td>\n      <td>-0.460540</td>\n      <td>-0.449763</td>\n      <td>-0.392849</td>\n      <td>-0.460787</td>\n      <td>0.644530</td>\n      <td>0.634716</td>\n      <td>0.936051</td>\n    </tr>\n    <tr>\n      <th>4</th>\n      <td>0.815695</td>\n      <td>-0.498557</td>\n      <td>-0.663894</td>\n      <td>-0.658604</td>\n      <td>-0.529814</td>\n      <td>-0.659682</td>\n      <td>-0.658276</td>\n      <td>-0.586186</td>\n      <td>-0.783145</td>\n      <td>-0.651413</td>\n      <td>-0.464905</td>\n      <td>-0.783392</td>\n      <td>1.036305</td>\n      <td>0.687522</td>\n      <td>0.970743</td>\n    </tr>\n  </tbody>\n</table>\n</div>"
     },
     "metadata": {}
    }
   ],
   "execution_count": null
  },
  {
   "cell_type": "markdown",
   "source": "## Models",
   "metadata": {
    "formattedRanges": [],
    "is_collapsed": false,
    "cell_id": "555bca3829964e089408c4ef7dc4e19d",
    "tags": [],
    "deepnote_cell_type": "text-cell-h2"
   }
  },
  {
   "cell_type": "code",
   "metadata": {
    "cell_id": "f126621ad7094e48bb64c11b2964a6b0",
    "tags": [],
    "deepnote_to_be_reexecuted": false,
    "source_hash": "f01ef5c9",
    "execution_start": 1659723931173,
    "execution_millis": 3,
    "deepnote_cell_type": "code",
    "deepnote_cell_height": 130
   },
   "source": "regressor_male_motor = SVR(kernel='rbf', gamma=0.6)\nregressor_male_total = SVR(kernel='rbf', gamma=0.6)\nregressor_female_motor = SVR(kernel='rbf', gamma=0.6)\nregressor_female_total = SVR(kernel='rbf', gamma=0.6)",
   "outputs": [],
   "execution_count": null
  },
  {
   "cell_type": "markdown",
   "source": "### Male",
   "metadata": {
    "formattedRanges": [],
    "is_collapsed": false,
    "cell_id": "479c56e0b8f24d338a95a4d1f00755e0",
    "tags": [],
    "deepnote_cell_type": "text-cell-h3"
   }
  },
  {
   "cell_type": "code",
   "metadata": {
    "cell_id": "36c2047b08dd4519a35a1126cc9895e9",
    "tags": [],
    "deepnote_to_be_reexecuted": false,
    "source_hash": "aae2f180",
    "execution_start": 1659723931184,
    "execution_millis": 70,
    "deepnote_cell_type": "code",
    "deepnote_cell_height": 333
   },
   "source": "scaler_m = StandardScaler()\n\nX_m = male.loc[:,features].values\ny_m = male.loc[:,y_cols].values\n\nprint(X_m)\nX_m = scaler_m.fit_transform(X2)",
   "outputs": [
    {
     "name": "stdout",
     "text": "[[7.2000e+01 6.6200e-03 3.3800e-05 ... 1.6620e-02 4.3140e-02 2.1640e+01]\n [7.2000e+01 3.0000e-03 1.6800e-05 ... 1.6890e-02 2.9820e-02 2.7183e+01]\n [7.2000e+01 4.8100e-03 2.4620e-05 ... 1.4580e-02 2.2020e-02 2.3047e+01]\n ...\n [6.1000e+01 3.4900e-03 2.4700e-05 ... 1.8770e-02 4.1120e-02 2.5065e+01]\n [6.1000e+01 2.8100e-03 2.0340e-05 ... 1.3070e-02 2.0780e-02 2.4422e+01]\n [6.1000e+01 2.8200e-03 2.1100e-05 ... 1.4700e-02 2.8390e-02 2.3259e+01]]\n",
     "output_type": "stream"
    }
   ],
   "execution_count": null
  },
  {
   "cell_type": "code",
   "metadata": {
    "cell_id": "63b76111c6d647ab8170934839de5a1d",
    "tags": [],
    "deepnote_to_be_reexecuted": false,
    "source_hash": "403bb405",
    "execution_start": 1659723931305,
    "execution_millis": 54,
    "deepnote_cell_type": "code",
    "deepnote_cell_height": 135
   },
   "source": "pca = PCA(n_components=7)\nprincipalComponents_m = pca.fit_transform(X_m)\nprincipalDf_m = pd.DataFrame(data = principalComponents_m\n             , columns = ['principal_component_1', 'principal_component_2','principal_component_3', 'principal_component_4','principal_component_5','principal_component_6', 'principal_component_7'])",
   "outputs": [],
   "execution_count": null
  },
  {
   "cell_type": "code",
   "source": "# Save scaler\n# joblib.dump(scaler_m, '/work/saved_scalers/svr_scaler_male') \n# joblib.dump(pca, '/work/saved_scalers/svr_pca_male') ",
   "metadata": {
    "cell_id": "dbbf54c218bf45a586ed50efa8f97057",
    "tags": [],
    "deepnote_to_be_reexecuted": false,
    "source_hash": "dcbb15aa",
    "execution_start": 1659723931367,
    "execution_millis": 1,
    "deepnote_cell_type": "code",
    "deepnote_cell_height": 149.1875,
    "deepnote_output_heights": [
     21.1875
    ]
   },
   "outputs": [],
   "execution_count": null
  },
  {
   "cell_type": "code",
   "metadata": {
    "cell_id": "d22e0f4bc4d24bdf8dc39a6f6f02a2b4",
    "tags": [],
    "deepnote_to_be_reexecuted": false,
    "source_hash": "e808532f",
    "execution_start": 1659723931422,
    "execution_millis": 44,
    "deepnote_cell_type": "code",
    "deepnote_cell_height": 207
   },
   "source": "finalDf_m = pd.concat([principalDf_m, data[y_cols]], axis = 1)\nX3_m = finalDf_m.loc[:,'principal_component_1':'principal_component_7']\ny3_m = finalDf_m.loc[:,'motor_UPDRS':'total_UPDRS']\n\nseed=0\ntest_size=0.2\n\nX_train_m, X_test_m, y_train_m, y_test_m = train_test_split(X3_m, y3_m, test_size=test_size, random_state=seed)",
   "outputs": [],
   "execution_count": null
  },
  {
   "cell_type": "code",
   "metadata": {
    "cell_id": "3016c0a07a8b4a9a9ea33379000ff150",
    "tags": [],
    "deepnote_to_be_reexecuted": false,
    "source_hash": "5db2d9f5",
    "execution_start": 1659723931510,
    "execution_millis": 9446,
    "deepnote_cell_type": "code",
    "deepnote_cell_height": 354.140625,
    "deepnote_output_heights": [
     null,
     21.1875
    ]
   },
   "source": "get_metrics2(regressor_male_motor, 0, X_train_m, y_train_m, X_test_m, y_test_m)\nget_metrics2(regressor_male_total, 1, X_train_m, y_train_m, X_test_m, y_test_m)",
   "outputs": [
    {
     "name": "stdout",
     "text": "Motor\nR2_Score: 0.32460518507310077\nMAE: 5.142192157113672\nMSE: 44.126362558091415\nRMSE: 6.642767688101957\nTotal\nR2_Score: 0.2958238506951\nMAE: 6.707986152128333\nMSE: 78.49039357312655\nRMSE: 8.859480434716618\n",
     "output_type": "stream"
    },
    {
     "output_type": "execute_result",
     "execution_count": 34,
     "data": {
      "text/plain": "SVR(gamma=0.6)"
     },
     "metadata": {}
    }
   ],
   "execution_count": null
  },
  {
   "cell_type": "markdown",
   "source": "### Female",
   "metadata": {
    "formattedRanges": [],
    "is_collapsed": false,
    "cell_id": "db5f9aa9d13842e88fa2953299efd2c5",
    "tags": [],
    "deepnote_cell_type": "text-cell-h3"
   }
  },
  {
   "cell_type": "code",
   "metadata": {
    "cell_id": "2200ba95980b4da6bac993e064be2c81",
    "tags": [],
    "deepnote_to_be_reexecuted": false,
    "source_hash": "221bbdf3",
    "execution_start": 1659723940297,
    "execution_millis": 63,
    "deepnote_cell_type": "code",
    "deepnote_cell_height": 166
   },
   "source": "scaler_f = StandardScaler()\n\nX_f = female.loc[:,features].values\ny_f = female.loc[:,y_cols].values\n\nX_f = scaler_f.fit_transform(X2)",
   "outputs": [],
   "execution_count": null
  },
  {
   "cell_type": "code",
   "metadata": {
    "cell_id": "1f4f45aeaae64e6980cadab2fbc1e1e4",
    "tags": [],
    "deepnote_to_be_reexecuted": false,
    "source_hash": "754a5c5c",
    "execution_start": 1659723940366,
    "execution_millis": 331,
    "deepnote_cell_type": "code",
    "deepnote_cell_height": 135
   },
   "source": "pca = PCA(n_components=7)\nprincipalComponents_f = pca.fit_transform(X_f)\nprincipalDf_f = pd.DataFrame(data = principalComponents_f\n             , columns = ['principal_component_1', 'principal_component_2','principal_component_3', 'principal_component_4','principal_component_5','principal_component_6', 'principal_component_7'])",
   "outputs": [],
   "execution_count": null
  },
  {
   "cell_type": "code",
   "source": "# Save scaler\n# joblib.dump(scaler_f, '/work/saved_scalers/svr_scaler_female') \n# joblib.dump(pca, '/work/saved_scalers/svr_pca_female') ",
   "metadata": {
    "cell_id": "3afab20a92f64e7391326d5680f80eb7",
    "tags": [],
    "deepnote_to_be_reexecuted": false,
    "source_hash": "71331849",
    "execution_start": 1659723940758,
    "execution_millis": 3,
    "deepnote_cell_type": "code",
    "deepnote_cell_height": 149.1875,
    "deepnote_output_heights": [
     21.1875
    ]
   },
   "outputs": [],
   "execution_count": null
  },
  {
   "cell_type": "code",
   "metadata": {
    "cell_id": "f3d52da24b4049c4b32d2d831157d987",
    "tags": [],
    "deepnote_to_be_reexecuted": false,
    "source_hash": "1524e2d5",
    "execution_start": 1659723940765,
    "execution_millis": 17,
    "deepnote_cell_type": "code",
    "deepnote_cell_height": 207
   },
   "source": "finalDf_f = pd.concat([principalDf_f, data[y_cols]], axis = 1)\nX3_f = finalDf_f.loc[:,'principal_component_1':'principal_component_7']\ny3_f = finalDf_f.loc[:,'motor_UPDRS':'total_UPDRS']\n\nseed=0\ntest_size=0.2\n\nX_train_f, X_test_f, y_train_f, y_test_f = train_test_split(X3_f, y3_f, test_size=test_size, random_state=seed)",
   "outputs": [],
   "execution_count": null
  },
  {
   "cell_type": "code",
   "metadata": {
    "cell_id": "886c1b111cf4480cb0b63f28f20d6a76",
    "tags": [],
    "deepnote_to_be_reexecuted": false,
    "source_hash": "4f21d1e7",
    "execution_start": 1659723940797,
    "execution_millis": 9577,
    "deepnote_cell_type": "code",
    "deepnote_cell_height": 354.140625,
    "deepnote_output_heights": [
     null,
     21.1875
    ]
   },
   "source": "get_metrics2(regressor_female_motor, 0, X_train_f, y_train_f, X_test_f, y_test_f)\nget_metrics2(regressor_female_total, 1, X_train_f, y_train_f, X_test_f, y_test_f)",
   "outputs": [
    {
     "name": "stdout",
     "text": "Motor\nR2_Score: 0.3246051850731009\nMAE: 5.142192157113669\nMSE: 44.12636255809141\nRMSE: 6.642767688101956\nTotal\nR2_Score: 0.2958238506951\nMAE: 6.707986152128332\nMSE: 78.49039357312655\nRMSE: 8.859480434716618\n",
     "output_type": "stream"
    },
    {
     "output_type": "execute_result",
     "execution_count": 39,
     "data": {
      "text/plain": "SVR(gamma=0.6)"
     },
     "metadata": {}
    }
   ],
   "execution_count": null
  },
  {
   "cell_type": "code",
   "metadata": {
    "cell_id": "d4b32fd6cc094891a5cc6ae2d28ba391",
    "tags": [],
    "deepnote_to_be_reexecuted": false,
    "source_hash": "751a68c8",
    "execution_start": 1659723950376,
    "execution_millis": 1,
    "deepnote_cell_type": "code",
    "deepnote_cell_height": 166,
    "deepnote_output_heights": [
     21.1875
    ]
   },
   "source": "# Save models\n# !mkdir -p ../saved_models\n# joblib.dump(regressor_male_motor, '/work/saved_models/svr_male_motor')\n# joblib.dump(regressor_male_total, '/work/saved_models/svr_male_total')\n# joblib.dump(regressor_female_motor, '/work/saved_models/svr_female_motor')\n# joblib.dump(regressor_female_total, '/work/saved_models/svr_female_total')",
   "outputs": [],
   "execution_count": null
  },
  {
   "cell_type": "markdown",
   "source": "<a style='text-decoration:none;line-height:16px;display:flex;color:#5B5B62;padding:10px;justify-content:end;' href='https://deepnote.com?utm_source=created-in-deepnote-cell&projectId=a3b4f5ce-96b0-4815-84e4-80dc6a795abb' target=\"_blank\">\n<img alt='Created in deepnote.com' style='display:inline;max-height:16px;margin:0px;margin-right:7.5px;' src='data:image/svg+xml;base64,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' > </img>\nCreated in <span style='font-weight:600;margin-left:4px;'>Deepnote</span></a>",
   "metadata": {
    "tags": [],
    "created_in_deepnote_cell": true,
    "deepnote_cell_type": "markdown"
   }
  }
 ],
 "nbformat": 4,
 "nbformat_minor": 2,
 "metadata": {
  "orig_nbformat": 2,
  "deepnote": {},
  "deepnote_notebook_id": "5e95dbb7-4ac0-4738-8b1b-2328cb00808c",
  "deepnote_execution_queue": []
 }
}