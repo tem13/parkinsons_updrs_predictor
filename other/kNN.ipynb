{
 "cells": [
  {
   "cell_type": "markdown",
   "source": "# kNN",
   "metadata": {
    "formattedRanges": [],
    "is_collapsed": false,
    "cell_id": "cd89559d49a74e248570a952cff959c3",
    "tags": [],
    "deepnote_cell_type": "text-cell-h1"
   }
  },
  {
   "cell_type": "code",
   "source": "# Import numerical and dataframe handling\nimport pandas as pd\n# import numpy as np\n\n# Import plotting functionality\nimport matplotlib.pyplot as plt\n\n# scikit-learn data utilities\nfrom sklearn.model_selection import train_test_split\n\n# Model scoring\nfrom sklearn import metrics\nfrom sklearn.metrics import accuracy_score\nfrom sklearn.metrics import r2_score\n\n# Import kNN\nfrom sklearn.neighbors import KNeighborsRegressor\n\n# Import other\n# from sklearn.preprocessing import StandardScaler",
   "metadata": {
    "cell_id": "0279d24304eb4f9598213bf76c7b8373",
    "tags": [],
    "deepnote_to_be_reexecuted": false,
    "source_hash": "cbe701a4",
    "execution_start": 1659722597816,
    "execution_millis": 3266,
    "deepnote_cell_type": "code",
    "deepnote_cell_height": 423
   },
   "outputs": [],
   "execution_count": null
  },
  {
   "cell_type": "markdown",
   "source": "## Data",
   "metadata": {
    "is_collapsed": false,
    "cell_id": "50b8ab37ab0b4e02b39865d9189f1480",
    "tags": [],
    "formattedRanges": [],
    "deepnote_cell_type": "text-cell-h2"
   }
  },
  {
   "cell_type": "code",
   "metadata": {
    "tags": [],
    "cell_id": "5ced0fb9-c7c9-4e33-9176-80c9fa97ccb0",
    "deepnote_to_be_reexecuted": false,
    "source_hash": "107a3a79",
    "execution_start": 1659722601098,
    "execution_millis": 63,
    "deepnote_cell_type": "code",
    "deepnote_cell_height": 81
   },
   "source": "data = pd.read_csv('../data/parkinsons_updrs.data')",
   "outputs": [],
   "execution_count": null
  },
  {
   "cell_type": "code",
   "source": "max_val = 0\nmax_auc = 0\nmax_n = 0\nval_acc = []\nval_auc = []",
   "metadata": {
    "cell_id": "ecca2aa40cd44777966b7c8ac305662e",
    "tags": [],
    "deepnote_to_be_reexecuted": false,
    "source_hash": "f1d4202a",
    "execution_start": 1659722601175,
    "execution_millis": 43,
    "deepnote_cell_type": "code",
    "deepnote_cell_height": 148
   },
   "outputs": [],
   "execution_count": null
  },
  {
   "cell_type": "markdown",
   "source": "## Regression",
   "metadata": {
    "is_collapsed": false,
    "cell_id": "069ccd1b4bfa40598bc1ed98de0e35a3",
    "tags": [],
    "formattedRanges": [],
    "deepnote_cell_type": "text-cell-h2"
   }
  },
  {
   "cell_type": "code",
   "source": "features = ['sex','age', 'Jitter(%)', 'Jitter(Abs)', 'Jitter:RAP', 'Jitter:PPQ5', 'Jitter:DDP', 'Shimmer', 'Shimmer(dB)', 'Shimmer:APQ3', 'Shimmer:APQ5', 'Shimmer:APQ11', 'Shimmer:DDA', 'NHR', 'HNR', 'RPDE', 'DFA', 'PPE']\nfeatures2 = data.loc[:,'Jitter(%)':'PPE']\nfeatures3 = ['age', 'Jitter(%)', 'Jitter(Abs)', 'Jitter:RAP', 'Jitter:PPQ5', 'Jitter:DDP', 'Shimmer', 'Shimmer(dB)', 'Shimmer:APQ3', 'Shimmer:APQ5', 'Shimmer:APQ11', 'Shimmer:DDA', 'NHR', 'HNR', 'RPDE', 'DFA', 'PPE']\nfeatures4 = ['HNR', 'PPE', 'Shimmer:APQ11', 'age']\ntarget = ['motor_UPDRS', 'total_UPDRS']\n\n# X_train, X_test, y_train, y_test = train_test_split(data[features], data[target], test_size=0.2, random_state=0)\n# X_train, X_val, y_train, y_val = train_test_split(X_train, y_train, test_size=.2, random_state=0)\n\ndef split_train_test_dataset(data,k,test_size):\n    X_train, X_val, y_train, y_val = train_test_split(data[features], data[target], test_size=.2, random_state=0)\n\n    knn = KNeighborsRegressor(n_neighbors=k)\n    knn.fit(X_train,y_train)\n\n    return r2_score(y_val,knn.predict(X_val))    ",
   "metadata": {
    "cell_id": "d88787f50d1846809808b48e33743608",
    "tags": [],
    "deepnote_to_be_reexecuted": false,
    "source_hash": "4d6d5b6c",
    "execution_start": 1659722601269,
    "execution_millis": 38,
    "deepnote_cell_type": "code",
    "deepnote_cell_height": 351
   },
   "outputs": [],
   "execution_count": null
  },
  {
   "cell_type": "code",
   "metadata": {
    "cell_id": "72643b3fca6a49eaad33366736803ebb",
    "tags": [],
    "deepnote_to_be_reexecuted": false,
    "source_hash": "c17f985c",
    "execution_start": 1659722601365,
    "execution_millis": 67302,
    "deepnote_cell_type": "code",
    "deepnote_cell_height": 735,
    "deepnote_output_heights": [
     null,
     250
    ]
   },
   "source": "val_acc = 0\nmax_score = 0\nmax_k = 0\ntest_size = 0.2\n\nfor k in range(1,200):\n    # y_val_pred=knn.predict(x_val)\n    # y_acc=accuracy_score(y_val,y_val_pred)\n    # val_acc.append(y_acc)\n    # y_val_pred_proba_knn=knn.predict_proba(X_val)\n\n    score = split_train_test_dataset(data, k, test_size)\n    plt.plot(k,score,color='green', linestyle='solid', linewidth = 3, \n         marker='o')\n    if score > max_score:\n        max_score = score\n        max_k = k\n\nprint(max_score,max_k)\nplt.show()",
   "outputs": [
    {
     "name": "stdout",
     "text": "0.8524202597072703 6\n",
     "output_type": "stream"
    },
    {
     "data": {
      "text/plain": "<Figure size 432x288 with 1 Axes>",
      "image/png": "[encoded data removed]"
     },
     "metadata": {
      "needs_background": "light",
      "image/png": {
       "width": 372,
       "height": 248
      }
     },
     "output_type": "display_data"
    }
   ],
   "execution_count": null
  },
  {
   "cell_type": "markdown",
   "source": "### Split by sex",
   "metadata": {
    "is_collapsed": false,
    "cell_id": "ef2419f5cf9a467c8b0f6a299024a4a5",
    "tags": [],
    "formattedRanges": [],
    "deepnote_cell_type": "text-cell-h3"
   }
  },
  {
   "cell_type": "code",
   "source": "male = data[data['sex'] == 0]\nfemale = data[data['sex'] == 1]",
   "metadata": {
    "cell_id": "6ec9c2646f33462e8d32a88c91233261",
    "tags": [],
    "deepnote_to_be_reexecuted": false,
    "source_hash": "eb0c251",
    "execution_start": 1659722668670,
    "execution_millis": 54,
    "deepnote_cell_type": "code",
    "deepnote_cell_height": 94
   },
   "outputs": [],
   "execution_count": null
  },
  {
   "cell_type": "code",
   "metadata": {
    "cell_id": "a0e9e2b7256147f1826a05fb6725ad5d",
    "tags": [],
    "deepnote_to_be_reexecuted": false,
    "source_hash": "c680ed10",
    "execution_start": 1659722668734,
    "execution_millis": 41646,
    "deepnote_cell_type": "code",
    "deepnote_cell_height": 679,
    "deepnote_output_heights": [
     null,
     266
    ]
   },
   "source": "plt.title('Male')\nfor k in range(1,200):\n    # y_val_pred=knn.predict(x_val)\n    # y_acc=accuracy_score(y_val,y_val_pred)\n    # val_acc.append(y_acc)\n    # y_val_pred_proba_knn=knn.predict_proba(X_val)\n\n    score = split_train_test_dataset(male, k, test_size)\n    plt.plot(k,score,color='green', linestyle='solid', linewidth = 3, \n         marker='o')\n    if score > max_score:\n        max_score = score\n        max_k = k\n\nprint(max_score,max_k)\nplt.show()",
   "outputs": [
    {
     "name": "stdout",
     "text": "0.8524202597072703 6\n",
     "output_type": "stream"
    },
    {
     "data": {
      "text/plain": "<Figure size 432x288 with 1 Axes>",
      "image/png": "[encoded data removed]"
     },
     "metadata": {
      "needs_background": "light",
      "image/png": {
       "width": 372,
       "height": 264
      }
     },
     "output_type": "display_data"
    }
   ],
   "execution_count": null
  },
  {
   "cell_type": "code",
   "metadata": {
    "cell_id": "23da7afa199d4d20af7231e8c696f40f",
    "tags": [],
    "deepnote_to_be_reexecuted": false,
    "source_hash": "30b00b32",
    "execution_start": 1659722710384,
    "execution_millis": 17689,
    "deepnote_cell_type": "code",
    "deepnote_cell_height": 679,
    "deepnote_output_heights": [
     null,
     266
    ]
   },
   "source": "plt.title('Female')\nfor k in range(1,200):\n    # y_val_pred=knn.predict(x_val)\n    # y_acc=accuracy_score(y_val,y_val_pred)\n    # val_acc.append(y_acc)\n    # y_val_pred_proba_knn=knn.predict_proba(X_val)\n\n    score = split_train_test_dataset(female, k, test_size)\n    plt.plot(k,score,color='green', linestyle='solid', linewidth = 3, \n         marker='o')\n    if score > max_score:\n        max_score = score\n        max_k = k\n\nprint(max_score,max_k)\nplt.show()",
   "outputs": [
    {
     "name": "stdout",
     "text": "0.8632300230696799 4\n",
     "output_type": "stream"
    },
    {
     "data": {
      "text/plain": "<Figure size 432x288 with 1 Axes>",
      "image/png": "[encoded data removed]"
     },
     "metadata": {
      "needs_background": "light",
      "image/png": {
       "width": 372,
       "height": 264
      }
     },
     "output_type": "display_data"
    }
   ],
   "execution_count": null
  },
  {
   "cell_type": "markdown",
   "source": "## Classification",
   "metadata": {
    "formattedRanges": [],
    "is_collapsed": false,
    "cell_id": "1c14cabc739b4bc39a54e1e1f2de63b4",
    "tags": [],
    "deepnote_cell_type": "text-cell-h2"
   }
  },
  {
   "cell_type": "code",
   "source": "print(data.total_UPDRS.describe())\nprint(data.motor_UPDRS.describe())\n\n# Going to set the following stages (total_UPDRS):\n# I - [7, 21)\n# II - [21, 27.5)\n# III - [27.5, 36)\n# IV - [36, 55)\n\nstages = []\nfor i in range(data.shape[0]):\n    updrs = data.iloc[i,5]\n\n    if updrs >= 7 and updrs < 21:\n        stages.append(1)\n    elif updrs >= 21 and updrs < 27.5:\n        stages.append(2)\n    elif updrs >= 27.5 and updrs < 36:\n        stages.append(3)\n    else:\n        stages.append(4)\n\ndata['Stages'] = stages\ndata['Stages'].value_counts()",
   "metadata": {
    "cell_id": "d6e93534d2a84291a51481256def7638",
    "tags": [],
    "deepnote_to_be_reexecuted": false,
    "source_hash": "9b81dcbd",
    "execution_start": 1659722728081,
    "execution_millis": 234,
    "deepnote_cell_type": "code",
    "deepnote_cell_height": 989.484375,
    "deepnote_output_heights": [
     null,
     97.96875
    ]
   },
   "outputs": [
    {
     "name": "stdout",
     "text": "count    5875.000000\nmean       29.018942\nstd        10.700283\nmin         7.000000\n25%        21.371000\n50%        27.576000\n75%        36.399000\nmax        54.992000\nName: total_UPDRS, dtype: float64\ncount    5875.000000\nmean       21.296229\nstd         8.129282\nmin         5.037700\n25%        15.000000\n50%        20.871000\n75%        27.596500\nmax        39.511000\nName: motor_UPDRS, dtype: float64\n",
     "output_type": "stream"
    },
    {
     "output_type": "execute_result",
     "execution_count": 9,
     "data": {
      "text/plain": "2    1545\n4    1496\n3    1450\n1    1384\nName: Stages, dtype: int64"
     },
     "metadata": {}
    }
   ],
   "execution_count": null
  },
  {
   "cell_type": "markdown",
   "source": "<a style='text-decoration:none;line-height:16px;display:flex;color:#5B5B62;padding:10px;justify-content:end;' href='https://deepnote.com?utm_source=created-in-deepnote-cell&projectId=a3b4f5ce-96b0-4815-84e4-80dc6a795abb' target=\"_blank\">\n<img alt='Created in deepnote.com' style='display:inline;max-height:16px;margin:0px;margin-right:7.5px;' src='data:image/svg+xml;base64,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' > </img>\nCreated in <span style='font-weight:600;margin-left:4px;'>Deepnote</span></a>",
   "metadata": {
    "tags": [],
    "created_in_deepnote_cell": true,
    "deepnote_cell_type": "markdown"
   }
  }
 ],
 "nbformat": 4,
 "nbformat_minor": 2,
 "metadata": {
  "orig_nbformat": 2,
  "deepnote": {},
  "deepnote_notebook_id": "6b755b44-8c23-4a5f-adc9-b78d0c4ea75f",
  "deepnote_execution_queue": []
 }
}