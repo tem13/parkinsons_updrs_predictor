{
 "cells": [
  {
   "cell_type": "markdown",
   "source": "# Decision Tree/Random Forest",
   "metadata": {
    "formattedRanges": [],
    "is_collapsed": false,
    "cell_id": "23d5244abd1141568fe9e247248fe49f",
    "tags": [],
    "deepnote_cell_type": "text-cell-h1"
   }
  },
  {
   "cell_type": "code",
   "source": "# Import numerical and dataframe handling\nimport pandas as pd\n\n# Import plotting functionality\nimport matplotlib.pyplot as plt\n\n# Import scikit-learn data utilities\nfrom sklearn.model_selection import train_test_split\n\n# Import model scoring\nfrom sklearn import metrics\nfrom sklearn.metrics import accuracy_score\n\n# Import models\nfrom sklearn.ensemble import RandomForestRegressor\nfrom sklearn.tree import DecisionTreeClassifier\n\n# Import other\nfrom sklearn import preprocessing\nfrom sklearn.preprocessing import StandardScaler",
   "metadata": {
    "tags": [],
    "cell_id": "dcd4d1c3-4c26-47cf-916b-60a64009eb60",
    "deepnote_to_be_reexecuted": false,
    "source_hash": "8fe0abe6",
    "execution_start": 1659723778983,
    "execution_millis": 2901,
    "deepnote_cell_type": "code",
    "deepnote_cell_height": 418
   },
   "outputs": [],
   "execution_count": null
  },
  {
   "cell_type": "markdown",
   "source": "## Data",
   "metadata": {
    "is_collapsed": false,
    "cell_id": "1c27fa27146b466c8cfdb8a100d8b189",
    "tags": [],
    "formattedRanges": [],
    "deepnote_cell_type": "text-cell-h2"
   }
  },
  {
   "cell_type": "code",
   "source": "data = pd.read_csv('../data/parkinsons_updrs.data')",
   "metadata": {
    "cell_id": "352bd393e6ea41f08ad0a064aa10e714",
    "tags": [],
    "deepnote_to_be_reexecuted": false,
    "source_hash": "107a3a79",
    "execution_start": 1659723781888,
    "execution_millis": 33,
    "deepnote_cell_type": "code",
    "deepnote_cell_height": 76
   },
   "outputs": [],
   "execution_count": null
  },
  {
   "cell_type": "code",
   "metadata": {
    "cell_id": "3099678e540640929ca199d060ee5055",
    "tags": [],
    "deepnote_to_be_reexecuted": false,
    "source_hash": "69e8e153",
    "execution_start": 1659723781956,
    "execution_millis": 171,
    "deepnote_cell_type": "code",
    "deepnote_cell_height": 567.515625
   },
   "source": "print(data.total_UPDRS.describe())\nprint(data.motor_UPDRS.describe())\n\n#Going to set the following stages (total):\n# I - [7, 21)\n# II - [21, 27.5)\n# III - [27.5, 36)\n# IV - [36, 55)",
   "outputs": [
    {
     "name": "stdout",
     "text": "count    5875.000000\nmean       29.018942\nstd        10.700283\nmin         7.000000\n25%        21.371000\n50%        27.576000\n75%        36.399000\nmax        54.992000\nName: total_UPDRS, dtype: float64\ncount    5875.000000\nmean       21.296229\nstd         8.129282\nmin         5.037700\n25%        15.000000\n50%        20.871000\n75%        27.596500\nmax        39.511000\nName: motor_UPDRS, dtype: float64\n",
     "output_type": "stream"
    }
   ],
   "execution_count": null
  },
  {
   "cell_type": "code",
   "source": "stages = []\n\nfor i in range(data.shape[0]):\n    updrs = data.iloc[i,5]\n\n    if updrs >= 7 and updrs < 21:\n        stages.append(1)\n    elif updrs >= 21 and updrs < 27.5:\n        stages.append(2)\n    elif updrs >= 27.5 and updrs < 36:\n        stages.append(3)\n    else:\n        stages.append(4)\n\ndata['Stages'] = stages\ndata['Stages'].value_counts()",
   "metadata": {
    "cell_id": "4957a73df0ce4fff8f062d5348157d31",
    "tags": [],
    "deepnote_to_be_reexecuted": false,
    "source_hash": "bfb1ce1d",
    "execution_start": 1659723781991,
    "execution_millis": 314,
    "deepnote_cell_type": "code",
    "deepnote_cell_height": 460,
    "deepnote_output_heights": [
     97.96875
    ]
   },
   "outputs": [
    {
     "output_type": "execute_result",
     "execution_count": 4,
     "data": {
      "text/plain": "2    1545\n4    1496\n3    1450\n1    1384\nName: Stages, dtype: int64"
     },
     "metadata": {}
    }
   ],
   "execution_count": null
  },
  {
   "cell_type": "markdown",
   "source": "# Model",
   "metadata": {
    "formattedRanges": [],
    "is_collapsed": false,
    "cell_id": "b530c2e58fb14552b023ce06113a0de2",
    "tags": [],
    "deepnote_cell_type": "text-cell-h1"
   }
  },
  {
   "cell_type": "markdown",
   "source": "## Random Forest (Regressor)",
   "metadata": {
    "formattedRanges": [],
    "is_collapsed": false,
    "cell_id": "34e59d163ecc424f8215e63be53c2930",
    "tags": [],
    "deepnote_cell_type": "text-cell-h2"
   }
  },
  {
   "cell_type": "code",
   "source": "# Important features\nimportant_features1 = ['Shimmer:APQ11', 'HNR', 'RPDE', 'PPE']\nimportant_features2 = ['HNR', 'PPE', 'Shimmer:APQ11', 'age']\ntarget = ['motor_UPDRS', 'total_UPDRS']\n\n# Normalize Data\n# (normalizing data increased r2 from 0.09 to 0.11)\ndata_normalized = preprocessing.normalize(data[important_features2])\n\n# Splitting data\nx_train, x_test, y_train, y_test = train_test_split(data_normalized, data[target], test_size=0.25)\n\nprint(x_train.shape)\nprint(x_test.shape)\nprint(y_train.shape)\nprint(y_test.shape)",
   "metadata": {
    "cell_id": "d06531deec364421a30689b56733b3e1",
    "tags": [],
    "deepnote_to_be_reexecuted": false,
    "source_hash": "67d006b0",
    "execution_start": 1659723782346,
    "execution_millis": 9,
    "deepnote_cell_type": "code",
    "deepnote_cell_height": 440.78125
   },
   "outputs": [
    {
     "name": "stdout",
     "text": "(4406, 4)\n(1469, 4)\n(4406, 2)\n(1469, 2)\n",
     "output_type": "stream"
    }
   ],
   "execution_count": null
  },
  {
   "cell_type": "code",
   "source": "# Finding best max_depth\nmax_d = 0\nmax_value = 0\n\nfor i in range(1,50):\n    rfr = RandomForestRegressor(max_depth=i)\n    rfr.fit(x_train, y_train)\n\n    y_test_pred = rfr.predict(x_test)\n    if metrics.r2_score(y_test_pred, y_test) > max_value:\n        max_d = i\n        max_value = metrics.r2_score(y_test_pred, y_test)\n\nprint(max_value)\nprint(max_d)",
   "metadata": {
    "cell_id": "d4f7230fd17e434fbd48cb4cf0d7247d",
    "tags": [],
    "deepnote_to_be_reexecuted": false,
    "source_hash": "fccf0935",
    "execution_start": 1659723782361,
    "execution_millis": 129768,
    "deepnote_cell_type": "code",
    "deepnote_cell_height": 391
   },
   "outputs": [
    {
     "name": "stdout",
     "text": "0\n0\n",
     "output_type": "stream"
    }
   ],
   "execution_count": null
  },
  {
   "cell_type": "markdown",
   "source": "## Decision Tree (Classifier)",
   "metadata": {
    "formattedRanges": [],
    "is_collapsed": false,
    "cell_id": "10ab2ca9419a4fb5afcb2654dd4e2d72",
    "tags": [],
    "deepnote_cell_type": "text-cell-h2"
   }
  },
  {
   "cell_type": "code",
   "source": "# Important features\nimportant_features1 = ['Shimmer:APQ11', 'HNR', 'RPDE', 'PPE']\nimportant_features2 = ['HNR', 'PPE', 'Shimmer:APQ11', 'age']\ntarget = ['Stages']\n\n# Normalize Data\n# (normalizing data increased r2 from 0.09 to 0.11)\ndata_normalized=preprocessing.normalize(data)\n\n# Splitting data\nx_train, x_test, y_train, y_test = train_test_split(data_normalized, data[target], test_size=0.25)\n\nprint(x_train.shape)\nprint(x_test.shape)\nprint(y_train.shape)\nprint(y_test.shape)",
   "metadata": {
    "cell_id": "27e4dd84dd7543a9baec53d7622668df",
    "tags": [],
    "deepnote_to_be_reexecuted": false,
    "source_hash": "2a1d8704",
    "execution_start": 1659723911403,
    "execution_millis": 762,
    "deepnote_cell_type": "code",
    "deepnote_cell_height": 441
   },
   "outputs": [
    {
     "name": "stdout",
     "text": "(4406, 23)\n(1469, 23)\n(4406, 1)\n(1469, 1)\n",
     "output_type": "stream"
    }
   ],
   "execution_count": null
  },
  {
   "cell_type": "code",
   "source": "# Finding best max_depth\nmax_d = 0\nmax_value = 0\n\nfor i in range(1,200):\n    dtc = DecisionTreeClassifier(max_depth=i)\n    dtc.fit(x_train, y_train)\n\n    y_test_pred = dtc.predict(x_test)\n    if accuracy_score(y_test_pred, y_test) > max_value:\n        max_d = i\n        max_value=accuracy_score(y_test_pred, y_test)\n\nprint(max_value)\nprint(max_d)\n\n# Finding best min_samples_leaf\nmax_value = 0\nmax_leaves = 0\n\nfor i in range(1,200):\n    dtc = DecisionTreeClassifier(min_samples_leaf=i)\n    dtc.fit(x_train, y_train)\n\n    y_test_pred = dtc.predict(x_test)\n    if accuracy_score(y_test_pred, y_test) > max_value:\n        max_leaves = i\n        max_value=accuracy_score(y_test_pred, y_test)\n\nprint(max_value)\nprint(max_leaves)\n\nmax_value = 0\nmax_d = 0\nmax_leaves = 0\n\n# Best combo\nfor i in range(1,50):\n    for k in range(1,50):\n        dtc = DecisionTreeClassifier(max_depth=i, min_samples_leaf=k)\n        dtc.fit(x_train, y_train)\n\n        y_test_pred = dtc.predict(x_test)\n        if accuracy_score(y_test_pred, y_test) > max_value:\n            max_d = i\n            max_leaves = k\n            max_value=accuracy_score(y_test_pred, y_test)\n\nprint(max_value)\nprint(max_d, max_leaves)",
   "metadata": {
    "cell_id": "b349cf699f1245d7908010312877bffd",
    "tags": [],
    "deepnote_to_be_reexecuted": false,
    "source_hash": "ccb483d4",
    "execution_start": 1659723911413,
    "execution_millis": 298635,
    "deepnote_cell_type": "code",
    "deepnote_cell_height": 1092.171875
   },
   "outputs": [
    {
     "name": "stdout",
     "text": "0.9870660313138189\n193\n0.9863852961198094\n1\n0.9870660313138189\n18 1\n",
     "output_type": "stream"
    }
   ],
   "execution_count": null
  },
  {
   "cell_type": "code",
   "source": "final_dtc = DecisionTreeClassifier(max_depth=17, min_samples_leaf=1)\nfinal_dtc.fit(x_train, y_train)\ny_test_pred=final_dtc.predict(x_test)\n\nprint(accuracy_score(y_test, y_test_pred))",
   "metadata": {
    "cell_id": "03bd7805c397448b89c8d750c8e5129b",
    "tags": [],
    "deepnote_to_be_reexecuted": false,
    "source_hash": "672fb6c0",
    "execution_start": 1659724210039,
    "execution_millis": 844,
    "deepnote_cell_type": "code",
    "deepnote_cell_height": 184
   },
   "outputs": [
    {
     "name": "stdout",
     "text": "0.9863852961198094\n",
     "output_type": "stream"
    }
   ],
   "execution_count": null
  },
  {
   "cell_type": "markdown",
   "source": "## Random Forest (Classifier)",
   "metadata": {
    "formattedRanges": [],
    "is_collapsed": false,
    "cell_id": "462ed271579849f7b28f7beffea60c19",
    "tags": [],
    "deepnote_cell_type": "text-cell-h2"
   }
  },
  {
   "cell_type": "code",
   "source": "max_test = 0\nmax_n = 0\ntest_acc = []\n\nfor i in range(1,100):\n    random_forest=RandomForestClassifier(n_estimators=i)\n    random_forest.fit(x_train,y_train)\n\n    y_test_pred = random_forest.predict(x_test)\n    y_acc = accuracy_score(y_test,y_test_pred)\n    test_acc.append(y_acc)\n    if y_acc > max_test:\n        max_test = y_acc\n        max_n = i\n\nprint(max_test)\nprint(max_n)\n\nplt.scatter(range(1,100),test_acc)",
   "metadata": {
    "cell_id": "c6b5bb8ccc034af4825b066842a52809",
    "tags": [],
    "deepnote_to_be_reexecuted": false,
    "source_hash": "aa5947ce",
    "execution_start": 1659724210166,
    "execution_millis": 1271,
    "deepnote_cell_type": "code",
    "deepnote_cell_height": 1359.1875,
    "deepnote_output_heights": [
     null,
     21.1875,
     256
    ]
   },
   "outputs": [
    {
     "output_type": "error",
     "ename": "NameError",
     "evalue": "name 'RandomForestClassifier' is not defined",
     "traceback": [
      "\u001b[0;31m---------------------------------------------------------------------------\u001b[0m",
      "\u001b[0;31mNameError\u001b[0m                                 Traceback (most recent call last)",
      "\u001b[0;32m/tmp/ipykernel_4111/2828069.py\u001b[0m in \u001b[0;36m<module>\u001b[0;34m\u001b[0m\n\u001b[1;32m      4\u001b[0m \u001b[0;34m\u001b[0m\u001b[0m\n\u001b[1;32m      5\u001b[0m \u001b[0;32mfor\u001b[0m \u001b[0mi\u001b[0m \u001b[0;32min\u001b[0m \u001b[0mrange\u001b[0m\u001b[0;34m(\u001b[0m\u001b[0;36m1\u001b[0m\u001b[0;34m,\u001b[0m\u001b[0;36m100\u001b[0m\u001b[0;34m)\u001b[0m\u001b[0;34m:\u001b[0m\u001b[0;34m\u001b[0m\u001b[0;34m\u001b[0m\u001b[0m\n\u001b[0;32m----> 6\u001b[0;31m     \u001b[0mrandom_forest\u001b[0m\u001b[0;34m=\u001b[0m\u001b[0mRandomForestClassifier\u001b[0m\u001b[0;34m(\u001b[0m\u001b[0mn_estimators\u001b[0m\u001b[0;34m=\u001b[0m\u001b[0mi\u001b[0m\u001b[0;34m)\u001b[0m\u001b[0;34m\u001b[0m\u001b[0;34m\u001b[0m\u001b[0m\n\u001b[0m\u001b[1;32m      7\u001b[0m     \u001b[0mrandom_forest\u001b[0m\u001b[0;34m.\u001b[0m\u001b[0mfit\u001b[0m\u001b[0;34m(\u001b[0m\u001b[0mx_train\u001b[0m\u001b[0;34m,\u001b[0m\u001b[0my_train\u001b[0m\u001b[0;34m)\u001b[0m\u001b[0;34m\u001b[0m\u001b[0;34m\u001b[0m\u001b[0m\n\u001b[1;32m      8\u001b[0m \u001b[0;34m\u001b[0m\u001b[0m\n",
      "\u001b[0;31mNameError\u001b[0m: name 'RandomForestClassifier' is not defined"
     ]
    }
   ],
   "execution_count": null
  },
  {
   "cell_type": "code",
   "source": "random_forest = RandomForestClassifier(n_estimators=max_n)\nrandom_forest.fit(x_train,y_train)\nprint(random_forest.feature_importances_)",
   "metadata": {
    "cell_id": "c9abfd0c04834ee5bcd322d1c1476d6c",
    "tags": [],
    "deepnote_to_be_reexecuted": true,
    "source_hash": "60571379",
    "execution_start": 1659475396413,
    "execution_millis": 1144,
    "deepnote_cell_type": "code",
    "deepnote_cell_height": 246
   },
   "execution_count": null,
   "outputs": [
    {
     "name": "stderr",
     "text": "<ipython-input-13-db5dc9d12748>:2: DataConversionWarning: A column-vector y was passed when a 1d array was expected. Please change the shape of y to (n_samples,), for example using ravel().\n  random_forest.fit(x_train,y_train)\n[0.06535328 0.05184032 0.01941121 0.04137748 0.1058937  0.13078959\n 0.00672786 0.0010375  0.00704664 0.00786233 0.00672443 0.00772969\n 0.00754905 0.00656916 0.00913606 0.01139748 0.00737462 0.00548221\n 0.07286825 0.03255638 0.08158917 0.01157699 0.30210662]\n",
     "output_type": "stream"
    }
   ]
  },
  {
   "cell_type": "markdown",
   "source": "<a style='text-decoration:none;line-height:16px;display:flex;color:#5B5B62;padding:10px;justify-content:end;' href='https://deepnote.com?utm_source=created-in-deepnote-cell&projectId=a3b4f5ce-96b0-4815-84e4-80dc6a795abb' target=\"_blank\">\n<img alt='Created in deepnote.com' style='display:inline;max-height:16px;margin:0px;margin-right:7.5px;' src='data:image/svg+xml;base64,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' > </img>\nCreated in <span style='font-weight:600;margin-left:4px;'>Deepnote</span></a>",
   "metadata": {
    "tags": [],
    "created_in_deepnote_cell": true,
    "deepnote_cell_type": "markdown"
   }
  }
 ],
 "nbformat": 4,
 "nbformat_minor": 2,
 "metadata": {
  "orig_nbformat": 2,
  "deepnote": {},
  "deepnote_notebook_id": "8037de55-6e39-49ee-ae4f-ebdae9a84225",
  "deepnote_execution_queue": []
 }
}