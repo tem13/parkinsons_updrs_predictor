{
 "cells": [
  {
   "cell_type": "code",
   "metadata": {
    "tags": [],
    "cell_id": "291d79f3-1473-4f7a-9d32-cde6a61cdbb6",
    "deepnote_to_be_reexecuted": false,
    "source_hash": "1e1d22cc",
    "execution_start": 1659568120121,
    "execution_millis": 969,
    "deepnote_cell_type": "code",
    "deepnote_cell_height": 166
   },
   "source": "# Import numerical and dataframe handling\nimport pandas as pd\n\n# Import plotting functionality\nimport matplotlib.pyplot as plt\nimport matplotlib",
   "execution_count": null,
   "outputs": []
  },
  {
   "cell_type": "code",
   "metadata": {
    "cell_id": "0c237462795841b5a7291672dc31d4d3",
    "tags": [],
    "deepnote_to_be_reexecuted": false,
    "source_hash": "a6cffcd4",
    "execution_start": 1659568121099,
    "execution_millis": 14,
    "deepnote_cell_type": "code",
    "deepnote_cell_height": 166
   },
   "source": "# Set plotting preferences\n%matplotlib inline\nfont = {'family' : 'sans-serif',\n        'weight' : 'normal',\n        'size'   : 16}\nmatplotlib.rc('font', **font)",
   "execution_count": null,
   "outputs": []
  },
  {
   "cell_type": "markdown",
   "source": "## Data",
   "metadata": {
    "formattedRanges": [],
    "is_collapsed": false,
    "cell_id": "7197b8b186c4419d94d17a4cc4b0046d",
    "tags": [],
    "deepnote_cell_type": "text-cell-h2"
   }
  },
  {
   "cell_type": "code",
   "metadata": {
    "cell_id": "67cae2449dba4ddfbc82249d30719a66",
    "tags": [],
    "deepnote_to_be_reexecuted": false,
    "source_hash": "ac5ffa0e",
    "execution_start": 1659568121117,
    "execution_millis": 44,
    "deepnote_cell_type": "code",
    "deepnote_cell_height": 124.6875
   },
   "source": "data = pd.read_csv('./data/parkinsons_updrs.data')\nprint(data.shape)",
   "execution_count": null,
   "outputs": [
    {
     "name": "stdout",
     "text": "(5875, 22)\n",
     "output_type": "stream"
    }
   ]
  },
  {
   "cell_type": "code",
   "metadata": {
    "cell_id": "54e63de8cfe249828ab73cd96aeeb0c6",
    "tags": [],
    "deepnote_to_be_reexecuted": false,
    "source_hash": "41313cfa",
    "execution_start": 1659568121164,
    "execution_millis": 114,
    "deepnote_table_state": {
     "pageSize": 10,
     "pageIndex": 0,
     "filters": [],
     "sortBy": []
    },
    "deepnote_table_loading": false,
    "deepnote_table_invalid": false,
    "deepnote_cell_type": "code",
    "deepnote_cell_height": 390
   },
   "source": "data.head()",
   "execution_count": null,
   "outputs": [
    {
     "output_type": "execute_result",
     "execution_count": 4,
     "data": {
      "application/vnd.deepnote.dataframe.v3+json": {
       "column_count": 22,
       "row_count": 5,
       "columns": [
        {
         "name": "subject#",
         "dtype": "int64",
         "stats": {
          "unique_count": 1,
          "nan_count": 0,
          "min": "1",
          "max": "1",
          "histogram": [
           {
            "bin_start": 0.5,
            "bin_end": 0.6,
            "count": 0
           },
           {
            "bin_start": 0.6,
            "bin_end": 0.7,
            "count": 0
           },
           {
            "bin_start": 0.7,
            "bin_end": 0.8,
            "count": 0
           },
           {
            "bin_start": 0.8,
            "bin_end": 0.9,
            "count": 0
           },
           {
            "bin_start": 0.9,
            "bin_end": 1,
            "count": 0
           },
           {
            "bin_start": 1,
            "bin_end": 1.1,
            "count": 5
           },
           {
            "bin_start": 1.1,
            "bin_end": 1.2000000000000002,
            "count": 0
           },
           {
            "bin_start": 1.2000000000000002,
            "bin_end": 1.3,
            "count": 0
           },
           {
            "bin_start": 1.3,
            "bin_end": 1.4,
            "count": 0
           },
           {
            "bin_start": 1.4,
            "bin_end": 1.5,
            "count": 0
           }
          ]
         }
        },
        {
         "name": "age",
         "dtype": "int64",
         "stats": {
          "unique_count": 1,
          "nan_count": 0,
          "min": "72",
          "max": "72",
          "histogram": [
           {
            "bin_start": 71.5,
            "bin_end": 71.6,
            "count": 0
           },
           {
            "bin_start": 71.6,
            "bin_end": 71.7,
            "count": 0
           },
           {
            "bin_start": 71.7,
            "bin_end": 71.8,
            "count": 0
           },
           {
            "bin_start": 71.8,
            "bin_end": 71.9,
            "count": 0
           },
           {
            "bin_start": 71.9,
            "bin_end": 72,
            "count": 0
           },
           {
            "bin_start": 72,
            "bin_end": 72.1,
            "count": 5
           },
           {
            "bin_start": 72.1,
            "bin_end": 72.2,
            "count": 0
           },
           {
            "bin_start": 72.2,
            "bin_end": 72.3,
            "count": 0
           },
           {
            "bin_start": 72.3,
            "bin_end": 72.4,
            "count": 0
           },
           {
            "bin_start": 72.4,
            "bin_end": 72.5,
            "count": 0
           }
          ]
         }
        },
        {
         "name": "sex",
         "dtype": "int64",
         "stats": {
          "unique_count": 1,
          "nan_count": 0,
          "min": "0",
          "max": "0",
          "histogram": [
           {
            "bin_start": -0.5,
            "bin_end": -0.4,
            "count": 0
           },
           {
            "bin_start": -0.4,
            "bin_end": -0.3,
            "count": 0
           },
           {
            "bin_start": -0.3,
            "bin_end": -0.19999999999999996,
            "count": 0
           },
           {
            "bin_start": -0.19999999999999996,
            "bin_end": -0.09999999999999998,
            "count": 0
           },
           {
            "bin_start": -0.09999999999999998,
            "bin_end": 0,
            "count": 0
           },
           {
            "bin_start": 0,
            "bin_end": 0.10000000000000009,
            "count": 5
           },
           {
            "bin_start": 0.10000000000000009,
            "bin_end": 0.20000000000000007,
            "count": 0
           },
           {
            "bin_start": 0.20000000000000007,
            "bin_end": 0.30000000000000004,
            "count": 0
           },
           {
            "bin_start": 0.30000000000000004,
            "bin_end": 0.4,
            "count": 0
           },
           {
            "bin_start": 0.4,
            "bin_end": 0.5,
            "count": 0
           }
          ]
         }
        },
        {
         "name": "test_time",
         "dtype": "float64",
         "stats": {
          "unique_count": 5,
          "nan_count": 0,
          "min": "5.6431",
          "max": "33.642",
          "histogram": [
           {
            "bin_start": 5.6431,
            "bin_end": 8.44299,
            "count": 1
           },
           {
            "bin_start": 8.44299,
            "bin_end": 11.24288,
            "count": 0
           },
           {
            "bin_start": 11.24288,
            "bin_end": 14.04277,
            "count": 1
           },
           {
            "bin_start": 14.04277,
            "bin_end": 16.842660000000002,
            "count": 0
           },
           {
            "bin_start": 16.842660000000002,
            "bin_end": 19.642550000000004,
            "count": 0
           },
           {
            "bin_start": 19.642550000000004,
            "bin_end": 22.44244,
            "count": 1
           },
           {
            "bin_start": 22.44244,
            "bin_end": 25.242330000000003,
            "count": 0
           },
           {
            "bin_start": 25.242330000000003,
            "bin_end": 28.042220000000004,
            "count": 1
           },
           {
            "bin_start": 28.042220000000004,
            "bin_end": 30.842110000000005,
            "count": 0
           },
           {
            "bin_start": 30.842110000000005,
            "bin_end": 33.642,
            "count": 1
           }
          ]
         }
        },
        {
         "name": "motor_UPDRS",
         "dtype": "float64",
         "stats": {
          "unique_count": 5,
          "nan_count": 0,
          "min": "28.199",
          "max": "29.187",
          "histogram": [
           {
            "bin_start": 28.199,
            "bin_end": 28.297800000000002,
            "count": 1
           },
           {
            "bin_start": 28.297800000000002,
            "bin_end": 28.396600000000003,
            "count": 0
           },
           {
            "bin_start": 28.396600000000003,
            "bin_end": 28.4954,
            "count": 1
           },
           {
            "bin_start": 28.4954,
            "bin_end": 28.5942,
            "count": 0
           },
           {
            "bin_start": 28.5942,
            "bin_end": 28.693,
            "count": 0
           },
           {
            "bin_start": 28.693,
            "bin_end": 28.791800000000002,
            "count": 1
           },
           {
            "bin_start": 28.791800000000002,
            "bin_end": 28.890600000000003,
            "count": 0
           },
           {
            "bin_start": 28.890600000000003,
            "bin_end": 28.9894,
            "count": 1
           },
           {
            "bin_start": 28.9894,
            "bin_end": 29.0882,
            "count": 0
           },
           {
            "bin_start": 29.0882,
            "bin_end": 29.187,
            "count": 1
           }
          ]
         }
        },
        {
         "name": "total_UPDRS",
         "dtype": "float64",
         "stats": {
          "unique_count": 5,
          "nan_count": 0,
          "min": "34.398",
          "max": "36.375",
          "histogram": [
           {
            "bin_start": 34.398,
            "bin_end": 34.5957,
            "count": 1
           },
           {
            "bin_start": 34.5957,
            "bin_end": 34.793400000000005,
            "count": 0
           },
           {
            "bin_start": 34.793400000000005,
            "bin_end": 34.9911,
            "count": 1
           },
           {
            "bin_start": 34.9911,
            "bin_end": 35.1888,
            "count": 0
           },
           {
            "bin_start": 35.1888,
            "bin_end": 35.3865,
            "count": 0
           },
           {
            "bin_start": 35.3865,
            "bin_end": 35.5842,
            "count": 1
           },
           {
            "bin_start": 35.5842,
            "bin_end": 35.7819,
            "count": 0
           },
           {
            "bin_start": 35.7819,
            "bin_end": 35.9796,
            "count": 1
           },
           {
            "bin_start": 35.9796,
            "bin_end": 36.1773,
            "count": 0
           },
           {
            "bin_start": 36.1773,
            "bin_end": 36.375,
            "count": 1
           }
          ]
         }
        },
        {
         "name": "Jitter(%)",
         "dtype": "float64",
         "stats": {
          "unique_count": 5,
          "nan_count": 0,
          "min": "0.003",
          "max": "0.00662",
          "histogram": [
           {
            "bin_start": 0.003,
            "bin_end": 0.003362,
            "count": 2
           },
           {
            "bin_start": 0.003362,
            "bin_end": 0.003724,
            "count": 0
           },
           {
            "bin_start": 0.003724,
            "bin_end": 0.004086,
            "count": 0
           },
           {
            "bin_start": 0.004086,
            "bin_end": 0.0044480000000000006,
            "count": 0
           },
           {
            "bin_start": 0.0044480000000000006,
            "bin_end": 0.00481,
            "count": 0
           },
           {
            "bin_start": 0.00481,
            "bin_end": 0.005172,
            "count": 1
           },
           {
            "bin_start": 0.005172,
            "bin_end": 0.005534000000000001,
            "count": 1
           },
           {
            "bin_start": 0.005534000000000001,
            "bin_end": 0.005896,
            "count": 0
           },
           {
            "bin_start": 0.005896,
            "bin_end": 0.006258,
            "count": 0
           },
           {
            "bin_start": 0.006258,
            "bin_end": 0.00662,
            "count": 1
           }
          ]
         }
        },
        {
         "name": "Jitter(Abs)",
         "dtype": "float64",
         "stats": {
          "unique_count": 5,
          "nan_count": 0,
          "min": "1.68e-05",
          "max": "3.38e-05",
          "histogram": [
           {
            "bin_start": 0.0000168,
            "bin_end": 0.0000185,
            "count": 1
           },
           {
            "bin_start": 0.0000185,
            "bin_end": 0.0000202,
            "count": 1
           },
           {
            "bin_start": 0.0000202,
            "bin_end": 0.000021899999999999997,
            "count": 0
           },
           {
            "bin_start": 0.000021899999999999997,
            "bin_end": 0.000023599999999999998,
            "count": 0
           },
           {
            "bin_start": 0.000023599999999999998,
            "bin_end": 0.0000253,
            "count": 1
           },
           {
            "bin_start": 0.0000253,
            "bin_end": 0.000027,
            "count": 1
           },
           {
            "bin_start": 0.000027,
            "bin_end": 0.0000287,
            "count": 0
           },
           {
            "bin_start": 0.0000287,
            "bin_end": 0.0000304,
            "count": 0
           },
           {
            "bin_start": 0.0000304,
            "bin_end": 0.0000321,
            "count": 0
           },
           {
            "bin_start": 0.0000321,
            "bin_end": 0.0000338,
            "count": 1
           }
          ]
         }
        },
        {
         "name": "Jitter:RAP",
         "dtype": "float64",
         "stats": {
          "unique_count": 5,
          "nan_count": 0,
          "min": "0.00093",
          "max": "0.00401",
          "histogram": [
           {
            "bin_start": 0.00093,
            "bin_end": 0.001238,
            "count": 1
           },
           {
            "bin_start": 0.001238,
            "bin_end": 0.001546,
            "count": 1
           },
           {
            "bin_start": 0.001546,
            "bin_end": 0.001854,
            "count": 0
           },
           {
            "bin_start": 0.001854,
            "bin_end": 0.002162,
            "count": 2
           },
           {
            "bin_start": 0.002162,
            "bin_end": 0.00247,
            "count": 0
           },
           {
            "bin_start": 0.00247,
            "bin_end": 0.002778,
            "count": 0
           },
           {
            "bin_start": 0.002778,
            "bin_end": 0.0030859999999999993,
            "count": 0
           },
           {
            "bin_start": 0.0030859999999999993,
            "bin_end": 0.0033939999999999994,
            "count": 0
           },
           {
            "bin_start": 0.0033939999999999994,
            "bin_end": 0.0037019999999999996,
            "count": 0
           },
           {
            "bin_start": 0.0037019999999999996,
            "bin_end": 0.00401,
            "count": 1
           }
          ]
         }
        },
        {
         "name": "Jitter:PPQ5",
         "dtype": "float64",
         "stats": {
          "unique_count": 5,
          "nan_count": 0,
          "min": "0.0013",
          "max": "0.00317",
          "histogram": [
           {
            "bin_start": 0.0013,
            "bin_end": 0.001487,
            "count": 1
           },
           {
            "bin_start": 0.001487,
            "bin_end": 0.001674,
            "count": 1
           },
           {
            "bin_start": 0.001674,
            "bin_end": 0.001861,
            "count": 0
           },
           {
            "bin_start": 0.001861,
            "bin_end": 0.002048,
            "count": 0
           },
           {
            "bin_start": 0.002048,
            "bin_end": 0.002235,
            "count": 1
           },
           {
            "bin_start": 0.002235,
            "bin_end": 0.002422,
            "count": 0
           },
           {
            "bin_start": 0.002422,
            "bin_end": 0.002609,
            "count": 0
           },
           {
            "bin_start": 0.002609,
            "bin_end": 0.002796,
            "count": 1
           },
           {
            "bin_start": 0.002796,
            "bin_end": 0.0029830000000000004,
            "count": 0
           },
           {
            "bin_start": 0.0029830000000000004,
            "bin_end": 0.00317,
            "count": 1
           }
          ]
         }
        },
        {
         "name": "Jitter:DDP",
         "dtype": "float64",
         "stats": {
          "unique_count": 5,
          "nan_count": 0,
          "min": "0.00278",
          "max": "0.01204",
          "histogram": [
           {
            "bin_start": 0.00278,
            "bin_end": 0.003706,
            "count": 1
           },
           {
            "bin_start": 0.003706,
            "bin_end": 0.004632,
            "count": 1
           },
           {
            "bin_start": 0.004632,
            "bin_end": 0.0055580000000000004,
            "count": 0
           },
           {
            "bin_start": 0.0055580000000000004,
            "bin_end": 0.006484,
            "count": 2
           },
           {
            "bin_start": 0.006484,
            "bin_end": 0.00741,
            "count": 0
           },
           {
            "bin_start": 0.00741,
            "bin_end": 0.008336,
            "count": 0
           },
           {
            "bin_start": 0.008336,
            "bin_end": 0.009262000000000001,
            "count": 0
           },
           {
            "bin_start": 0.009262000000000001,
            "bin_end": 0.010188000000000001,
            "count": 0
           },
           {
            "bin_start": 0.010188000000000001,
            "bin_end": 0.011114,
            "count": 0
           },
           {
            "bin_start": 0.011114,
            "bin_end": 0.01204,
            "count": 1
           }
          ]
         }
        },
        {
         "name": "Shimmer",
         "dtype": "float64",
         "stats": {
          "unique_count": 5,
          "nan_count": 0,
          "min": "0.01675",
          "max": "0.02565",
          "histogram": [
           {
            "bin_start": 0.01675,
            "bin_end": 0.01764,
            "count": 2
           },
           {
            "bin_start": 0.01764,
            "bin_end": 0.01853,
            "count": 0
           },
           {
            "bin_start": 0.01853,
            "bin_end": 0.01942,
            "count": 0
           },
           {
            "bin_start": 0.01942,
            "bin_end": 0.02031,
            "count": 1
           },
           {
            "bin_start": 0.02031,
            "bin_end": 0.0212,
            "count": 0
           },
           {
            "bin_start": 0.0212,
            "bin_end": 0.02209,
            "count": 0
           },
           {
            "bin_start": 0.02209,
            "bin_end": 0.02298,
            "count": 0
           },
           {
            "bin_start": 0.02298,
            "bin_end": 0.02387,
            "count": 1
           },
           {
            "bin_start": 0.02387,
            "bin_end": 0.024759999999999997,
            "count": 0
           },
           {
            "bin_start": 0.024759999999999997,
            "bin_end": 0.02565,
            "count": 1
           }
          ]
         }
        },
        {
         "name": "Shimmer(dB)",
         "dtype": "float64",
         "stats": {
          "unique_count": 5,
          "nan_count": 0,
          "min": "0.176",
          "max": "0.327",
          "histogram": [
           {
            "bin_start": 0.176,
            "bin_end": 0.1911,
            "count": 3
           },
           {
            "bin_start": 0.1911,
            "bin_end": 0.2062,
            "count": 0
           },
           {
            "bin_start": 0.2062,
            "bin_end": 0.2213,
            "count": 0
           },
           {
            "bin_start": 0.2213,
            "bin_end": 0.2364,
            "count": 1
           },
           {
            "bin_start": 0.2364,
            "bin_end": 0.2515,
            "count": 0
           },
           {
            "bin_start": 0.2515,
            "bin_end": 0.2666,
            "count": 0
           },
           {
            "bin_start": 0.2666,
            "bin_end": 0.2817,
            "count": 0
           },
           {
            "bin_start": 0.2817,
            "bin_end": 0.2968,
            "count": 0
           },
           {
            "bin_start": 0.2968,
            "bin_end": 0.3119,
            "count": 0
           },
           {
            "bin_start": 0.3119,
            "bin_end": 0.327,
            "count": 1
           }
          ]
         }
        },
        {
         "name": "Shimmer:APQ3",
         "dtype": "float64",
         "stats": {
          "unique_count": 5,
          "nan_count": 0,
          "min": "0.00679",
          "max": "0.01438",
          "histogram": [
           {
            "bin_start": 0.00679,
            "bin_end": 0.007549,
            "count": 2
           },
           {
            "bin_start": 0.007549,
            "bin_end": 0.008308,
            "count": 0
           },
           {
            "bin_start": 0.008308,
            "bin_end": 0.009067,
            "count": 0
           },
           {
            "bin_start": 0.009067,
            "bin_end": 0.009826,
            "count": 0
           },
           {
            "bin_start": 0.009826,
            "bin_end": 0.010585,
            "count": 1
           },
           {
            "bin_start": 0.010585,
            "bin_end": 0.011344,
            "count": 1
           },
           {
            "bin_start": 0.011344,
            "bin_end": 0.012103,
            "count": 0
           },
           {
            "bin_start": 0.012103,
            "bin_end": 0.012862,
            "count": 0
           },
           {
            "bin_start": 0.012862,
            "bin_end": 0.013621000000000001,
            "count": 0
           },
           {
            "bin_start": 0.013621000000000001,
            "bin_end": 0.01438,
            "count": 1
           }
          ]
         }
        },
        {
         "name": "Shimmer:APQ5",
         "dtype": "float64",
         "stats": {
          "unique_count": 5,
          "nan_count": 0,
          "min": "0.00844",
          "max": "0.01309",
          "histogram": [
           {
            "bin_start": 0.00844,
            "bin_end": 0.008905,
            "count": 1
           },
           {
            "bin_start": 0.008905,
            "bin_end": 0.00937,
            "count": 1
           },
           {
            "bin_start": 0.00937,
            "bin_end": 0.009835,
            "count": 0
           },
           {
            "bin_start": 0.009835,
            "bin_end": 0.0103,
            "count": 0
           },
           {
            "bin_start": 0.0103,
            "bin_end": 0.010765,
            "count": 1
           },
           {
            "bin_start": 0.010765,
            "bin_end": 0.01123,
            "count": 0
           },
           {
            "bin_start": 0.01123,
            "bin_end": 0.011694999999999999,
            "count": 0
           },
           {
            "bin_start": 0.011694999999999999,
            "bin_end": 0.012159999999999999,
            "count": 0
           },
           {
            "bin_start": 0.012159999999999999,
            "bin_end": 0.012624999999999999,
            "count": 0
           },
           {
            "bin_start": 0.012624999999999999,
            "bin_end": 0.01309,
            "count": 2
           }
          ]
         }
        },
        {
         "name": "Shimmer:APQ11",
         "dtype": "float64",
         "stats": {
          "unique_count": 5,
          "nan_count": 0,
          "min": "0.01458",
          "max": "0.01963",
          "histogram": [
           {
            "bin_start": 0.01458,
            "bin_end": 0.015085,
            "count": 1
           },
           {
            "bin_start": 0.015085,
            "bin_end": 0.01559,
            "count": 0
           },
           {
            "bin_start": 0.01559,
            "bin_end": 0.016094999999999998,
            "count": 0
           },
           {
            "bin_start": 0.016094999999999998,
            "bin_end": 0.0166,
            "count": 0
           },
           {
            "bin_start": 0.0166,
            "bin_end": 0.017105000000000002,
            "count": 2
           },
           {
            "bin_start": 0.017105000000000002,
            "bin_end": 0.01761,
            "count": 0
           },
           {
            "bin_start": 0.01761,
            "bin_end": 0.018115,
            "count": 0
           },
           {
            "bin_start": 0.018115,
            "bin_end": 0.01862,
            "count": 1
           },
           {
            "bin_start": 0.01862,
            "bin_end": 0.019125000000000003,
            "count": 0
           },
           {
            "bin_start": 0.019125000000000003,
            "bin_end": 0.01963,
            "count": 1
           }
          ]
         }
        },
        {
         "name": "Shimmer:DDA",
         "dtype": "float64",
         "stats": {
          "unique_count": 5,
          "nan_count": 0,
          "min": "0.02036",
          "max": "0.04314",
          "histogram": [
           {
            "bin_start": 0.02036,
            "bin_end": 0.022638,
            "count": 2
           },
           {
            "bin_start": 0.022638,
            "bin_end": 0.024916,
            "count": 0
           },
           {
            "bin_start": 0.024916,
            "bin_end": 0.027194,
            "count": 0
           },
           {
            "bin_start": 0.027194,
            "bin_end": 0.029471999999999998,
            "count": 0
           },
           {
            "bin_start": 0.029471999999999998,
            "bin_end": 0.03175,
            "count": 1
           },
           {
            "bin_start": 0.03175,
            "bin_end": 0.034027999999999996,
            "count": 1
           },
           {
            "bin_start": 0.034027999999999996,
            "bin_end": 0.036306,
            "count": 0
           },
           {
            "bin_start": 0.036306,
            "bin_end": 0.03858399999999999,
            "count": 0
           },
           {
            "bin_start": 0.03858399999999999,
            "bin_end": 0.040861999999999996,
            "count": 0
           },
           {
            "bin_start": 0.040861999999999996,
            "bin_end": 0.04314,
            "count": 1
           }
          ]
         }
        },
        {
         "name": "NHR",
         "dtype": "float64",
         "stats": {
          "unique_count": 5,
          "nan_count": 0,
          "min": "0.011112",
          "max": "0.027837",
          "histogram": [
           {
            "bin_start": 0.011112,
            "bin_end": 0.0127845,
            "count": 2
           },
           {
            "bin_start": 0.0127845,
            "bin_end": 0.014457000000000001,
            "count": 1
           },
           {
            "bin_start": 0.014457000000000001,
            "bin_end": 0.016129499999999998,
            "count": 0
           },
           {
            "bin_start": 0.016129499999999998,
            "bin_end": 0.017802,
            "count": 0
           },
           {
            "bin_start": 0.017802,
            "bin_end": 0.0194745,
            "count": 0
           },
           {
            "bin_start": 0.0194745,
            "bin_end": 0.021147,
            "count": 1
           },
           {
            "bin_start": 0.021147,
            "bin_end": 0.0228195,
            "count": 0
           },
           {
            "bin_start": 0.0228195,
            "bin_end": 0.024492,
            "count": 0
           },
           {
            "bin_start": 0.024492,
            "bin_end": 0.0261645,
            "count": 0
           },
           {
            "bin_start": 0.0261645,
            "bin_end": 0.027837,
            "count": 1
           }
          ]
         }
        },
        {
         "name": "HNR",
         "dtype": "float64",
         "stats": {
          "unique_count": 5,
          "nan_count": 0,
          "min": "21.64",
          "max": "27.183",
          "histogram": [
           {
            "bin_start": 21.64,
            "bin_end": 22.194300000000002,
            "count": 1
           },
           {
            "bin_start": 22.194300000000002,
            "bin_end": 22.7486,
            "count": 0
           },
           {
            "bin_start": 22.7486,
            "bin_end": 23.3029,
            "count": 1
           },
           {
            "bin_start": 23.3029,
            "bin_end": 23.8572,
            "count": 0
           },
           {
            "bin_start": 23.8572,
            "bin_end": 24.4115,
            "count": 0
           },
           {
            "bin_start": 24.4115,
            "bin_end": 24.9658,
            "count": 1
           },
           {
            "bin_start": 24.9658,
            "bin_end": 25.5201,
            "count": 0
           },
           {
            "bin_start": 25.5201,
            "bin_end": 26.0744,
            "count": 0
           },
           {
            "bin_start": 26.0744,
            "bin_end": 26.6287,
            "count": 1
           },
           {
            "bin_start": 26.6287,
            "bin_end": 27.183,
            "count": 1
           }
          ]
         }
        },
        {
         "name": "RPDE",
         "dtype": "float64",
         "stats": {
          "unique_count": 5,
          "nan_count": 0,
          "min": "0.41888",
          "max": "0.4873",
          "histogram": [
           {
            "bin_start": 0.41888,
            "bin_end": 0.425722,
            "count": 1
           },
           {
            "bin_start": 0.425722,
            "bin_end": 0.432564,
            "count": 0
           },
           {
            "bin_start": 0.432564,
            "bin_end": 0.43940599999999996,
            "count": 1
           },
           {
            "bin_start": 0.43940599999999996,
            "bin_end": 0.446248,
            "count": 0
           },
           {
            "bin_start": 0.446248,
            "bin_end": 0.45309,
            "count": 0
           },
           {
            "bin_start": 0.45309,
            "bin_end": 0.459932,
            "count": 0
           },
           {
            "bin_start": 0.459932,
            "bin_end": 0.466774,
            "count": 1
           },
           {
            "bin_start": 0.466774,
            "bin_end": 0.473616,
            "count": 1
           },
           {
            "bin_start": 0.473616,
            "bin_end": 0.480458,
            "count": 0
           },
           {
            "bin_start": 0.480458,
            "bin_end": 0.4873,
            "count": 1
           }
          ]
         }
        },
        {
         "name": "DFA",
         "dtype": "float64",
         "stats": {
          "unique_count": 5,
          "nan_count": 0,
          "min": "0.54405",
          "max": "0.57794",
          "histogram": [
           {
            "bin_start": 0.54405,
            "bin_end": 0.547439,
            "count": 1
           },
           {
            "bin_start": 0.547439,
            "bin_end": 0.550828,
            "count": 1
           },
           {
            "bin_start": 0.550828,
            "bin_end": 0.5542170000000001,
            "count": 0
           },
           {
            "bin_start": 0.5542170000000001,
            "bin_end": 0.557606,
            "count": 0
           },
           {
            "bin_start": 0.557606,
            "bin_end": 0.560995,
            "count": 0
           },
           {
            "bin_start": 0.560995,
            "bin_end": 0.564384,
            "count": 1
           },
           {
            "bin_start": 0.564384,
            "bin_end": 0.567773,
            "count": 1
           },
           {
            "bin_start": 0.567773,
            "bin_end": 0.5711620000000001,
            "count": 0
           },
           {
            "bin_start": 0.5711620000000001,
            "bin_end": 0.574551,
            "count": 0
           },
           {
            "bin_start": 0.574551,
            "bin_end": 0.57794,
            "count": 1
           }
          ]
         }
        },
        {
         "name": "PPE",
         "dtype": "float64",
         "stats": {
          "unique_count": 5,
          "nan_count": 0,
          "min": "0.1081",
          "max": "0.33277",
          "histogram": [
           {
            "bin_start": 0.1081,
            "bin_end": 0.130567,
            "count": 1
           },
           {
            "bin_start": 0.130567,
            "bin_end": 0.153034,
            "count": 0
           },
           {
            "bin_start": 0.153034,
            "bin_end": 0.17550100000000002,
            "count": 1
           },
           {
            "bin_start": 0.17550100000000002,
            "bin_end": 0.197968,
            "count": 1
           },
           {
            "bin_start": 0.197968,
            "bin_end": 0.220435,
            "count": 1
           },
           {
            "bin_start": 0.220435,
            "bin_end": 0.242902,
            "count": 0
           },
           {
            "bin_start": 0.242902,
            "bin_end": 0.26536899999999997,
            "count": 0
           },
           {
            "bin_start": 0.26536899999999997,
            "bin_end": 0.287836,
            "count": 0
           },
           {
            "bin_start": 0.287836,
            "bin_end": 0.310303,
            "count": 0
           },
           {
            "bin_start": 0.310303,
            "bin_end": 0.33277,
            "count": 1
           }
          ]
         }
        },
        {
         "name": "_deepnote_index_column",
         "dtype": "int64"
        }
       ],
       "rows": [
        {
         "subject#": 1,
         "age": 72,
         "sex": 0,
         "test_time": 5.6431,
         "motor_UPDRS": 28.199,
         "total_UPDRS": 34.398,
         "Jitter(%)": 0.00662,
         "Jitter(Abs)": 0.0000338,
         "Jitter:RAP": 0.00401,
         "Jitter:PPQ5": 0.00317,
         "Jitter:DDP": 0.01204,
         "Shimmer": 0.02565,
         "Shimmer(dB)": 0.23,
         "Shimmer:APQ3": 0.01438,
         "Shimmer:APQ5": 0.01309,
         "Shimmer:APQ11": 0.01662,
         "Shimmer:DDA": 0.04314,
         "NHR": 0.01429,
         "HNR": 21.64,
         "RPDE": 0.41888,
         "DFA": 0.54842,
         "PPE": 0.16006,
         "_deepnote_index_column": 0
        },
        {
         "subject#": 1,
         "age": 72,
         "sex": 0,
         "test_time": 12.666,
         "motor_UPDRS": 28.447,
         "total_UPDRS": 34.894,
         "Jitter(%)": 0.003,
         "Jitter(Abs)": 0.0000168,
         "Jitter:RAP": 0.00132,
         "Jitter:PPQ5": 0.0015,
         "Jitter:DDP": 0.00395,
         "Shimmer": 0.02024,
         "Shimmer(dB)": 0.179,
         "Shimmer:APQ3": 0.00994,
         "Shimmer:APQ5": 0.01072,
         "Shimmer:APQ11": 0.01689,
         "Shimmer:DDA": 0.02982,
         "NHR": 0.011112,
         "HNR": 27.183,
         "RPDE": 0.43493,
         "DFA": 0.56477,
         "PPE": 0.1081,
         "_deepnote_index_column": 1
        },
        {
         "subject#": 1,
         "age": 72,
         "sex": 0,
         "test_time": 19.681,
         "motor_UPDRS": 28.695,
         "total_UPDRS": 35.389,
         "Jitter(%)": 0.00481,
         "Jitter(Abs)": 0.00002462,
         "Jitter:RAP": 0.00205,
         "Jitter:PPQ5": 0.00208,
         "Jitter:DDP": 0.00616,
         "Shimmer": 0.01675,
         "Shimmer(dB)": 0.181,
         "Shimmer:APQ3": 0.00734,
         "Shimmer:APQ5": 0.00844,
         "Shimmer:APQ11": 0.01458,
         "Shimmer:DDA": 0.02202,
         "NHR": 0.02022,
         "HNR": 23.047,
         "RPDE": 0.46222,
         "DFA": 0.54405,
         "PPE": 0.21014,
         "_deepnote_index_column": 2
        },
        {
         "subject#": 1,
         "age": 72,
         "sex": 0,
         "test_time": 25.647,
         "motor_UPDRS": 28.905,
         "total_UPDRS": 35.81,
         "Jitter(%)": 0.00528,
         "Jitter(Abs)": 0.00002657,
         "Jitter:RAP": 0.00191,
         "Jitter:PPQ5": 0.00264,
         "Jitter:DDP": 0.00573,
         "Shimmer": 0.02309,
         "Shimmer(dB)": 0.327,
         "Shimmer:APQ3": 0.01106,
         "Shimmer:APQ5": 0.01265,
         "Shimmer:APQ11": 0.01963,
         "Shimmer:DDA": 0.03317,
         "NHR": 0.027837,
         "HNR": 24.445,
         "RPDE": 0.4873,
         "DFA": 0.57794,
         "PPE": 0.33277,
         "_deepnote_index_column": 3
        },
        {
         "subject#": 1,
         "age": 72,
         "sex": 0,
         "test_time": 33.642,
         "motor_UPDRS": 29.187,
         "total_UPDRS": 36.375,
         "Jitter(%)": 0.00335,
         "Jitter(Abs)": 0.00002014,
         "Jitter:RAP": 0.00093,
         "Jitter:PPQ5": 0.0013,
         "Jitter:DDP": 0.00278,
         "Shimmer": 0.01703,
         "Shimmer(dB)": 0.176,
         "Shimmer:APQ3": 0.00679,
         "Shimmer:APQ5": 0.00929,
         "Shimmer:APQ11": 0.01819,
         "Shimmer:DDA": 0.02036,
         "NHR": 0.011625,
         "HNR": 26.126,
         "RPDE": 0.47188,
         "DFA": 0.56122,
         "PPE": 0.19361,
         "_deepnote_index_column": 4
        }
       ]
      },
      "text/plain": "   subject#  age  sex  test_time  motor_UPDRS  total_UPDRS  Jitter(%)  \\\n0         1   72    0     5.6431       28.199       34.398    0.00662   \n1         1   72    0    12.6660       28.447       34.894    0.00300   \n2         1   72    0    19.6810       28.695       35.389    0.00481   \n3         1   72    0    25.6470       28.905       35.810    0.00528   \n4         1   72    0    33.6420       29.187       36.375    0.00335   \n\n   Jitter(Abs)  Jitter:RAP  Jitter:PPQ5  ...  Shimmer(dB)  Shimmer:APQ3  \\\n0     0.000034     0.00401      0.00317  ...        0.230       0.01438   \n1     0.000017     0.00132      0.00150  ...        0.179       0.00994   \n2     0.000025     0.00205      0.00208  ...        0.181       0.00734   \n3     0.000027     0.00191      0.00264  ...        0.327       0.01106   \n4     0.000020     0.00093      0.00130  ...        0.176       0.00679   \n\n   Shimmer:APQ5  Shimmer:APQ11  Shimmer:DDA       NHR     HNR     RPDE  \\\n0       0.01309        0.01662      0.04314  0.014290  21.640  0.41888   \n1       0.01072        0.01689      0.02982  0.011112  27.183  0.43493   \n2       0.00844        0.01458      0.02202  0.020220  23.047  0.46222   \n3       0.01265        0.01963      0.03317  0.027837  24.445  0.48730   \n4       0.00929        0.01819      0.02036  0.011625  26.126  0.47188   \n\n       DFA      PPE  \n0  0.54842  0.16006  \n1  0.56477  0.10810  \n2  0.54405  0.21014  \n3  0.57794  0.33277  \n4  0.56122  0.19361  \n\n[5 rows x 22 columns]",
      "text/html": "<div>\n<style scoped>\n    .dataframe tbody tr th:only-of-type {\n        vertical-align: middle;\n    }\n\n    .dataframe tbody tr th {\n        vertical-align: top;\n    }\n\n    .dataframe thead th {\n        text-align: right;\n    }\n</style>\n<table border=\"1\" class=\"dataframe\">\n  <thead>\n    <tr style=\"text-align: right;\">\n      <th></th>\n      <th>subject#</th>\n      <th>age</th>\n      <th>sex</th>\n      <th>test_time</th>\n      <th>motor_UPDRS</th>\n      <th>total_UPDRS</th>\n      <th>Jitter(%)</th>\n      <th>Jitter(Abs)</th>\n      <th>Jitter:RAP</th>\n      <th>Jitter:PPQ5</th>\n      <th>...</th>\n      <th>Shimmer(dB)</th>\n      <th>Shimmer:APQ3</th>\n      <th>Shimmer:APQ5</th>\n      <th>Shimmer:APQ11</th>\n      <th>Shimmer:DDA</th>\n      <th>NHR</th>\n      <th>HNR</th>\n      <th>RPDE</th>\n      <th>DFA</th>\n      <th>PPE</th>\n    </tr>\n  </thead>\n  <tbody>\n    <tr>\n      <th>0</th>\n      <td>1</td>\n      <td>72</td>\n      <td>0</td>\n      <td>5.6431</td>\n      <td>28.199</td>\n      <td>34.398</td>\n      <td>0.00662</td>\n      <td>0.000034</td>\n      <td>0.00401</td>\n      <td>0.00317</td>\n      <td>...</td>\n      <td>0.230</td>\n      <td>0.01438</td>\n      <td>0.01309</td>\n      <td>0.01662</td>\n      <td>0.04314</td>\n      <td>0.014290</td>\n      <td>21.640</td>\n      <td>0.41888</td>\n      <td>0.54842</td>\n      <td>0.16006</td>\n    </tr>\n    <tr>\n      <th>1</th>\n      <td>1</td>\n      <td>72</td>\n      <td>0</td>\n      <td>12.6660</td>\n      <td>28.447</td>\n      <td>34.894</td>\n      <td>0.00300</td>\n      <td>0.000017</td>\n      <td>0.00132</td>\n      <td>0.00150</td>\n      <td>...</td>\n      <td>0.179</td>\n      <td>0.00994</td>\n      <td>0.01072</td>\n      <td>0.01689</td>\n      <td>0.02982</td>\n      <td>0.011112</td>\n      <td>27.183</td>\n      <td>0.43493</td>\n      <td>0.56477</td>\n      <td>0.10810</td>\n    </tr>\n    <tr>\n      <th>2</th>\n      <td>1</td>\n      <td>72</td>\n      <td>0</td>\n      <td>19.6810</td>\n      <td>28.695</td>\n      <td>35.389</td>\n      <td>0.00481</td>\n      <td>0.000025</td>\n      <td>0.00205</td>\n      <td>0.00208</td>\n      <td>...</td>\n      <td>0.181</td>\n      <td>0.00734</td>\n      <td>0.00844</td>\n      <td>0.01458</td>\n      <td>0.02202</td>\n      <td>0.020220</td>\n      <td>23.047</td>\n      <td>0.46222</td>\n      <td>0.54405</td>\n      <td>0.21014</td>\n    </tr>\n    <tr>\n      <th>3</th>\n      <td>1</td>\n      <td>72</td>\n      <td>0</td>\n      <td>25.6470</td>\n      <td>28.905</td>\n      <td>35.810</td>\n      <td>0.00528</td>\n      <td>0.000027</td>\n      <td>0.00191</td>\n      <td>0.00264</td>\n      <td>...</td>\n      <td>0.327</td>\n      <td>0.01106</td>\n      <td>0.01265</td>\n      <td>0.01963</td>\n      <td>0.03317</td>\n      <td>0.027837</td>\n      <td>24.445</td>\n      <td>0.48730</td>\n      <td>0.57794</td>\n      <td>0.33277</td>\n    </tr>\n    <tr>\n      <th>4</th>\n      <td>1</td>\n      <td>72</td>\n      <td>0</td>\n      <td>33.6420</td>\n      <td>29.187</td>\n      <td>36.375</td>\n      <td>0.00335</td>\n      <td>0.000020</td>\n      <td>0.00093</td>\n      <td>0.00130</td>\n      <td>...</td>\n      <td>0.176</td>\n      <td>0.00679</td>\n      <td>0.00929</td>\n      <td>0.01819</td>\n      <td>0.02036</td>\n      <td>0.011625</td>\n      <td>26.126</td>\n      <td>0.47188</td>\n      <td>0.56122</td>\n      <td>0.19361</td>\n    </tr>\n  </tbody>\n</table>\n<p>5 rows × 22 columns</p>\n</div>"
     },
     "metadata": {}
    }
   ]
  },
  {
   "cell_type": "code",
   "metadata": {
    "cell_id": "3c15ac2f85684574ab6c6795b7317a54",
    "tags": [],
    "deepnote_to_be_reexecuted": false,
    "source_hash": "c8a8c27a",
    "execution_start": 1659568121324,
    "execution_millis": 5,
    "deepnote_cell_type": "code",
    "deepnote_cell_height": 189.96875,
    "deepnote_output_heights": [
     97.96875
    ]
   },
   "source": "data.columns",
   "execution_count": null,
   "outputs": [
    {
     "output_type": "execute_result",
     "execution_count": 5,
     "data": {
      "text/plain": "Index(['subject#', 'age', 'sex', 'test_time', 'motor_UPDRS', 'total_UPDRS',\n       'Jitter(%)', 'Jitter(Abs)', 'Jitter:RAP', 'Jitter:PPQ5', 'Jitter:DDP',\n       'Shimmer', 'Shimmer(dB)', 'Shimmer:APQ3', 'Shimmer:APQ5',\n       'Shimmer:APQ11', 'Shimmer:DDA', 'NHR', 'HNR', 'RPDE', 'DFA', 'PPE'],\n      dtype='object')"
     },
     "metadata": {}
    }
   ]
  },
  {
   "cell_type": "markdown",
   "source": "### Statistics",
   "metadata": {
    "formattedRanges": [],
    "is_collapsed": false,
    "cell_id": "0f4d533be9d24ae8bfb94966fa6ce384",
    "tags": [],
    "deepnote_cell_type": "text-cell-h3"
   }
  },
  {
   "cell_type": "code",
   "metadata": {
    "cell_id": "41e62f40344f43bab9e6d2a9ca50ea5e",
    "tags": [],
    "deepnote_to_be_reexecuted": false,
    "source_hash": "40a882d9",
    "execution_start": 1659568121325,
    "execution_millis": 5,
    "deepnote_cell_type": "code",
    "deepnote_cell_height": 266.75,
    "deepnote_output_heights": [
     174.75
    ]
   },
   "source": "data.total_UPDRS.describe()",
   "execution_count": null,
   "outputs": [
    {
     "output_type": "execute_result",
     "execution_count": 6,
     "data": {
      "text/plain": "count    5875.000000\nmean       29.018942\nstd        10.700283\nmin         7.000000\n25%        21.371000\n50%        27.576000\n75%        36.399000\nmax        54.992000\nName: total_UPDRS, dtype: float64"
     },
     "metadata": {}
    }
   ]
  },
  {
   "cell_type": "code",
   "metadata": {
    "cell_id": "6ed6964074f64084b662445e5c637ad8",
    "tags": [],
    "deepnote_to_be_reexecuted": false,
    "source_hash": "8e32dc43",
    "execution_start": 1659568121326,
    "execution_millis": 6,
    "deepnote_cell_type": "code",
    "deepnote_cell_height": 266.75,
    "deepnote_output_heights": [
     174.75
    ]
   },
   "source": "data.motor_UPDRS.describe()",
   "execution_count": null,
   "outputs": [
    {
     "output_type": "execute_result",
     "execution_count": 7,
     "data": {
      "text/plain": "count    5875.000000\nmean       21.296229\nstd         8.129282\nmin         5.037700\n25%        15.000000\n50%        20.871000\n75%        27.596500\nmax        39.511000\nName: motor_UPDRS, dtype: float64"
     },
     "metadata": {}
    }
   ]
  },
  {
   "cell_type": "code",
   "metadata": {
    "cell_id": "60ce84a091ed4f4ab9f5f0590b614bdd",
    "tags": [],
    "deepnote_to_be_reexecuted": false,
    "source_hash": "55cd2970",
    "execution_start": 1659568121331,
    "execution_millis": 15,
    "deepnote_table_state": {
     "pageSize": 10,
     "pageIndex": 0,
     "filters": [],
     "sortBy": []
    },
    "deepnote_table_loading": false,
    "deepnote_cell_type": "code",
    "deepnote_cell_height": 611.984375
   },
   "source": "corr = data.corr()\n\nprint(corr.loc['total_UPDRS',])\n\n#Shimmer:APQ11, HNF, RPDE, PPE",
   "execution_count": null,
   "outputs": [
    {
     "name": "stdout",
     "text": "subject#         0.253643\nage              0.310290\nsex             -0.096559\ntest_time        0.075263\nmotor_UPDRS      0.947231\ntotal_UPDRS      1.000000\nJitter(%)        0.074247\nJitter(Abs)      0.066927\nJitter:RAP       0.064015\nJitter:PPQ5      0.063352\nJitter:DDP       0.064027\nShimmer          0.092141\nShimmer(dB)      0.098790\nShimmer:APQ3     0.079363\nShimmer:APQ5     0.083467\nShimmer:APQ11    0.120838\nShimmer:DDA      0.079363\nNHR              0.060952\nHNR             -0.162117\nRPDE             0.156897\nDFA             -0.113475\nPPE              0.156195\nName: total_UPDRS, dtype: float64\n",
     "output_type": "stream"
    }
   ]
  },
  {
   "cell_type": "markdown",
   "source": "### Graphs",
   "metadata": {
    "formattedRanges": [],
    "is_collapsed": false,
    "cell_id": "f7f30fb32ac54e32aeb06cb1ce41fb74",
    "tags": [],
    "deepnote_cell_type": "text-cell-h3"
   }
  },
  {
   "cell_type": "code",
   "metadata": {
    "cell_id": "c117a704e1154992aa1c6e0f84ac3f57",
    "tags": [],
    "deepnote_to_be_reexecuted": false,
    "source_hash": "b9a21b63",
    "execution_start": 1659568121347,
    "execution_millis": 316,
    "deepnote_cell_type": "code",
    "deepnote_cell_height": 399.1875,
    "deepnote_output_heights": [
     21.1875,
     255
    ]
   },
   "source": "data.motor_UPDRS.hist(bins=10)",
   "execution_count": null,
   "outputs": [
    {
     "output_type": "execute_result",
     "execution_count": 9,
     "data": {
      "text/plain": "<AxesSubplot:>"
     },
     "metadata": {}
    },
    {
     "data": {
      "text/plain": "<Figure size 432x288 with 1 Axes>",
      "image/png": "[encoded data removed]"
     },
     "metadata": {
      "needs_background": "light",
      "image/png": {
       "width": 386,
       "height": 253
      }
     },
     "output_type": "display_data"
    }
   ]
  },
  {
   "cell_type": "code",
   "metadata": {
    "cell_id": "bb2020b534bd4e19b71a78f419165ea4",
    "tags": [],
    "deepnote_to_be_reexecuted": false,
    "source_hash": "7172028b",
    "execution_start": 1659568121670,
    "execution_millis": 268,
    "deepnote_cell_type": "code",
    "deepnote_cell_height": 399.1875,
    "deepnote_output_heights": [
     21.1875,
     255
    ]
   },
   "source": "data.total_UPDRS.hist(bins=10)",
   "execution_count": null,
   "outputs": [
    {
     "output_type": "execute_result",
     "execution_count": 10,
     "data": {
      "text/plain": "<AxesSubplot:>"
     },
     "metadata": {}
    },
    {
     "data": {
      "text/plain": "<Figure size 432x288 with 1 Axes>",
      "image/png": "[encoded data removed]"
     },
     "metadata": {
      "needs_background": "light",
      "image/png": {
       "width": 396,
       "height": 253
      }
     },
     "output_type": "display_data"
    }
   ]
  },
  {
   "cell_type": "code",
   "metadata": {
    "cell_id": "57bd6c21724b4b47b2c1f517e0a05386",
    "tags": [],
    "deepnote_to_be_reexecuted": false,
    "source_hash": "cfecdee0",
    "execution_start": 1659568121940,
    "execution_millis": 270,
    "deepnote_cell_type": "code",
    "deepnote_cell_height": 533.5625,
    "deepnote_output_heights": [
     155.5625,
     255
    ]
   },
   "source": "plt.boxplot(data.iloc[1:42, 6])",
   "execution_count": null,
   "outputs": [
    {
     "output_type": "execute_result",
     "execution_count": 11,
     "data": {
      "text/plain": "{'whiskers': [<matplotlib.lines.Line2D at 0x7febbdb514f0>,\n  <matplotlib.lines.Line2D at 0x7febbdb517c0>],\n 'caps': [<matplotlib.lines.Line2D at 0x7febbdb51a90>,\n  <matplotlib.lines.Line2D at 0x7febbdb51d60>],\n 'boxes': [<matplotlib.lines.Line2D at 0x7febbdb51220>],\n 'medians': [<matplotlib.lines.Line2D at 0x7febbdae0070>],\n 'fliers': [<matplotlib.lines.Line2D at 0x7febbdae0340>],\n 'means': []}"
     },
     "metadata": {}
    },
    {
     "data": {
      "text/plain": "<Figure size 432x288 with 1 Axes>",
      "image/png": "[encoded data removed]"
     },
     "metadata": {
      "needs_background": "light",
      "image/png": {
       "width": 401,
       "height": 253
      }
     },
     "output_type": "display_data"
    }
   ]
  },
  {
   "cell_type": "markdown",
   "source": "<a style='text-decoration:none;line-height:16px;display:flex;color:#5B5B62;padding:10px;justify-content:end;' href='https://deepnote.com?utm_source=created-in-deepnote-cell&projectId=a3b4f5ce-96b0-4815-84e4-80dc6a795abb' target=\"_blank\">\n<img alt='Created in deepnote.com' style='display:inline;max-height:16px;margin:0px;margin-right:7.5px;' src='data:image/svg+xml;base64,PD94bWwgdmVyc2lvbj0iMS4wIiBlbmNvZGluZz0iVVRGLTgiPz4KPHN2ZyB3aWR0aD0iODBweCIgaGVpZ2h0PSI4MHB4IiB2aWV3Qm94PSIwIDAgODAgODAiIHZlcnNpb249IjEuMSIgeG1sbnM9Imh0dHA6Ly93d3cudzMub3JnLzIwMDAvc3ZnIiB4bWxuczp4bGluaz0iaHR0cDovL3d3dy53My5vcmcvMTk5OS94bGluayI+CiAgICA8IS0tIEdlbmVyYXRvcjogU2tldGNoIDU0LjEgKDc2NDkwKSAtIGh0dHBzOi8vc2tldGNoYXBwLmNvbSAtLT4KICAgIDx0aXRsZT5Hcm91cCAzPC90aXRsZT4KICAgIDxkZXNjPkNyZWF0ZWQgd2l0aCBTa2V0Y2guPC9kZXNjPgogICAgPGcgaWQ9IkxhbmRpbmciIHN0cm9rZT0ibm9uZSIgc3Ryb2tlLXdpZHRoPSIxIiBmaWxsPSJub25lIiBmaWxsLXJ1bGU9ImV2ZW5vZGQiPgogICAgICAgIDxnIGlkPSJBcnRib2FyZCIgdHJhbnNmb3JtPSJ0cmFuc2xhdGUoLTEyMzUuMDAwMDAwLCAtNzkuMDAwMDAwKSI+CiAgICAgICAgICAgIDxnIGlkPSJHcm91cC0zIiB0cmFuc2Zvcm09InRyYW5zbGF0ZSgxMjM1LjAwMDAwMCwgNzkuMDAwMDAwKSI+CiAgICAgICAgICAgICAgICA8cG9seWdvbiBpZD0iUGF0aC0yMCIgZmlsbD0iIzAyNjVCNCIgcG9pbnRzPSIyLjM3NjIzNzYyIDgwIDM4LjA0NzY2NjcgODAgNTcuODIxNzgyMiA3My44MDU3NTkyIDU3LjgyMTc4MjIgMzIuNzU5MjczOSAzOS4xNDAyMjc4IDMxLjY4MzE2ODMiPjwvcG9seWdvbj4KICAgICAgICAgICAgICAgIDxwYXRoIGQ9Ik0zNS4wMDc3MTgsODAgQzQyLjkwNjIwMDcsNzYuNDU0OTM1OCA0Ny41NjQ5MTY3LDcxLjU0MjI2NzEgNDguOTgzODY2LDY1LjI2MTk5MzkgQzUxLjExMjI4OTksNTUuODQxNTg0MiA0MS42NzcxNzk1LDQ5LjIxMjIyODQgMjUuNjIzOTg0Niw0OS4yMTIyMjg0IEMyNS40ODQ5Mjg5LDQ5LjEyNjg0NDggMjkuODI2MTI5Niw0My4yODM4MjQ4IDM4LjY0NzU4NjksMzEuNjgzMTY4MyBMNzIuODcxMjg3MSwzMi41NTQ0MjUgTDY1LjI4MDk3Myw2Ny42NzYzNDIxIEw1MS4xMTIyODk5LDc3LjM3NjE0NCBMMzUuMDA3NzE4LDgwIFoiIGlkPSJQYXRoLTIyIiBmaWxsPSIjMDAyODY4Ij48L3BhdGg+CiAgICAgICAgICAgICAgICA8cGF0aCBkPSJNMCwzNy43MzA0NDA1IEwyNy4xMTQ1MzcsMC4yNTcxMTE0MzYgQzYyLjM3MTUxMjMsLTEuOTkwNzE3MDEgODAsMTAuNTAwMzkyNyA4MCwzNy43MzA0NDA1IEM4MCw2NC45NjA0ODgyIDY0Ljc3NjUwMzgsNzkuMDUwMzQxNCAzNC4zMjk1MTEzLDgwIEM0Ny4wNTUzNDg5LDc3LjU2NzA4MDggNTMuNDE4MjY3Nyw3MC4zMTM2MTAzIDUzLjQxODI2NzcsNTguMjM5NTg4NSBDNTMuNDE4MjY3Nyw0MC4xMjg1NTU3IDM2LjMwMzk1NDQsMzcuNzMwNDQwNSAyNS4yMjc0MTcsMzcuNzMwNDQwNSBDMTcuODQzMDU4NiwzNy43MzA0NDA1IDkuNDMzOTE5NjYsMzcuNzMwNDQwNSAwLDM3LjczMDQ0MDUgWiIgaWQ9IlBhdGgtMTkiIGZpbGw9IiMzNzkzRUYiPjwvcGF0aD4KICAgICAgICAgICAgPC9nPgogICAgICAgIDwvZz4KICAgIDwvZz4KPC9zdmc+' > </img>\nCreated in <span style='font-weight:600;margin-left:4px;'>Deepnote</span></a>",
   "metadata": {
    "tags": [],
    "created_in_deepnote_cell": true,
    "deepnote_cell_type": "markdown"
   }
  }
 ],
 "nbformat": 4,
 "nbformat_minor": 2,
 "metadata": {
  "orig_nbformat": 2,
  "deepnote": {},
  "deepnote_notebook_id": "c9ba597b-a923-4940-86dd-de09acbc5335",
  "deepnote_execution_queue": []
 }
}