{
 "cells": [
  {
   "cell_type": "markdown",
   "source": "# XGBoost",
   "metadata": {
    "formattedRanges": [],
    "is_collapsed": false,
    "cell_id": "e2cdb0ad29d44786806c4ede2a5b8de0",
    "tags": [],
    "deepnote_cell_type": "text-cell-h1"
   }
  },
  {
   "cell_type": "code",
   "source": "# Import file handling\nimport joblib\n\n# Import numerical and dataframe handling\nimport numpy as np\nimport pandas as pd\n\n# Import scikit-learn data utilities\nfrom sklearn.model_selection import train_test_split\n\n# Import model scoring\nfrom sklearn import metrics\nfrom sklearn.metrics import r2_score\nfrom sklearn.metrics import mean_absolute_error\nfrom sklearn.metrics import mean_squared_error\nfrom sklearn.model_selection import cross_val_score\n\n# Import XGBoost\nimport xgboost\n\n# Import other\nfrom sklearn.preprocessing import StandardScaler\nfrom sklearn.preprocessing import MinMaxScaler\nfrom sklearn.model_selection import RepeatedKFold",
   "metadata": {
    "tags": [],
    "cell_id": "4db412ca-d1a4-4e70-b5a1-3a109b738539",
    "deepnote_to_be_reexecuted": false,
    "source_hash": "cc2aeaba",
    "execution_start": 1659718157306,
    "execution_millis": 2165,
    "deepnote_cell_type": "code",
    "deepnote_cell_height": 490
   },
   "outputs": [],
   "execution_count": null
  },
  {
   "cell_type": "markdown",
   "source": "## Data",
   "metadata": {
    "formattedRanges": [],
    "is_collapsed": false,
    "cell_id": "706ae8d130b049c58d84d1224ded048e",
    "tags": [],
    "deepnote_cell_type": "text-cell-h2"
   }
  },
  {
   "cell_type": "code",
   "source": "data = pd.read_csv('../data/parkinsons_updrs.data')",
   "metadata": {
    "cell_id": "99b11f8069aa405889dceb379ea67d60",
    "tags": [],
    "deepnote_to_be_reexecuted": false,
    "source_hash": "107a3a79",
    "execution_start": 1659718159486,
    "execution_millis": 68,
    "deepnote_cell_type": "code",
    "deepnote_cell_height": 76
   },
   "outputs": [],
   "execution_count": null
  },
  {
   "cell_type": "code",
   "metadata": {
    "cell_id": "d15bb88987a44d4aa65291371a8c2d33",
    "tags": [],
    "deepnote_to_be_reexecuted": false,
    "source_hash": "eb0c251",
    "execution_start": 1659718159574,
    "execution_millis": 16,
    "deepnote_cell_type": "code",
    "deepnote_cell_height": 94
   },
   "source": "male = data[data['sex'] == 0]\nfemale = data[data['sex'] == 1]",
   "outputs": [],
   "execution_count": null
  },
  {
   "cell_type": "code",
   "source": "train_features = ['age', 'Jitter(%)', 'Jitter(Abs)', 'Jitter:RAP', 'Jitter:PPQ5', 'Jitter:DDP', 'Shimmer', 'Shimmer(dB)', 'Shimmer:APQ3', 'Shimmer:APQ5', 'Shimmer:APQ11', 'Shimmer:DDA', 'HNR']\ntarget = ['motor_UPDRS', 'total_UPDRS']",
   "metadata": {
    "cell_id": "b401ed58d04e4262a91431548a8c9667",
    "tags": [],
    "deepnote_to_be_reexecuted": false,
    "source_hash": "3985585f",
    "execution_start": 1659718159602,
    "execution_millis": 2,
    "deepnote_cell_type": "code",
    "deepnote_cell_height": 99
   },
   "outputs": [],
   "execution_count": null
  },
  {
   "cell_type": "markdown",
   "source": "## Model",
   "metadata": {
    "formattedRanges": [],
    "is_collapsed": false,
    "cell_id": "e7bfdee359ad46539484a58b53772a2a",
    "tags": [],
    "deepnote_cell_type": "text-cell-h2"
   }
  },
  {
   "cell_type": "markdown",
   "source": "### Male",
   "metadata": {
    "formattedRanges": [],
    "is_collapsed": false,
    "cell_id": "eaefbcd9373c4374874463f5e346d756",
    "tags": [],
    "deepnote_cell_type": "text-cell-h3"
   }
  },
  {
   "cell_type": "code",
   "source": "scaler_male = MinMaxScaler((-1,1))",
   "metadata": {
    "cell_id": "0304df108777457f8f2295af38bb33b8",
    "tags": [],
    "deepnote_to_be_reexecuted": false,
    "source_hash": "155fd0fe",
    "execution_start": 1659718159618,
    "execution_millis": 2,
    "deepnote_cell_type": "code",
    "deepnote_cell_height": 76
   },
   "outputs": [],
   "execution_count": null
  },
  {
   "cell_type": "code",
   "source": "# Normalize data\ndata_normalized_male = scaler_male.fit_transform(male[train_features])\n\n# Split data\ntest_size = 0.25\n\nx_train_male, x_test_male, y_train_male, y_test_male = train_test_split(data_normalized_male, male[target], test_size=test_size)\nx_train_male, x_val_male, y_train_male, y_val_male = train_test_split(x_train_male, y_train_male, test_size=test_size)",
   "metadata": {
    "cell_id": "47aede5dc9fe4b028930954ef69f9fdc",
    "tags": [],
    "deepnote_to_be_reexecuted": false,
    "source_hash": "6b0ce937",
    "execution_start": 1659718159678,
    "execution_millis": 0,
    "deepnote_cell_type": "code",
    "deepnote_cell_height": 207
   },
   "outputs": [],
   "execution_count": null
  },
  {
   "cell_type": "code",
   "source": "# Save scaler\n# !mkdir -p ../saved_scalers\njoblib.dump(scaler_male, '/work/saved_scalers/xgboost_male')",
   "metadata": {
    "cell_id": "dbfc422caff04dffab342f485eedb3e7",
    "tags": [],
    "deepnote_to_be_reexecuted": false,
    "source_hash": "987a995c",
    "execution_start": 1659718159724,
    "execution_millis": 33,
    "deepnote_cell_type": "code",
    "deepnote_cell_height": 149.1875,
    "deepnote_output_heights": [
     21.1875
    ]
   },
   "outputs": [
    {
     "output_type": "execute_result",
     "execution_count": 7,
     "data": {
      "text/plain": "['/work/saved_scalers/xgboost_male']"
     },
     "metadata": {}
    }
   ],
   "execution_count": null
  },
  {
   "cell_type": "code",
   "source": "# print(x_train_male.shape, y_train_male.shape)\n# print(x_test_male.shape, y_test_male.shape)\n# print(x_val_male.shape, y_val_male.shape)",
   "metadata": {
    "cell_id": "5b5a52df79b14b8d9c0c032b1053046e",
    "tags": [],
    "deepnote_to_be_reexecuted": false,
    "source_hash": "5a5028ec",
    "execution_start": 1659718159768,
    "execution_millis": 3328423,
    "deepnote_cell_type": "code",
    "deepnote_cell_height": 112
   },
   "outputs": [],
   "execution_count": null
  },
  {
   "cell_type": "code",
   "source": "# #Parameters to tinker with: n_estimators, max_depth (1-10), eta, subsample (0-1), colsample_bytree (0-1)\n# model = xgboost.XGBRegressor(eta=.1)\n# model.fit(x_train_male, y_train_male)\n\n# cv = RepeatedKFold(n_splits=10, n_repeats=3, random_state=1)\n# scores = cross_val_score(model, x_train_male, y_train_male, scoring='neg_mean_absolute_error', cv=cv, n_jobs=-1)\n# scores = abs(scores)\n# print('Mean MAE: %.3f (%.3f)' % (scores.mean(), scores.std()) )\n# print(r2_score(y_val_male, model.predict(x_val_male)))",
   "metadata": {
    "cell_id": "30ffbf8f1bb64966961fd8cf7690f4ec",
    "tags": [],
    "deepnote_to_be_reexecuted": false,
    "source_hash": "f2e29dca",
    "execution_start": 1659718159769,
    "execution_millis": 3328466,
    "deepnote_cell_type": "code",
    "deepnote_cell_height": 225
   },
   "outputs": [],
   "execution_count": null
  },
  {
   "cell_type": "code",
   "source": "# max_r2 = 0\n# max_est = 0\n# max_eta = 0\n# r2 = []\n\n# for i in range(1,50):\n#     for k in np.arange(0,1, 0.05):\n#         model = xgboost.XGBRegressor(n_estimators=i, eta=k)\n#         model.fit(x_train_male, y_train_male)\n\n#         r2_value = r2_score(y_val_male, model.predict(x_val_male))\n#         r2.append(r2_value)\n\n#         if r2_value > max_r2:\n#             max_est = i\n#             max_r2 = r2_value\n#             max_eta = k\n\n# print(max_r2, max_est, max_eta, r2)\n\n# Max est: 44, Max eta: 0.15000000000000002",
   "metadata": {
    "cell_id": "a2382ceee4ac45be8f0eb816d2d88b69",
    "tags": [],
    "deepnote_to_be_reexecuted": false,
    "source_hash": "ac7b9ddd",
    "execution_start": 1659718159813,
    "execution_millis": 3328429,
    "deepnote_cell_type": "code",
    "deepnote_cell_height": 436
   },
   "outputs": [],
   "execution_count": null
  },
  {
   "cell_type": "code",
   "source": "# max_r2 = 0\n# max_d = 0\n\n# for i in range(1,20):\n#     model = xgboost.XGBRegressor(n_estimators=48, eta=0.15000000000000002, max_depth=i)\n#     model.fit(x_train_male, y_train_male)\n\n#     r2_value = r2_score(y_val_male, model.predict(x_val_male))\n#     r2.append(r2_value)\n\n#     if r2_value > max_r2:\n#         max_d = i\n#         max_r2 = r2_value\n\n# print(max_r2, max_d)",
   "metadata": {
    "cell_id": "6424c612be05463598cfe82c5b5e70dd",
    "tags": [],
    "deepnote_to_be_reexecuted": false,
    "source_hash": "b825d43d",
    "execution_start": 1659718159814,
    "execution_millis": 3328429,
    "deepnote_cell_type": "code",
    "deepnote_cell_height": 333
   },
   "outputs": [],
   "execution_count": null
  },
  {
   "cell_type": "markdown",
   "source": "### Female",
   "metadata": {
    "formattedRanges": [],
    "is_collapsed": false,
    "cell_id": "840e8faf6f534aecbca65b941bfa6724",
    "tags": [],
    "deepnote_cell_type": "text-cell-h3"
   }
  },
  {
   "cell_type": "code",
   "source": "scaler_female = MinMaxScaler((-1,1))",
   "metadata": {
    "cell_id": "1c6a208b66564daaa58ddae5ecfc587f",
    "tags": [],
    "deepnote_to_be_reexecuted": false,
    "source_hash": "4bf4fb3f",
    "execution_start": 1659718159814,
    "deepnote_cell_type": "code",
    "deepnote_cell_height": 76
   },
   "outputs": [],
   "execution_count": null
  },
  {
   "cell_type": "code",
   "source": "# Normalize data\ndata_normalized_female = scaler_female.fit_transform(female[train_features])\n\n# Split data\ntest_size = 0.25\n\nx_train_female, x_test_female, y_train_female, y_test_female = train_test_split(data_normalized_female, female[target], test_size=test_size)\nx_train_female, x_val_female, y_train_female, y_val_female = train_test_split(x_train_female, y_train_female, test_size=test_size)",
   "metadata": {
    "cell_id": "ab0e5e8fb421438981f829daedaca61c",
    "tags": [],
    "deepnote_to_be_reexecuted": false,
    "source_hash": "1136179a",
    "execution_start": 1659718159824,
    "execution_millis": 38,
    "deepnote_cell_type": "code",
    "deepnote_cell_height": 207
   },
   "outputs": [],
   "execution_count": null
  },
  {
   "cell_type": "code",
   "source": "# Save scaler\n# !mkdir -p ../saved_scalers\njoblib.dump(scaler_female, '/work/saved_scalers/xgboost_female')",
   "metadata": {
    "cell_id": "3ca14ce7336c45478202b35b6e7d1f53",
    "tags": [],
    "deepnote_to_be_reexecuted": false,
    "source_hash": "32ea9699",
    "execution_start": 1659718159868,
    "execution_millis": 19,
    "deepnote_cell_type": "code",
    "deepnote_cell_height": 149.1875,
    "deepnote_output_heights": [
     21.1875
    ]
   },
   "outputs": [
    {
     "output_type": "execute_result",
     "execution_count": 14,
     "data": {
      "text/plain": "['/work/saved_scalers/xgboost_female']"
     },
     "metadata": {}
    }
   ],
   "execution_count": null
  },
  {
   "cell_type": "code",
   "source": "# print(x_train_female.shape, y_train_female.shape)\n# print(x_test_female.shape, y_test_female.shape)\n# print(x_val_female.shape, y_val_female.shape)",
   "metadata": {
    "cell_id": "3264ee14f1294de0943d62b923a10266",
    "tags": [],
    "deepnote_to_be_reexecuted": false,
    "source_hash": "ac6e5b29",
    "execution_start": 1659718159890,
    "execution_millis": 10,
    "deepnote_cell_type": "code",
    "deepnote_cell_height": 112
   },
   "outputs": [],
   "execution_count": null
  },
  {
   "cell_type": "code",
   "source": "# #Parameters to tinker with: n_estimators, max_depth (1-10), eta, subsample (0-1), colsample_bytree (0-1)\n# model = xgboost.XGBRegressor(eta=.1)\n# model.fit(x_train_female, y_train_female)\n\n# cv = RepeatedKFold(n_splits=10, n_repeats=3, random_state=1)\n# scores = cross_val_score(model, x_train_female, y_train_female, scoring='neg_mean_absolute_error', cv=cv, n_jobs=-1)\n# scores = abs(scores)\n# print('Mean MAE: %.3f (%.3f)' % (scores.mean(), scores.std()) )\n# print(r2_score(y_val_female, model.predict(x_val_female)))",
   "metadata": {
    "cell_id": "afb39c647d5f4faa80c226a3f8746b56",
    "tags": [],
    "deepnote_to_be_reexecuted": false,
    "source_hash": "8437e6cd",
    "execution_start": 1659718159906,
    "execution_millis": 3,
    "deepnote_cell_type": "code",
    "deepnote_cell_height": 225
   },
   "outputs": [],
   "execution_count": null
  },
  {
   "cell_type": "code",
   "source": "# max_r2 = 0\n# max_est = 0\n# max_eta = 0\n# r2 = []\n\n# for i in range(1,50):\n#     for k in np.arange(0,1,0.05):\n#         model = xgboost.XGBRegressor(n_estimators=i, eta=k)\n#         model.fit(x_train_female, y_train_female)\n\n#         r2_value = r2_score(y_val_female, model.predict(x_val_female))\n#         r2.append(r2_value)\n\n#         if r2_value > max_r2:\n#             max_est = i\n#             max_r2 = r2_value\n#             max_eta = k\n\n# print(max_r2, max_est, max_eta)\n\n# Max est: 18, Max eta: 0.35000000000000003",
   "metadata": {
    "cell_id": "43ffab49e3234fb58966f710cff7e38b",
    "tags": [],
    "deepnote_to_be_reexecuted": false,
    "source_hash": "15b389e4",
    "execution_start": 1659718159916,
    "execution_millis": 12,
    "deepnote_cell_type": "code",
    "deepnote_cell_height": 436
   },
   "outputs": [],
   "execution_count": null
  },
  {
   "cell_type": "code",
   "source": "# max_r2 = 0\n# max_d = 0\n\n# for i in range(1,20):\n#     model = xgboost.XGBRegressor(n_estimators=49, eta=0.1, max_depth=i)\n#     model.fit(x_train_female, y_train_female)\n\n#     r2_value = r2_score(y_val_female, model.predict(x_val_female))\n#     r2.append(r2_value)\n\n#     if r2_value > max_r2:\n#         max_d = i\n#         max_r2 = r2_value\n\n# print(max_r2, max_d)",
   "metadata": {
    "cell_id": "efa53631ea7040ac9a192286d2e713e5",
    "tags": [],
    "deepnote_to_be_reexecuted": false,
    "source_hash": "a3119ba5",
    "execution_start": 1659718159941,
    "execution_millis": 2,
    "deepnote_cell_type": "code",
    "deepnote_cell_height": 328
   },
   "outputs": [],
   "execution_count": null
  },
  {
   "cell_type": "markdown",
   "source": "## Testing",
   "metadata": {
    "formattedRanges": [],
    "is_collapsed": false,
    "cell_id": "4888f545385e4a82ab5be4853b790f34",
    "tags": [],
    "deepnote_cell_type": "text-cell-h2"
   }
  },
  {
   "cell_type": "code",
   "source": "model_female = xgboost.XGBRegressor(n_estimators=49, eta=0.1, max_depth=4)\nmodel_female.fit(x_train_female, y_train_female)\n\nfemale_predictions = model_female.predict(x_test_female)",
   "metadata": {
    "cell_id": "e6e5d4d4a63e4d18b880bee91f2b8474",
    "tags": [],
    "deepnote_to_be_reexecuted": false,
    "source_hash": "2cdcdbcc",
    "execution_start": 1659718160005,
    "execution_millis": 646,
    "deepnote_cell_type": "code",
    "deepnote_cell_height": 130
   },
   "outputs": [],
   "execution_count": null
  },
  {
   "cell_type": "code",
   "source": "model_male = xgboost.XGBRegressor(n_estimators=49, eta=0.15, max_depth=7)\nmodel_male.fit(x_train_male, y_train_male)\n\nmale_predictions = model_male.predict(x_test_male)",
   "metadata": {
    "cell_id": "0fcef0e0a5d94e378e178efc89e491ce",
    "tags": [],
    "deepnote_to_be_reexecuted": false,
    "source_hash": "607f12e2",
    "execution_start": 1659718160672,
    "execution_millis": 1696,
    "deepnote_cell_type": "code",
    "deepnote_cell_height": 130
   },
   "outputs": [],
   "execution_count": null
  },
  {
   "cell_type": "code",
   "source": "# Save models\n# !mkdir -p ../saved_models\njoblib.dump(model_female, '/work/saved_models/xgboost_female')\njoblib.dump(model_male, '/work/saved_models/xgboost_male')",
   "metadata": {
    "cell_id": "3825da1282c04dbda106897d2f4933ba",
    "tags": [],
    "deepnote_to_be_reexecuted": false,
    "source_hash": "c961cb06",
    "execution_start": 1659718162390,
    "execution_millis": 165,
    "deepnote_cell_type": "code",
    "deepnote_cell_height": 167.1875,
    "deepnote_output_heights": [
     21.1875
    ]
   },
   "outputs": [
    {
     "output_type": "execute_result",
     "execution_count": 21,
     "data": {
      "text/plain": "['/work/saved_models/xgboost_male']"
     },
     "metadata": {}
    }
   ],
   "execution_count": null
  },
  {
   "cell_type": "code",
   "source": "print('Male R2_Score:', r2_score(y_test_male, male_predictions))\nprint('Male MAE:', mean_absolute_error(y_test_male, male_predictions))\nprint('Male MSE:', mean_squared_error(y_test_male, male_predictions))\nprint('Male RMSE:', mean_squared_error(y_test_male, male_predictions, squared=False),'\\n')\n\nprint('Female R2_Score:', r2_score(y_test_female, female_predictions))\nprint('Female MAE:', mean_absolute_error(y_test_female, female_predictions))\nprint('Female MSE:', mean_squared_error(y_test_female, female_predictions))\nprint('Female RMSE:', mean_squared_error(y_test_female, female_predictions, squared=False))",
   "metadata": {
    "cell_id": "10b12be70f1a4633acaca14f234f5ba0",
    "tags": [],
    "deepnote_to_be_reexecuted": false,
    "source_hash": "266c9d69",
    "execution_start": 1659718295279,
    "execution_millis": 63,
    "deepnote_cell_type": "code",
    "deepnote_cell_height": 414.78125
   },
   "outputs": [
    {
     "name": "stdout",
     "text": "Male R2_Score: 0.9038128322405257\nMale MAE: 2.166250101843663\nMale MSE: 8.609510825774194\nMale RMSE: 2.9040892804148264 \n\nFemale R2_Score: 0.9060637578606281\nFemale MAE: 2.2711339064800242\nFemale MSE: 8.319370597285047\nFemale RMSE: 2.8784916064363575\n",
     "output_type": "stream"
    }
   ],
   "execution_count": null
  },
  {
   "cell_type": "markdown",
   "source": "<a style='text-decoration:none;line-height:16px;display:flex;color:#5B5B62;padding:10px;justify-content:end;' href='https://deepnote.com?utm_source=created-in-deepnote-cell&projectId=a3b4f5ce-96b0-4815-84e4-80dc6a795abb' target=\"_blank\">\n<img alt='Created in deepnote.com' style='display:inline;max-height:16px;margin:0px;margin-right:7.5px;' src='data:image/svg+xml;base64,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' > </img>\nCreated in <span style='font-weight:600;margin-left:4px;'>Deepnote</span></a>",
   "metadata": {
    "tags": [],
    "created_in_deepnote_cell": true,
    "deepnote_cell_type": "markdown"
   }
  }
 ],
 "nbformat": 4,
 "nbformat_minor": 2,
 "metadata": {
  "orig_nbformat": 2,
  "deepnote": {},
  "deepnote_notebook_id": "1c4cb442-290c-4532-b07e-1bc6b520c88a",
  "deepnote_execution_queue": []
 }
}